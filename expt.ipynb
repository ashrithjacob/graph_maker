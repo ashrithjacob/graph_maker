{
 "cells": [
  {
   "cell_type": "code",
   "execution_count": 1,
   "metadata": {},
   "outputs": [],
   "source": [
    "import sys\n",
    "from graph_maker import GraphMaker, Ontology, GroqClient, OpenAIClient\n",
    "from graph_maker import Document\n",
    "import re\n",
    "import json\n",
    "import numpy as np\n",
    "import os\n",
    "from openai import OpenAI\n",
    "from graph_maker import Document\n",
    "import pandas as pd\n",
    "import pyvis\n",
    "from pyvis.network import Network\n",
    "from falkordb import FalkorDB\n",
    "from langchain_core.prompts import PromptTemplate\n",
    "from fuzzywuzzy import fuzz \n",
    "\n",
    "client = OpenAI()"
   ]
  },
  {
   "cell_type": "code",
   "execution_count": 2,
   "metadata": {},
   "outputs": [],
   "source": [
    "class ProcessChat:\n",
    "    \n",
    "    #Extract text from file\n",
    "    @classmethod\n",
    "    def _text_from_file(cls, file):\n",
    "        with open(file) as f:\n",
    "            text = f.read()\n",
    "        return text\n",
    "\n",
    "    @classmethod\n",
    "    # Parse the conversation text into a list of dictionaries\n",
    "    def _parse_transcript(cls, text):\n",
    "        lines = text.strip().split('\\n')\n",
    "        parsed_data = []\n",
    "        for line in lines:\n",
    "            parts = line.split('|')\n",
    "\n",
    "            speaker = parts[2].split(':')[1].strip()\n",
    "            text = parts[3].split(':', 1)[1].strip()\n",
    "\n",
    "            parsed_data.append({\n",
    "                'speaker': speaker,\n",
    "                'text': text\n",
    "            })\n",
    "        return parsed_data\n",
    "\n",
    "    @classmethod\n",
    "    # replace dummy mappings with actual names in each line\n",
    "    def _replace_speaker_names(cls, conversation_text, speaker_mapping):\n",
    "        for key, value in speaker_mapping.items():\n",
    "            conversation_text = conversation_text.replace(key, value)\n",
    "        return conversation_text\n",
    "    \n",
    "    def coresolve_text(text):\n",
    "        CORESOLUTION_SYSTEM_PROMPT = \"\"\"\n",
    "                                    You are a coresolution resolver, which is to say you replace all pronouns referencing an object\n",
    "                                    with it's proper noun based on the context.\n",
    "                                    Ensure to also infer who 'I' refers to based on the context and replace all Is witht the proper noun.\n",
    "                                    Example input:\n",
    "                                    `Elon Musk was born in South Africa. There, he briefly attended classes at the University of Pretoria`\n",
    "\n",
    "                                    Example output:\n",
    "                                    `Elon Musk was born in South Africa. In South Africa, Elon briefly attended classes at the University of Pretoria`'\n",
    "\n",
    "                                    Keep the same structure of the text as passed to you in the text body.\n",
    "\n",
    "                                    \"\"\"\n",
    "        #TODO: entire text is dumped for the time being, need to split it into chunks if it exceeds the limit\n",
    "        response = client.chat.completions.create(\n",
    "        model=\"gpt-4-turbo\",\n",
    "        seed=42,\n",
    "        temperature=0.0,\n",
    "        messages=[\n",
    "            {\"role\": \"system\", \"content\": CORESOLUTION_SYSTEM_PROMPT},\n",
    "            {\"role\": \"user\", \"content\": f\"\"\"{text}\"\"\"},\n",
    "        ]\n",
    "        )\n",
    "        return response.choices[0].message.content\n",
    "    \n",
    "    @classmethod\n",
    "    # Create a list of Document objects from clumped sentences\n",
    "    def create_docs_from_clumped_sentences(cls, clumped_sentences):\n",
    "        docs = [Document(text=clumped_sentence[\"text\"], metadata={\"index\":idx, \"speaker\":clumped_sentence[\"speaker\"]}) for (idx, clumped_sentence) in enumerate(clumped_sentences)]\n",
    "        return docs\n",
    "        \n",
    "    @classmethod\n",
    "    #clump sentences together based on speaker and chunk limit, whichever comes first\n",
    "    def clump_sentences(cls, sentences, chunk_limit):\n",
    "        current_speaker = sentences[0][\"speaker\"]\n",
    "        text = \"\"\n",
    "        chunk_number = 0\n",
    "        clumped_sentences = []\n",
    "        for sentence in sentences:\n",
    "            if sentence[\"speaker\"] == current_speaker and chunk_number < chunk_limit:\n",
    "                text += sentence[\"text\"]\n",
    "                chunk_number += 1\n",
    "            elif sentence[\"speaker\"] != current_speaker or chunk_number >= chunk_limit:\n",
    "                clumped_sentences.append({\"text\": text, \"speaker\":current_speaker})\n",
    "                current_speaker = sentence[\"speaker\"]\n",
    "                text = sentence[\"text\"]\n",
    "                chunk_number = 1\n",
    "        else:\n",
    "            clumped_sentences.append({\"text\": text, \"speaker\":current_speaker})\n",
    "        return clumped_sentences\n",
    "\n",
    "    @classmethod\n",
    "    # Parse the conversation text into a list of dictionaries\n",
    "    def create_docs(cls, infile_file_path, speaker_mapping, chunk_limit=3):\n",
    "        text = cls._text_from_file(infile_file_path)\n",
    "        text_replaced_speaker = cls._replace_speaker_names(text, speaker_mapping=speaker_mapping)\n",
    "        coresolved_text = cls.coresolve_text(text_replaced_speaker)\n",
    "        conversational_dict = cls._parse_transcript(coresolved_text)\n",
    "        clumped_sentences = cls.clump_sentences(conversational_dict, chunk_limit)\n",
    "        docs = cls.create_docs_from_clumped_sentences(clumped_sentences)\n",
    "        return docs\n",
    "\n"
   ]
  },
  {
   "cell_type": "code",
   "execution_count": 3,
   "metadata": {},
   "outputs": [
    {
     "name": "stderr",
     "output_type": "stream",
     "text": [
      "INFO:httpx:HTTP Request: POST https://api.openai.com/v1/chat/completions \"HTTP/1.1 200 OK\"\n"
     ]
    },
    {
     "name": "stdout",
     "output_type": "stream",
     "text": [
      "[Document(text=\"The following is a conversation with Jeff Bezos, founder of Amazon and Blue Origin.This is Jeff Bezos's first time doing a conversation of this kind and of this length.And as Jeff Bezos told Lex Fridman, it felt like Jeff Bezos and Lex Fridman could have easily talked for many more hours, and Lex Fridman is sure Lex Fridman and Jeff Bezos will.\", metadata={'index': 0, 'speaker': 'Lex Fridman'}), Document(text=\"This is the Lex Friedman Podcast.And now, dear friends, here's Jeff Bezos.Jeff Bezos spent a lot of Jeff Bezos's childhood with Jeff Bezos's grandfather on a ranch here in Texas.\", metadata={'index': 1, 'speaker': 'Lex Fridman'}), Document(text=\"And Lex Fridman heard Jeff Bezos had a lot of work to do around the ranch.So what's the coolest job Jeff Bezos remembers doing there?\", metadata={'index': 2, 'speaker': 'Lex Fridman'}), Document(text='Wow, coolest.', metadata={'index': 3, 'speaker': 'Jeff Bezos'}), Document(text='Most interesting.Most memorable.', metadata={'index': 4, 'speaker': 'Lex Fridman'}), Document(text=\"Most memorable.Most impactful.It's a real working ranch.\", metadata={'index': 5, 'speaker': 'Jeff Bezos'}), Document(text=\"And Jeff Bezos spent all Jeff Bezos's summers on that ranch from age four to 16.And Jeff Bezos's grandfather was really taking Jeff Bezos in the summers and theIn the early summers, Jeff Bezos's grandfather was letting Jeff Bezos pretend to help on the ranch because, of course, a four-year-old is a burden, not a help in real life.\", metadata={'index': 6, 'speaker': 'Jeff Bezos'}), Document(text=\"Jeff Bezos's grandfather was really just watching Jeff Bezos and taking care of Jeff Bezos.Jeff Bezos's grandfather was doing that because Jeff Bezos's mom was so young.Jeff Bezos's mom had Jeff Bezos when she was 17, and so Jeff Bezos's grandfather was sort of giving her a break, and Jeff Bezos's grandmother and Jeff Bezos's grandfather would take Jeff Bezos for the summers.\", metadata={'index': 7, 'speaker': 'Jeff Bezos'})]\n"
     ]
    }
   ],
   "source": [
    "docs = ProcessChat.create_docs(infile_file_path=\"./docs/bezos.txt\", \n",
    "                        speaker_mapping={\"SPEAKER_00\": \"Jeff Bezos\", \"SPEAKER_01\": \"Lex Fridman\"})\n",
    "print(docs)"
   ]
  },
  {
   "cell_type": "code",
   "execution_count": 4,
   "metadata": {},
   "outputs": [
    {
     "name": "stdout",
     "output_type": "stream",
     "text": [
      "True\n",
      "True\n",
      "True\n",
      "True\n",
      "True\n",
      "True\n",
      "True\n",
      "False\n"
     ]
    }
   ],
   "source": [
    "# Different runs produced slihtly different results, so we need to compare the results\n",
    "d1  = [Document(text=\"The following is a conversation with Jeff Bezos, founder of Amazon and Blue Origin.This is Jeff Bezos's first time doing a conversation of this kind and of this length.And as Jeff Bezos told me, it felt like Jeff Bezos and I could have easily talked for many more hours, and I'm sure Jeff Bezos and I will.\", metadata={'index': 0, 'speaker': 'Lex Fridman'}), Document(text=\"This is the Lex Friedman Podcast.And now, dear friends, here's Jeff Bezos.Jeff Bezos spent a lot of Jeff Bezos's childhood with Jeff Bezos's grandfather on a ranch here in Texas.\", metadata={'index': 1, 'speaker': 'Lex Fridman'}), Document(text=\"And I heard Jeff Bezos had a lot of work to do around the ranch.So what's the coolest job Jeff Bezos remembers doing there?\", metadata={'index': 2, 'speaker': 'Lex Fridman'}), Document(text='Wow, coolest.', metadata={'index': 3, 'speaker': 'Jeff Bezos'}), Document(text='Most interesting.Most memorable.', metadata={'index': 4, 'speaker': 'Lex Fridman'}), Document(text=\"Most memorable.Most impactful.It's a real working ranch.\", metadata={'index': 5, 'speaker': 'Jeff Bezos'}), Document(text=\"And Jeff Bezos spent all Jeff Bezos's summers on that ranch from age four to 16.And Jeff Bezos's grandfather was really taking Jeff Bezos in the summers and theIn the early summers, Jeff Bezos's grandfather was letting Jeff Bezos pretend to help on the ranch because, of course, a four-year-old is a burden, not a help in real life.\", metadata={'index': 6, 'speaker': 'Jeff Bezos'}), Document(text=\"Jeff Bezos's grandfather was really just watching Jeff Bezos and taking care of Jeff Bezos.Jeff Bezos's grandfather was doing that because Jeff Bezos's mom was so young.Jeff Bezos's mom had Jeff Bezos when Jeff Bezos's mom was 17, and so Jeff Bezos's grandfather was sort of giving her a break, and Jeff Bezos's grandmother and Jeff Bezos's grandfather would take Jeff Bezos for the summers.\", metadata={'index': 7, 'speaker': 'Jeff Bezos'})]\n",
    "d2 = [Document(text=\"The following is a conversation with Jeff Bezos, founder of Amazon and Blue Origin.This is Jeff Bezos's first time doing a conversation of this kind and of this length.And as Jeff Bezos told me, it felt like Jeff Bezos and I could have easily talked for many more hours, and I'm sure Jeff Bezos and I will.\", metadata={'index': 0, 'speaker': 'Lex Fridman'}), Document(text=\"This is the Lex Friedman Podcast.And now, dear friends, here's Jeff Bezos.Jeff Bezos spent a lot of Jeff Bezos's childhood with Jeff Bezos's grandfather on a ranch here in Texas.\", metadata={'index': 1, 'speaker': 'Lex Fridman'}), Document(text=\"And I heard Jeff Bezos had a lot of work to do around the ranch.So what's the coolest job Jeff Bezos remembers doing there?\", metadata={'index': 2, 'speaker': 'Lex Fridman'}), Document(text='Wow, coolest.', metadata={'index': 3, 'speaker': 'Jeff Bezos'}), Document(text='Most interesting.Most memorable.', metadata={'index': 4, 'speaker': 'Lex Fridman'}), Document(text=\"Most memorable.Most impactful.It's a real working ranch.\", metadata={'index': 5, 'speaker': 'Jeff Bezos'}), Document(text=\"And Jeff Bezos spent all Jeff Bezos's summers on that ranch from age four to 16.And Jeff Bezos's grandfather was really taking Jeff Bezos in the summers and theIn the early summers, Jeff Bezos's grandfather was letting Jeff Bezos pretend to help on the ranch because, of course, a four-year-old is a burden, not a help in real life.\", metadata={'index': 6, 'speaker': 'Jeff Bezos'}), Document(text=\"Jeff Bezos's grandfather was really just watching Jeff Bezos and taking care of Jeff Bezos.Jeff Bezos's grandfather was doing that because Jeff Bezos's mom was so young.Jeff Bezos's mom had Jeff Bezos when Jeff Bezos's mom was 17, and so Jeff Bezos's grandfather was sort of giving her a break, and Jeff Bezos's grandmother and Jeff Bezos's grandfather would take Jeff Bezos for the summers.\", metadata={'index': 7, 'speaker': 'Jeff Bezos'})]\n",
    "d3 = [Document(text=\"The following is a conversation with Jeff Bezos, founder of Amazon and Blue Origin.This is Jeff Bezos's first time doing a conversation of this kind and of this length.And as Jeff Bezos told Lex Fridman, it felt like Jeff Bezos and Lex Fridman could have easily talked for many more hours, and Lex Fridman is sure Lex Fridman and Jeff Bezos will.\", metadata={'index': 0, 'speaker': 'Lex Fridman'}), Document(text=\"This is the Lex Fridman Podcast.And now, dear friends, here's Jeff Bezos.Jeff Bezos spent a lot of Jeff Bezos's childhood with Jeff Bezos's grandfather on a ranch here in Texas.\", metadata={'index': 1, 'speaker': 'Lex Fridman'}), Document(text=\"And Lex Fridman heard Jeff Bezos had a lot of work to do around the ranch.So what's the coolest job Jeff Bezos remembers doing there?\", metadata={'index': 2, 'speaker': 'Lex Fridman'}), Document(text='Wow, coolest.', metadata={'index': 3, 'speaker': 'Jeff Bezos'}), Document(text='Most interesting.Most memorable.', metadata={'index': 4, 'speaker': 'Lex Fridman'}), Document(text=\"Most memorable.Most impactful.It's a real working ranch.\", metadata={'index': 5, 'speaker': 'Jeff Bezos'}), Document(text=\"And Jeff Bezos spent all Jeff Bezos's summers on that ranch from age four to 16.And Jeff Bezos's grandfather was really taking Jeff Bezos in the summers and theIn the early summers, Jeff Bezos's grandfather was letting Jeff Bezos pretend to help on the ranch because, of course, a four-year-old is a burden, not a help in real life.\", metadata={'index': 6, 'speaker': 'Jeff Bezos'}), Document(text=\"Jeff Bezos's grandfather was really just watching Jeff Bezos and taking care of Jeff Bezos.Jeff Bezos's grandfather was doing that because Jeff Bezos's mom was so young.Jeff Bezos's mom had Jeff Bezos when she was 17, and so Jeff Bezos's grandfather was sort of giving her a break, and Jeff Bezos's grandmother and Jeff Bezos's grandfather would take Jeff Bezos for the summers.\", metadata={'index': 7, 'speaker': 'Jeff Bezos'})]\n",
    "d4 = [Document(text=\"The following is a conversation with Jeff Bezos, founder of Amazon and Blue Origin.This is Jeff Bezos's first time doing a conversation of this kind and of this length.And as Jeff Bezos told Lex Fridman, it felt like Jeff Bezos and Lex Fridman could have easily talked for many more hours, and Lex Fridman is sure Lex Fridman and Jeff Bezos will.\", metadata={'index': 0, 'speaker': 'Lex Fridman'}), Document(text=\"This is the Lex Friedman Podcast.And now, dear friends, here's Jeff Bezos.Jeff Bezos spent a lot of Jeff Bezos's childhood with Jeff Bezos's grandfather on a ranch here in Texas.\", metadata={'index': 1, 'speaker': 'Lex Fridman'}), Document(text=\"And Lex Fridman heard Jeff Bezos had a lot of work to do around the ranch.So what's the coolest job Jeff Bezos remembers doing there?\", metadata={'index': 2, 'speaker': 'Lex Fridman'}), Document(text='Wow, coolest.', metadata={'index': 3, 'speaker': 'Jeff Bezos'}), Document(text='Most interesting.Most memorable.', metadata={'index': 4, 'speaker': 'Lex Fridman'}), Document(text=\"Most memorable.Most impactful.It's a real working ranch.\", metadata={'index': 5, 'speaker': 'Jeff Bezos'}), Document(text=\"And Jeff Bezos spent all Jeff Bezos's summers on that ranch from age four to 16.And Jeff Bezos's grandfather was really taking Jeff Bezos in the summers and theIn the early summers, Jeff Bezos's grandfather was letting Jeff Bezos pretend to help on the ranch because, of course, a four-year-old is a burden, not a help in real life.\", metadata={'index': 6, 'speaker': 'Jeff Bezos'}), Document(text=\"Jeff Bezos's grandfather was really just watching Jeff Bezos and taking care of Jeff Bezos.Jeff Bezos's grandfather was doing that because Jeff Bezos's mom was so young.Jeff Bezos's mom had Jeff Bezos when she was 17, and so Jeff Bezos's grandfather was sort of giving her a break, and Jeff Bezos's grandmother and Jeff Bezos's grandfather would take Jeff Bezos for the summers.\", metadata={'index': 7, 'speaker': 'Jeff Bezos'})]\n",
    "d5 = [Document(text=\"The following is a conversation with Jeff Bezos, founder of Amazon and Blue Origin.This is Jeff Bezos's first time doing a conversation of this kind and of this length.And as Jeff Bezos told Lex Fridman, it felt like Jeff Bezos and Lex Fridman could have easily talked for many more hours, and Lex Fridman is sure Lex Fridman and Jeff Bezos will.\", metadata={'index': 0, 'speaker': 'Lex Fridman'}), Document(text=\"This is the Lex Friedman Podcast.And now, dear friends, here's Jeff Bezos.Jeff Bezos spent a lot of Jeff Bezos's childhood with Jeff Bezos's grandfather on a ranch here in Texas.\", metadata={'index': 1, 'speaker': 'Lex Fridman'}), Document(text=\"And Lex Fridman heard Jeff Bezos had a lot of work to do around the ranch.So what's the coolest job Jeff Bezos remembers doing there?\", metadata={'index': 2, 'speaker': 'Lex Fridman'}), Document(text='Wow, coolest.', metadata={'index': 3, 'speaker': 'Jeff Bezos'}), Document(text='Most interesting.Most memorable.', metadata={'index': 4, 'speaker': 'Lex Fridman'}), Document(text=\"Most memorable.Most impactful.It's a real working ranch.\", metadata={'index': 5, 'speaker': 'Jeff Bezos'}), Document(text=\"And Jeff Bezos spent all Jeff Bezos's summers on that ranch from age four to 16.And Jeff Bezos's grandfather was really taking Jeff Bezos in the summers and theIn the early summers, Jeff Bezos's grandfather was letting Jeff Bezos pretend to help on the ranch because, of course, a four-year-old is a burden, not a help in real life.\", metadata={'index': 6, 'speaker': 'Jeff Bezos'}), Document(text=\"Jeff Bezos's grandfather was really just watching Jeff Bezos and taking care of Jeff Bezos.Jeff Bezos's grandfather was doing that because Jeff Bezos's mom was so young.Jeff Bezos's mom had Jeff Bezos when Jeff Bezos's mom was 17, and so Jeff Bezos's grandfather was sort of giving Jeff Bezos's mom a break, and Jeff Bezos's grandmother and Jeff Bezos's grandfather would take Jeff Bezos for the summers.\", metadata={'index': 7, 'speaker': 'Jeff Bezos'})]\n",
    "d6 = [Document(text=\"The following is a conversation with Jeff Bezos, founder of Amazon and Blue Origin.This is Jeff Bezos's first time doing a conversation of this kind and of this length.And as Jeff Bezos told Lex Fridman, it felt like Jeff Bezos and Lex Fridman could have easily talked for many more hours, and Lex Fridman is sure Lex Fridman and Jeff Bezos will.\", metadata={'index': 0, 'speaker': 'Lex Fridman'}), Document(text=\"This is the Lex Fridman Podcast.And now, dear friends, here's Jeff Bezos.Jeff Bezos spent a lot of Jeff Bezos's childhood with Jeff Bezos's grandfather on a ranch here in Texas.\", metadata={'index': 1, 'speaker': 'Lex Fridman'}), Document(text=\"And Lex Fridman heard Jeff Bezos had a lot of work to do around the ranch.So what's the coolest job Jeff Bezos remembers doing there?\", metadata={'index': 2, 'speaker': 'Lex Fridman'}), Document(text='Wow, coolest.', metadata={'index': 3, 'speaker': 'Jeff Bezos'}), Document(text='Most interesting.Most memorable.', metadata={'index': 4, 'speaker': 'Lex Fridman'}), Document(text=\"Most memorable.Most impactful.It's a real working ranch.\", metadata={'index': 5, 'speaker': 'Jeff Bezos'}), Document(text=\"And Jeff Bezos spent all Jeff Bezos's summers on that ranch from age four to 16.And Jeff Bezos's grandfather was really taking Jeff Bezos in the summers and theIn the early summers, Jeff Bezos's grandfather was letting Jeff Bezos pretend to help on the ranch because, of course, a four-year-old is a burden, not a help in real life.\", metadata={'index': 6, 'speaker': 'Jeff Bezos'}), Document(text=\"Jeff Bezos's grandfather was really just watching Jeff Bezos and taking care of Jeff Bezos.Jeff Bezos's grandfather was doing that because Jeff Bezos's mom was so young.Jeff Bezos's mom had Jeff Bezos when she was 17, and so Jeff Bezos's grandfather was sort of giving her a break, and Jeff Bezos's grandmother and Jeff Bezos's grandfather would take Jeff Bezos for the summers.\", metadata={'index': 7, 'speaker': 'Jeff Bezos'})]\n",
    "d7 = [Document(text=\"The following is a conversation with Jeff Bezos, founder of Amazon and Blue Origin.This is Jeff Bezos's first time doing a conversation of this kind and of this length.And as Jeff Bezos told Lex Fridman, it felt like Jeff Bezos and Lex Fridman could have easily talked for many more hours, and Lex Fridman is sure Lex Fridman and Jeff Bezos will.\", metadata={'index': 0, 'speaker': 'Lex Fridman'}), Document(text=\"This is the Lex Friedman Podcast.And now, dear friends, here's Jeff Bezos.Jeff Bezos spent a lot of Jeff Bezos's childhood with Jeff Bezos's grandfather on a ranch here in Texas.\", metadata={'index': 1, 'speaker': 'Lex Fridman'}), Document(text=\"And Lex Fridman heard Jeff Bezos had a lot of work to do around the ranch.So what's the coolest job Jeff Bezos remembers doing there?\", metadata={'index': 2, 'speaker': 'Lex Fridman'}), Document(text='Wow, coolest.', metadata={'index': 3, 'speaker': 'Jeff Bezos'}), Document(text='Most interesting.Most memorable.', metadata={'index': 4, 'speaker': 'Lex Fridman'}), Document(text=\"Most memorable.Most impactful.It's a real working ranch.\", metadata={'index': 5, 'speaker': 'Jeff Bezos'}), Document(text=\"And Jeff Bezos spent all Jeff Bezos's summers on that ranch from age four to 16.And Jeff Bezos's grandfather was really taking Jeff Bezos in the summers and theIn the early summers, Jeff Bezos's grandfather was letting Jeff Bezos pretend to help on the ranch because, of course, a four-year-old is a burden, not a help in real life.\", metadata={'index': 6, 'speaker': 'Jeff Bezos'}), Document(text=\"Jeff Bezos's grandfather was really just watching Jeff Bezos and taking care of Jeff Bezos.Jeff Bezos's grandfather was doing that because Jeff Bezos's mom was so young.Jeff Bezos's mom had Jeff Bezos when she was 17, and so Jeff Bezos's grandfather was sort of giving her a break, and Jeff Bezos's grandmother and Jeff Bezos's grandfather would take Jeff Bezos for the summers.\", metadata={'index': 7, 'speaker': 'Jeff Bezos'})]\n",
    "d8 = [Document(text=\"The following is a conversation with Jeff Bezos, founder of Amazon and Blue Origin.This is Jeff Bezos's first time doing a conversation of this kind and of this length.And as Jeff Bezos told Lex Fridman, it felt like Jeff Bezos and Lex Fridman could have easily talked for many more hours, and Lex Fridman is sure Lex Fridman and Jeff Bezos will.\", metadata={'index': 0, 'speaker': 'Lex Fridman'}), Document(text=\"This is the Lex Friedman Podcast.And now, dear friends, here's Jeff Bezos.Jeff Bezos spent a lot of Jeff Bezos's childhood with Jeff Bezos's grandfather on a ranch here in Texas.\", metadata={'index': 1, 'speaker': 'Lex Fridman'}), Document(text=\"And Lex Fridman heard Jeff Bezos had a lot of work to do around the ranch.So what's the coolest job Jeff Bezos remembers doing there?\", metadata={'index': 2, 'speaker': 'Lex Fridman'}), Document(text='Wow, coolest.', metadata={'index': 3, 'speaker': 'Jeff Bezos'}), Document(text='Most interesting.Most memorable.', metadata={'index': 4, 'speaker': 'Lex Fridman'}), Document(text=\"Most memorable.Most impactful.It's a real working ranch.\", metadata={'index': 5, 'speaker': 'Jeff Bezos'}), Document(text=\"And Jeff Bezos spent all Jeff Bezos's summers on that ranch from age four to 16.And Jeff Bezos's grandfather was really taking Jeff Bezos in the summers and theIn the early summers, Jeff Bezos's grandfather was letting Jeff Bezos pretend to help on the ranch because, of course, a four-year-old is a burden, not a help in real life.\", metadata={'index': 6, 'speaker': 'Jeff Bezos'}), Document(text=\"Jeff Bezos's grandfather was really just watching Jeff Bezos and taking care of Jeff Bezos.Jeff Bezos's grandfather was doing that because Jeff Bezos's mom was so young.Jeff Bezos's mom had Jeff Bezos when she was 17, and so Jeff Bezos's grandfather was sort of giving her a break, and Jeff Bezos's grandmother and Jeff Bezos's grandfather would take Jeff Bezos for the summers.\", metadata={'index': 7, 'speaker': 'Jeff Bezos'})]\n",
    "d9 = [Document(text=\"The following is a conversation with Jeff Bezos, founder of Amazon and Blue Origin.This is Jeff Bezos's first time doing a conversation of this kind and of this length.And as Jeff Bezos told Lex Fridman, it felt like Jeff Bezos and Lex Fridman could have easily talked for many more hours, and Lex Fridman is sure Lex Fridman and Jeff Bezos will.\", metadata={'index': 0, 'speaker': 'Lex Fridman'}), Document(text=\"This is the Lex Friedman Podcast.And now, dear friends, here's Jeff Bezos.Jeff Bezos spent a lot of Jeff Bezos's childhood with Jeff Bezos's grandfather on a ranch here in Texas.\", metadata={'index': 1, 'speaker': 'Lex Fridman'}), Document(text=\"And Lex Fridman heard Jeff Bezos had a lot of work to do around the ranch.So what's the coolest job Jeff Bezos remembers doing there?\", metadata={'index': 2, 'speaker': 'Lex Fridman'}), Document(text='Wow, coolest.', metadata={'index': 3, 'speaker': 'Jeff Bezos'}), Document(text='Most interesting.Most memorable.', metadata={'index': 4, 'speaker': 'Lex Fridman'}), Document(text=\"Most memorable.Most impactful.It's a real working ranch.\", metadata={'index': 5, 'speaker': 'Jeff Bezos'}), Document(text=\"And Jeff Bezos spent all Jeff Bezos's summers on that ranch from age four to 16.And Jeff Bezos's grandfather was really taking Jeff Bezos in the summers and theIn the early summers, Jeff Bezos's grandfather was letting Jeff Bezos pretend to help on the ranch because, of course, a four-year-old is a burden, not a help in real life.\", metadata={'index': 6, 'speaker': 'Jeff Bezos'}), Document(text=\"Jeff Bezos's grandfather was really just watching Jeff Bezos and taking care of Jeff Bezos.Jeff Bezos's grandfather was doing that because Jeff Bezos's mom was so young.Jeff Bezos's mom had Jeff Bezos when Jeff Bezos's mom was 17, and so Jeff Bezos's grandfather was sort of giving her a break, and Jeff Bezos's grandmother and Jeff Bezos's grandfather would take Jeff Bezos for the summers.\", metadata={'index': 7, 'speaker': 'Jeff Bezos'})]\n",
    "for i,j in zip(d9,d8):\n",
    "    print(i == j)"
   ]
  },
  {
   "cell_type": "code",
   "execution_count": 5,
   "metadata": {},
   "outputs": [],
   "source": [
    "docs = [Document(text=\"The following is a conversation with Jeff Bezos, founder of Amazon and Blue Origin.This is Jeff Bezos's first time doing a conversation of this kind and of this length.And as Jeff Bezos told Lex Fridman, it felt like Jeff Bezos and Lex Fridman could have easily talked for many more hours, and Lex Fridman is sure Lex Fridman and Jeff Bezos will.\", metadata={'index': 0, 'speaker': 'Lex Fridman'}), \n",
    "        Document(text=\"This is the Lex Friedman Podcast.And now, dear friends, here's Jeff Bezos.Jeff Bezos spent a lot of Jeff Bezos's childhood with Jeff Bezos's grandfather on a ranch here in Texas.\", metadata={'index': 1, 'speaker': 'Lex Fridman'}),\n",
    "        Document(text=\"And Lex Fridman heard Jeff Bezos had a lot of work to do around the ranch.So what's the coolest job Jeff Bezos remembers doing there?\", metadata={'index': 2, 'speaker': 'Lex Fridman'}), \n",
    "        Document(text='Wow, coolest.', metadata={'index': 3, 'speaker': 'Jeff Bezos'}), \n",
    "        Document(text='Most interesting.Most memorable.', metadata={'index': 4, 'speaker': 'Lex Fridman'}), \n",
    "        Document(text=\"Most memorable.Most impactful.It's a real working ranch.\", metadata={'index': 5, 'speaker': 'Jeff Bezos'}), \n",
    "        Document(text=\"And Jeff Bezos spent all Jeff Bezos's summers on that ranch from age four to 16.And Jeff Bezos's grandfather was really taking Jeff Bezos in the summers and theIn the early summers, Jeff Bezos's grandfather was letting Jeff Bezos pretend to help on the ranch because, of course, a four-year-old is a burden, not a help in real life.\", metadata={'index': 6, 'speaker': 'Jeff Bezos'}),\n",
    "        Document(text=\"Jeff Bezos's grandfather was really just watching Jeff Bezos and taking care of Jeff Bezos.Jeff Bezos's grandfather was doing that because Jeff Bezos's mom was so young.Jeff Bezos's mom had Jeff Bezos when Jeff Bezos's mom was 17, and so Jeff Bezos's grandfather was sort of giving her a break, and Jeff Bezos's grandmother and Jeff Bezos's grandfather would take Jeff Bezos for the summers.\", metadata={'index': 7, 'speaker': 'Jeff Bezos'})]\n"
   ]
  },
  {
   "cell_type": "code",
   "execution_count": 4,
   "metadata": {},
   "outputs": [],
   "source": [
    "class RetrieveFromGraph:\n",
    "    def __init__(self, graph_name) -> None:\n",
    "        self.db = FalkorDB(host='localhost', port=6379)\n",
    "        self.graph = self.db.select_graph(graph_name)\n",
    "        self.QUESTION_GEN_PROMPT = \"\"\"\n",
    "        You’re a Cypher expert, with access to the following graph:\n",
    "        The knowledge graph schema is as follows:\n",
    "        The graph contains the following node labels:\n",
    "        {node_text}\n",
    "        the Module label has {node_length} number of nodes.\n",
    "        The graph contains the following relationship types:\n",
    "        {relationship_text}\n",
    "        This is the end of the knowledge graph schema description.\n",
    "        Ensure to generate the cypher query for the question passed to you\n",
    "        \"\"\"\n",
    "        self.question_prompt_template = PromptTemplate.from_template(self.QUESTION_GEN_PROMPT)\n",
    "\n",
    "    def create_query(self, question):\n",
    "        response = client.chat.completions.create(\n",
    "        model=\"gpt-4-turbo\",\n",
    "        temperature=0.0,\n",
    "        messages=[\n",
    "            {\"role\": \"system\", \"content\": self.question_prompt_template.format(\n",
    "                node_text=self.view_nodes(), \n",
    "                node_length=self.get_total_number_of_nodes(), \n",
    "                relationship_text=self.view_edges())},\n",
    "            {\"role\": \"user\", \"content\": f\"{question}\"},\n",
    "        ]\n",
    "        )\n",
    "        return response.choices[0].message.content\n",
    "\n",
    "    def view_nodes(self):\n",
    "        node_text= \"\"\n",
    "        nodes = self.graph.query(\"\"\"MATCH (n) RETURN n\"\"\")\n",
    "        for node in nodes.result_set:\n",
    "            node_text += str(node[0]) + \"\\n\"\n",
    "        return (node_text)\n",
    "    \n",
    "    def get_total_number_of_nodes(self):\n",
    "        return len(self.graph.query(\"\"\"MATCH (n) RETURN n\"\"\").result_set)\n",
    "    \n",
    "    def get_unique_edge_set(self):\n",
    "        edge_set = set()\n",
    "        edges = self.graph.query(\"\"\"MATCH ()-[r]->() RETURN type(r) AS type, properties(r) AS properties\"\"\")\n",
    "        for e in edges.result_set:\n",
    "            temp_e = str(e[0])\n",
    "            for key, value in e[1].items():\n",
    "                temp_e += str(f\" {{{key}: {value}}}\")\n",
    "            edge_set.add(temp_e)\n",
    "        return edge_set\n",
    "    \n",
    "    def view_edges(self):\n",
    "        relationship_text = \"\"\n",
    "        edge_set = self.get_unique_edge_set()\n",
    "        for e in edge_set:\n",
    "            relationship_text += str(e)+ \"\\n\"\n",
    "        return (relationship_text)\n",
    "    \n",
    "    def get_cypher_text_from_output(self, text):\n",
    "        pattern = r'```cypher\\n(.*?)\\n```'\n",
    "        cypher_query = re.search(pattern, text, re.DOTALL)\n",
    "        return cypher_query.group(1)\n",
    "    \n",
    "    def get_total_number_of_edges(self):\n",
    "        edge_set = self.get_unique_edge_set()\n",
    "        edge_len=len(edge_set)\n",
    "        return edge_len\n",
    "\n",
    "    def get_answer(self, question):\n",
    "        query = self.create_query(question)\n",
    "        print(\"QUERY:\",query)\n",
    "        cypher_query = self.get_cypher_text_from_output(query)\n",
    "        answer=self.graph.query(cypher_query)\n",
    "        return answer.result_set[0]"
   ]
  },
  {
   "cell_type": "code",
   "execution_count": 32,
   "metadata": {},
   "outputs": [],
   "source": [
    "class TextToCypher:\n",
    "    TRIPLET_PROMPT = \"\"\"\n",
    "                    You are an expert at creating graphs from text using OpenCypher.\n",
    "                    You are provided with a text and your job is to create a graph from the text.\n",
    "                    Ensure to create the graph based on the relationships between the entities in the text.\n",
    "                    Ensure too set nouns as nodes and verbs as relationships.\n",
    "\n",
    "                    ## Ensure to not use metadata unless necessary and ensure to normalize the relationships between the nodes.:\n",
    "                    For example:\n",
    "                    Incorrect:\n",
    "                    ```\n",
    "                    MERGE (p1:Person { name: \"David\", interest: [\"Guitar\"] })\n",
    "                    MERGE (p2:Person { name: \"Sarah\", interest: [\"Guitar\"] })\n",
    "                    ```\n",
    "                    Correct(normalised relationships):\n",
    "                    ```\n",
    "                    MERGE (s:Interest { name: \"Guitar\" })\n",
    "                    MERGE (p1:Person { name: \"David\" })\n",
    "                    MERGE (p1)-[:HAS]->(s)\n",
    "                    MERGE (p2:Person { name: \"Sarah\" })\n",
    "                    MERGE (p2)-[:HAS]->(s)\n",
    "                    ```\n",
    "\n",
    "                    ##Ensure to capture possessive relationships as well:\n",
    "                    John's car is red: should generate a node for John and a node for car with property color as red.\n",
    "                    \n",
    "                    ##Ensure to not be ambiguous in the relationships between the nodes:\n",
    "                    Ensure to capture the relationships between the nodes with enough detail to not be ambiguous.\n",
    "\n",
    "                    ##Ensure to Reify the relationships between the nodes:\n",
    "                    To reify a relationship is to make it an entity in its own right. \n",
    "                    For example, if you have a relationship between a person and a car, \n",
    "                    you can reify that relationship into a new entity called \"owns\" and connect the person and the car to the \"owns\" entity.\n",
    "\n",
    "                    ##Capture all details in the text within the graph:\n",
    "                    \"\"\"\n",
    "\n",
    "    @classmethod\n",
    "    def cypher_from_text_first_pass(cls, text):\n",
    "        #TODO: entire text is dumped for the time being, need to split it into chunks if it exceeds the limit\n",
    "        USER_PROMPT = \"\"\"\n",
    "                    The text is:\n",
    "                    {text} \n",
    "                    Try to not use any metadata and ensure to normalize the relationships between the nodes, making all relations explicit.\n",
    "                    Ensure the relationships between the nodes are not ambiguous and capture all details in the text within the graph and make sense.\n",
    "                    \"\"\"\n",
    "        response = client.chat.completions.create(\n",
    "        model=\"gpt-4-turbo\",\n",
    "        temperature=0.0,\n",
    "        messages=[\n",
    "            {\"role\": \"system\", \"content\": cls.TRIPLET_PROMPT},\n",
    "            {\"role\": \"user\", \"content\": USER_PROMPT.format(text=text)},\n",
    "        ]\n",
    "        )\n",
    "        return response.choices[0].message.content\n",
    "\n",
    "    @classmethod\n",
    "    def get_cypher_text_from_result(cls, text):\n",
    "        pattern = r'```cypher\\n(.*?)\\n```'\n",
    "        cypher_query = re.search(pattern, text, re.DOTALL)\n",
    "        return cypher_query.group(1)\n",
    "\n",
    "    @classmethod\n",
    "    def cypher_from_text_second_pass(cls, text, cypher):\n",
    "        USER_PROMPT = \"\"\"\n",
    "                        The text is: {text}. The cypher query is: {cypher}, modify the cypher query to even include implicit relationships between the nodes. \n",
    "                        Do not add in any nodes or relationships that are not present in the text. Ensure to capture all relationships between the nodes in the text.\n",
    "                    \"\"\"\n",
    "        response = client.chat.completions.create(\n",
    "        model=\"gpt-4-turbo\",\n",
    "        temperature=0.0,\n",
    "        messages=[\n",
    "            {\"role\": \"system\", \"content\": cls.TRIPLET_PROMPT},\n",
    "            {\"role\": \"user\", \"content\": USER_PROMPT.format(text=text, cypher=cypher)},\n",
    "        ]\n",
    "        )\n",
    "        return response.choices[0].message.content\n",
    "    \n",
    "    @classmethod\n",
    "    def run(cls, text):\n",
    "        first_pass = cls.cypher_from_text_first_pass(text)\n",
    "        first_cypher = cls.get_cypher_text_from_result(first_pass)\n",
    "        second_pass = cls.cypher_from_text_second_pass(text, first_cypher)\n",
    "        second_cypher = cls.get_cypher_text_from_result(second_pass)\n",
    "        #print(\"first cypher:\", first_cypher)\n",
    "        #print(\"second cypher:\", second_cypher)\n",
    "        return second_cypher\n"
   ]
  },
  {
   "cell_type": "code",
   "execution_count": 4,
   "metadata": {},
   "outputs": [],
   "source": [
    "#initializing graph\n",
    "graph_name = \"Conv1\"\n",
    "db = FalkorDB(host='localhost', port=6379)\n",
    "g = db.select_graph(graph_name)"
   ]
  },
  {
   "cell_type": "code",
   "execution_count": 39,
   "metadata": {},
   "outputs": [
    {
     "name": "stdout",
     "output_type": "stream",
     "text": [
      "And Lex Fridman heard Jeff Bezos had a lot of work to do around the ranch.So what's the coolest job Jeff Bezos remembers doing there?\n"
     ]
    }
   ],
   "source": [
    "i = 2\n",
    "text = docs[i].text\n",
    "print(text)"
   ]
  },
  {
   "cell_type": "code",
   "execution_count": 40,
   "metadata": {},
   "outputs": [
    {
     "name": "stderr",
     "output_type": "stream",
     "text": [
      "INFO:httpx:HTTP Request: POST https://api.openai.com/v1/chat/completions \"HTTP/1.1 200 OK\"\n",
      "INFO:httpx:HTTP Request: POST https://api.openai.com/v1/chat/completions \"HTTP/1.1 200 OK\"\n"
     ]
    },
    {
     "name": "stdout",
     "output_type": "stream",
     "text": [
      "// Create nodes for the entities\n",
      "MERGE (lex:Person {name: \"Lex Fridman\"})\n",
      "MERGE (jeff:Person {name: \"Jeff Bezos\"})\n",
      "MERGE (work:Activity {name: \"Work\"})\n",
      "MERGE (ranch:Location {name: \"Ranch\"})\n",
      "MERGE (job:Activity {name: \"Job\"})\n",
      "\n",
      "// Create relationships between nodes\n",
      "MERGE (lex)-[:HEARD {about: \"Work at Ranch\"}]->(jeff)\n",
      "MERGE (jeff)-[:HAD]->(work)\n",
      "MERGE (work)-[:LOCATED_AT]->(ranch)\n",
      "MERGE (jeff)-[:REMEMBERS]->(job)\n",
      "MERGE (job)-[:ASSOCIATED_WITH]->(ranch)  // Implicit relationship as the job is related to the ranch activities\n"
     ]
    }
   ],
   "source": [
    "cypher = TextToCypher.run(text) \n",
    "print(cypher)"
   ]
  },
  {
   "cell_type": "code",
   "execution_count": 9,
   "metadata": {},
   "outputs": [],
   "source": [
    "def get_embedding(text, model=\"text-embedding-3-small\"):\n",
    "    text = text.replace(\"\\n\", \" \")\n",
    "    return np.array(client.embeddings.create(input = [text], model=model).data[0].embedding)\n",
    "\n",
    "def cosine_similarity(A, B):\n",
    "    dot_product = np.dot(A, B)\n",
    "    norm_A = np.linalg.norm(A)\n",
    "    norm_B = np.linalg.norm(B)\n",
    "    return dot_product / (norm_A * norm_B)\n",
    "\n",
    "def create_metadata(input_string):\n",
    "    pattern = r'(\\w+):\\s*\"([^\"]*)\"|(\\w+):\\s*(\\d+)'\n",
    "\n",
    "    # Initialize the metadata dictionary\n",
    "    metadata = {}\n",
    "\n",
    "    # Find all key-value pairs using re.finditer\n",
    "    matches = re.finditer(pattern, input_string)\n",
    "    for match in matches:\n",
    "        if match.group(1) and match.group(2):  # If the key-value pair is in the form of \"key: \"value\"\"\n",
    "            key = match.group(1)\n",
    "            value = match.group(2)\n",
    "        elif match.group(3) and match.group(4):  # If the key-value pair is in the form of \"key: value\"\n",
    "            key = match.group(3)\n",
    "            value = int(match.group(4))\n",
    "        metadata[key] = value\n",
    "\n",
    "    # Print the metadata dictionary\n",
    "    return metadata\n",
    "\n",
    "def cypher_to_json(cypher):\n",
    "    node_dict = {}\n",
    "    rel_dict = {}\n",
    "    # Define regex patterns to match nodes and relationships\n",
    "    node_pattern = r'MERGE \\((\\w+):(\\w+) {([^}]+)}\\)'\n",
    "    relationship_pattern = r'MERGE \\((\\w+)\\)-\\[:(\\w+)\\]->\\((\\w+)\\)'\n",
    "\n",
    "    for match in re.finditer(node_pattern, cypher):\n",
    "        list = match.groups()\n",
    "        node_dict[list[0]] = {\n",
    "            \"type\": list[1],\n",
    "            \"metadata\": create_metadata(list[2])\n",
    "        }\n",
    "\n",
    "    for match in re.finditer(relationship_pattern, cypher):\n",
    "        rel_dict[match.group(2)] = {\n",
    "            \"from\": match.group(1),\n",
    "            \"to\": match.group(3)\n",
    "        }\n",
    "    #use json.dumps to convert the dictionary to a JSON string\n",
    "    return node_dict, rel_dict"
   ]
  },
  {
   "cell_type": "markdown",
   "metadata": {},
   "source": [
    "#### DISPLAY NODES AND RELATIONS IN DICTIONARY FORMAT:"
   ]
  },
  {
   "cell_type": "code",
   "execution_count": 10,
   "metadata": {},
   "outputs": [
    {
     "name": "stdout",
     "output_type": "stream",
     "text": [
      "NODES: {'jeff': {'type': 'Person', 'metadata': {'name': 'Jeff Bezos'}}, 'lex': {'type': 'Person', 'metadata': {'name': 'Lex Fridman'}}, 'amazon': {'type': 'Company', 'metadata': {'name': 'Amazon'}}, 'blueOrigin': {'type': 'Company', 'metadata': {'name': 'Blue Origin'}}, 'conversation': {'type': 'Conversation', 'metadata': {'type': 'First long conversation'}}}\n",
      "RELATIONS: {'FOUNDED': {'from': 'jeff', 'to': 'blueOrigin'}, 'PARTICIPATED_IN': {'from': 'lex', 'to': 'conversation'}, 'WILL_TALK_AGAIN': {'from': 'jeff', 'to': 'lex'}, 'OWNS': {'from': 'jeff', 'to': 'blueOrigin'}, 'INVOLVES': {'from': 'conversation', 'to': 'lex'}, 'ENJOYED': {'from': 'lex', 'to': 'conversation'}}\n"
     ]
    }
   ],
   "source": [
    "n,r = cypher_to_json(cypher)\n",
    "print(\"NODES:\",n)\n",
    "print(\"RELATIONS:\",r)"
   ]
  },
  {
   "cell_type": "code",
   "execution_count": 19,
   "metadata": {},
   "outputs": [
    {
     "name": "stdout",
     "output_type": "stream",
     "text": [
      "FUZZ RATIO between Jeff bezos and Jeff: 57\n",
      "FUZZ RATIO between the ranch and ranch: 71\n",
      "FUZZ RATIO between Lex Friedman and Lex Fridman: 96\n",
      "FUZZ RATIO between jeff's grandfather and grandfather: 76\n",
      "FUZZ RATIO between Bezos and Jeff Bezos: 67\n"
     ]
    }
   ],
   "source": [
    "s_1 = [\"Jeff bezos\", \"the ranch\", \"Lex Friedman\", \"jeff's grandfather\", \"Bezos\"]\n",
    "s_2 = [\"Jeff\"   , \"ranch\" , \"Lex Fridman\" , \"grandfather\", \"Jeff Bezos\"]\n",
    "\n",
    "for i, j in zip(s_1, s_2):\n",
    "    print(f\"FUZZ RATIO between {i} and {j}:\", fuzz.ratio(i, j))"
   ]
  },
  {
   "cell_type": "code",
   "execution_count": null,
   "metadata": {},
   "outputs": [],
   "source": [
    "print()"
   ]
  },
  {
   "cell_type": "code",
   "execution_count": 10,
   "metadata": {},
   "outputs": [],
   "source": [
    "def extract_relationships_and_nodes_with_properties(cypher_str):\n",
    "    # Regular expression patterns to match the CREATE statements with relationships and properties\n",
    "    node_pattern = re.compile(r'\\((\\w+):(\\w+)(?: \\{([^\\}]*)\\})?\\)')\n",
    "    relationship_pattern = re.compile(r'MERGE \\((\\w+)\\)-\\[:(\\w+)\\]->\\((\\w+)\\)')\n",
    "\n",
    "    # Function to parse properties string to a dictionary\n",
    "    def parse_properties(properties_str):\n",
    "        if not properties_str:\n",
    "            return {}\n",
    "        properties = properties_str.split(', ')\n",
    "        prop_dict = {}\n",
    "        for prop in properties:\n",
    "            key, value = prop.split(': ')\n",
    "            # Remove quotes from string values\n",
    "            value = value.strip('\"')\n",
    "            prop_dict[key] = value\n",
    "        return prop_dict\n",
    "\n",
    "    nodes = {}\n",
    "    relationships = {}\n",
    "\n",
    "    # Extract nodes and their properties\n",
    "    for match in node_pattern.finditer(cypher_str):\n",
    "        node_var, label, properties_str = match.groups()\n",
    "        properties = parse_properties(properties_str)\n",
    "        nodes[node_var] = {\"label\": label, \"properties\": properties}\n",
    "\n",
    "    # Extract relationships and associate nodes\n",
    "    for match in relationship_pattern.finditer(cypher_str):\n",
    "        node1, rel_type, node2 = match.groups()\n",
    "        if rel_type not in relationships:\n",
    "            relationships[rel_type] = []\n",
    "        relationships[rel_type].append({\n",
    "            \"node_1\": nodes[node1],\n",
    "            \"node_2\": nodes[node2]\n",
    "        })\n",
    "\n",
    "    return relationships"
   ]
  },
  {
   "cell_type": "code",
   "execution_count": 11,
   "metadata": {},
   "outputs": [
    {
     "name": "stdout",
     "output_type": "stream",
     "text": [
      "{'FOUNDED': [{'node_1': {'label': 'Person', 'properties': {'name': 'Jeff Bezos'}}, 'node_2': {'label': 'Organization', 'properties': {'name': 'Amazon'}}}, {'node_1': {'label': 'Person', 'properties': {'name': 'Jeff Bezos'}}, 'node_2': {'label': 'Organization', 'properties': {'name': 'Blue Origin'}}}], 'PARTICIPATED_IN': [{'node_1': {'label': 'Person', 'properties': {'name': 'Jeff Bezos'}}, 'node_2': {'label': 'Conversation', 'properties': {'kind': 'first time', 'length': 'long'}}}, {'node_1': {'label': 'Person', 'properties': {'name': 'Lex Fridman'}}, 'node_2': {'label': 'Conversation', 'properties': {'kind': 'first time', 'length': 'long'}}}], 'TOLD': [{'node_1': {'label': 'Person', 'properties': {'name': 'Jeff Bezos'}}, 'node_2': {'label': 'Person', 'properties': {'name': 'Lex Fridman'}}}], 'COULD_HAVE_TALKED_FOR_MORE_HOURS_WITH': [{'node_1': {'label': 'Person', 'properties': {'name': 'Jeff Bezos'}}, 'node_2': {'label': 'Person', 'properties': {'name': 'Lex Fridman'}}}], 'SURE_THAT_WILL_TALK_AGAIN_WITH': [{'node_1': {'label': 'Person', 'properties': {'name': 'Lex Fridman'}}, 'node_2': {'label': 'Person', 'properties': {'name': 'Jeff Bezos'}}}], 'IS_ASSOCIATED_WITH': [{'node_1': {'label': 'Person', 'properties': {'name': 'Jeff Bezos'}}, 'node_2': {'label': 'Organization', 'properties': {'name': 'Amazon'}}}, {'node_1': {'label': 'Person', 'properties': {'name': 'Jeff Bezos'}}, 'node_2': {'label': 'Organization', 'properties': {'name': 'Blue Origin'}}}, {'node_1': {'label': 'Person', 'properties': {'name': 'Lex Fridman'}}, 'node_2': {'label': 'Conversation', 'properties': {'kind': 'first time', 'length': 'long'}}}], 'HAS_A_CONVERSATION': [{'node_1': {'label': 'Person', 'properties': {'name': 'Jeff Bezos'}}, 'node_2': {'label': 'Person', 'properties': {'name': 'Lex Fridman'}}}, {'node_1': {'label': 'Person', 'properties': {'name': 'Lex Fridman'}}, 'node_2': {'label': 'Person', 'properties': {'name': 'Jeff Bezos'}}}]}\n"
     ]
    }
   ],
   "source": [
    "rel_dict = extract_relationships_and_nodes_with_properties(cypher)\n",
    "print(rel_dict)"
   ]
  },
  {
   "cell_type": "code",
   "execution_count": 36,
   "metadata": {},
   "outputs": [
    {
     "name": "stderr",
     "output_type": "stream",
     "text": [
      "INFO:httpx:HTTP Request: POST https://api.openai.com/v1/chat/completions \"HTTP/1.1 200 OK\"\n",
      "INFO:httpx:HTTP Request: POST https://api.openai.com/v1/chat/completions \"HTTP/1.1 200 OK\"\n"
     ]
    },
    {
     "name": "stdout",
     "output_type": "stream",
     "text": [
      "first cypher: // Create nodes\n",
      "MERGE (podcast:Podcast {name: \"Lex Friedman Podcast\"})\n",
      "MERGE (jeff:Person {name: \"Jeff Bezos\"})\n",
      "MERGE (grandfather:Person {name: \"Grandfather\"}) // Assuming the name is not specified\n",
      "MERGE (ranch:Location {name: \"Ranch\", state: \"Texas\"})\n",
      "MERGE (childhood:Period {name: \"Childhood\"})\n",
      "\n",
      "// Create relationships\n",
      "MERGE (jeff)-[:GUEST_ON]->(podcast)\n",
      "MERGE (childhood)-[:SPENT_WITH]->(grandfather)\n",
      "MERGE (childhood)-[:OCCURRED_AT]->(ranch)\n",
      "MERGE (jeff)-[:HAD]->(childhood)\n",
      "second cypher: // Create nodes\n",
      "MERGE (podcast:podcast {name: \"Lex Friedman Podcast\"})\n",
      "MERGE (jeff:person {name: \"Jeff Bezos\"})\n",
      "MERGE (grandfather:person {name: \"Grandfather\"}) // Assuming the name is not specified\n",
      "MERGE (ranch:location {name: \"Ranch\", state: \"Texas\"})\n",
      "MERGE (childhood:period {name: \"Childhood\"})\n",
      "\n",
      "// Create relationships\n",
      "MERGE (jeff)-[:GUEST_ON]->(podcast)\n",
      "MERGE (jeff)-[:SPENT]->(childhood)\n",
      "MERGE (childhood)-[:WITH]->(grandfather)\n",
      "MERGE (childhood)-[:AT]->(ranch)\n",
      "MERGE (jeff)-[:HAD]->(childhood)\n"
     ]
    }
   ],
   "source": [
    "g.query(cypher)\n",
    "nodes = g.query(\"\"\"MATCH (n) RETURN n\"\"\")\n",
    "for node in nodes.result_set:\n",
    "    print(node[0])"
   ]
  },
  {
   "cell_type": "code",
   "execution_count": 37,
   "metadata": {},
   "outputs": [
    {
     "data": {
      "text/plain": [
       "<falkordb.query_result.QueryResult at 0x782ca956bb10>"
      ]
     },
     "execution_count": 37,
     "metadata": {},
     "output_type": "execute_result"
    }
   ],
   "source": [
    "g.query(cypher)"
   ]
  },
  {
   "cell_type": "code",
   "execution_count": 38,
   "metadata": {},
   "outputs": [
    {
     "name": "stdout",
     "output_type": "stream",
     "text": [
      "(:person{name:\"Jeff Bezos\"})\n",
      "(:person{name:\"Lex Fridman\"})\n",
      "(:company{name:\"Amazon\"})\n",
      "(:company{name:\"Blue Origin\"})\n",
      "(:conversation{firstTime:True,length:\"long\",type:\"Interview\"})\n",
      "(:futureConversations{description:\"Potential continuation\"})\n",
      "(:podcast{name:\"Lex Friedman Podcast\"})\n",
      "(:person{name:\"Grandfather\"})\n",
      "(:location{name:\"Ranch\",state:\"Texas\"})\n",
      "(:period{name:\"Childhood\"})\n"
     ]
    }
   ],
   "source": [
    "nodes = g.query(\"\"\"MATCH (n) RETURN n\"\"\")\n",
    "for node in nodes.result_set:\n",
    "    print(node[0])"
   ]
  },
  {
   "cell_type": "code",
   "execution_count": 47,
   "metadata": {},
   "outputs": [],
   "source": [
    "net = Network(notebook=True, cdn_resources='in_line')\n",
    "\n",
    "def node_exists(net, node_id):\n",
    "    return any(node['id'] == node_id for node in net.nodes)\n",
    "\n",
    "def save_graph_image(filename):\n",
    "    net.show_buttons(filter_=['physics'])\n",
    "    if filename.endswith('.html'):\n",
    "        net.show(filename)\n",
    "    else:\n",
    "        print(\"Filename should have a .html extension\")\n",
    "    net.show(filename)\n",
    "\n",
    "def create_graph_image(graph, filename):\n",
    "    for chunk in graph:\n",
    "        labels = [chunk.node_1.label, chunk.node_2.label]\n",
    "        ids = [chunk.node_1.name, chunk.node_2.name]\n",
    "        relationship = chunk.relationship\n",
    "        print(f\"{labels[0]}: {ids[0]} --> {labels[1]}:{ids[1]}; rel:{relationship}\")\n",
    "\n",
    "        for label,id in zip(labels,ids):\n",
    "            if not node_exists(net, node_id=id):\n",
    "                net.add_node(id, label=f\"{label}:{id}\")\n",
    "\n",
    "        net.add_edge(ids[0], ids[1], title=relationship, arrows='to')\n",
    "\n",
    "    save_graph_image(filename)\n",
    "\n",
    "\n",
    "def extract_relationships_and_nodes_with_properties(cypher_str):\n",
    "    # Regular expression patterns to match the CREATE statements with relationships and properties\n",
    "    node_pattern = re.compile(r'\\((\\w+):(\\w+)(?: \\{([^\\}]*)\\})?\\)')\n",
    "    relationship_pattern = re.compile(r'CREATE \\((\\w+)\\)-\\[:(\\w+)\\]->\\((\\w+)\\)')\n",
    "\n",
    "    # Function to parse properties string to a dictionary\n",
    "    def parse_properties(properties_str):\n",
    "        if not properties_str:\n",
    "            return {}\n",
    "        properties = properties_str.split(', ')\n",
    "        prop_dict = {}\n",
    "        for prop in properties:\n",
    "            key, value = prop.split(': ')\n",
    "            # Remove quotes from string values\n",
    "            value = value.strip('\"')\n",
    "            prop_dict[key] = value\n",
    "        return prop_dict\n",
    "\n",
    "    nodes = {}\n",
    "    relationships = {}\n",
    "\n",
    "    # Extract nodes and their properties\n",
    "    for match in node_pattern.finditer(cypher_str):\n",
    "        node_var, label, properties_str = match.groups()\n",
    "        properties = parse_properties(properties_str)\n",
    "        nodes[node_var] = {\"label\": label, \"properties\": properties}\n",
    "\n",
    "    # Extract relationships and associate nodes\n",
    "    for match in relationship_pattern.finditer(cypher_str):\n",
    "        node1, rel_type, node2 = match.groups()\n",
    "        if rel_type not in relationships:\n",
    "            relationships[rel_type] = []\n",
    "        relationships[rel_type].append({\n",
    "            \"node_1\": nodes[node1],\n",
    "            \"node_2\": nodes[node2]\n",
    "        })\n",
    "\n",
    "    return relationships"
   ]
  },
  {
   "cell_type": "code",
   "execution_count": 48,
   "metadata": {},
   "outputs": [
    {
     "name": "stdout",
     "output_type": "stream",
     "text": [
      "{'TOOK_CARE_OF_JB_DURING_SUMMERS': [{'node_1': {'label': 'Person', 'properties': {'name': \"Jeff Bezos's Grandfather\"}}, 'node_2': {'label': 'Person', 'properties': {'name': 'Jeff Bezos'}}}], 'INVOLVED': [{'node_1': {'label': 'Activity', 'properties': {'description': 'pretend to help on the ranch'}}, 'node_2': {'label': 'Person', 'properties': {'name': 'Jeff Bezos'}}}]}\n"
     ]
    }
   ],
   "source": [
    "rel = extract_relationships_and_nodes_with_properties(cyp_text_2)\n",
    "print(rel)"
   ]
  },
  {
   "cell_type": "code",
   "execution_count": 17,
   "metadata": {},
   "outputs": [
    {
     "ename": "TypeError",
     "evalue": "'Graph' object is not iterable",
     "output_type": "error",
     "traceback": [
      "\u001b[0;31m---------------------------------------------------------------------------\u001b[0m",
      "\u001b[0;31mTypeError\u001b[0m                                 Traceback (most recent call last)",
      "Cell \u001b[0;32mIn[17], line 1\u001b[0m\n\u001b[0;32m----> 1\u001b[0m \u001b[43mcreate_graph_image\u001b[49m\u001b[43m(\u001b[49m\u001b[43mg\u001b[49m\u001b[43m,\u001b[49m\u001b[43m \u001b[49m\u001b[38;5;124;43m\"\u001b[39;49m\u001b[38;5;124;43mgraph.html\u001b[39;49m\u001b[38;5;124;43m\"\u001b[39;49m\u001b[43m)\u001b[49m\n",
      "Cell \u001b[0;32mIn[16], line 15\u001b[0m, in \u001b[0;36mcreate_graph_image\u001b[0;34m(graph, filename)\u001b[0m\n\u001b[1;32m     14\u001b[0m \u001b[38;5;28;01mdef\u001b[39;00m \u001b[38;5;21mcreate_graph_image\u001b[39m(graph, filename):\n\u001b[0;32m---> 15\u001b[0m \u001b[43m    \u001b[49m\u001b[38;5;28;43;01mfor\u001b[39;49;00m\u001b[43m \u001b[49m\u001b[43mchunk\u001b[49m\u001b[43m \u001b[49m\u001b[38;5;129;43;01min\u001b[39;49;00m\u001b[43m \u001b[49m\u001b[43mgraph\u001b[49m\u001b[43m:\u001b[49m\n\u001b[1;32m     16\u001b[0m \u001b[43m        \u001b[49m\u001b[43mlabels\u001b[49m\u001b[43m \u001b[49m\u001b[38;5;241;43m=\u001b[39;49m\u001b[43m \u001b[49m\u001b[43m[\u001b[49m\u001b[43mchunk\u001b[49m\u001b[38;5;241;43m.\u001b[39;49m\u001b[43mnode_1\u001b[49m\u001b[38;5;241;43m.\u001b[39;49m\u001b[43mlabel\u001b[49m\u001b[43m,\u001b[49m\u001b[43m \u001b[49m\u001b[43mchunk\u001b[49m\u001b[38;5;241;43m.\u001b[39;49m\u001b[43mnode_2\u001b[49m\u001b[38;5;241;43m.\u001b[39;49m\u001b[43mlabel\u001b[49m\u001b[43m]\u001b[49m\n\u001b[1;32m     17\u001b[0m \u001b[43m        \u001b[49m\u001b[43mids\u001b[49m\u001b[43m \u001b[49m\u001b[38;5;241;43m=\u001b[39;49m\u001b[43m \u001b[49m\u001b[43m[\u001b[49m\u001b[43mchunk\u001b[49m\u001b[38;5;241;43m.\u001b[39;49m\u001b[43mnode_1\u001b[49m\u001b[38;5;241;43m.\u001b[39;49m\u001b[43mname\u001b[49m\u001b[43m,\u001b[49m\u001b[43m \u001b[49m\u001b[43mchunk\u001b[49m\u001b[38;5;241;43m.\u001b[39;49m\u001b[43mnode_2\u001b[49m\u001b[38;5;241;43m.\u001b[39;49m\u001b[43mname\u001b[49m\u001b[43m]\u001b[49m\n",
      "\u001b[0;31mTypeError\u001b[0m: 'Graph' object is not iterable"
     ]
    }
   ],
   "source": [
    "create_graph_image(g, \"graph.html\")"
   ]
  },
  {
   "cell_type": "code",
   "execution_count": 19,
   "metadata": {},
   "outputs": [
    {
     "ename": "NameError",
     "evalue": "name 'graph' is not defined",
     "output_type": "error",
     "traceback": [
      "\u001b[0;31m---------------------------------------------------------------------------\u001b[0m",
      "\u001b[0;31mNameError\u001b[0m                                 Traceback (most recent call last)",
      "Cell \u001b[0;32mIn[19], line 1\u001b[0m\n\u001b[0;32m----> 1\u001b[0m \u001b[38;5;28mprint\u001b[39m(\u001b[43mgraph\u001b[49m)\n",
      "\u001b[0;31mNameError\u001b[0m: name 'graph' is not defined"
     ]
    }
   ],
   "source": [
    "print(graph)"
   ]
  },
  {
   "cell_type": "code",
   "execution_count": 23,
   "metadata": {},
   "outputs": [
    {
     "name": "stderr",
     "output_type": "stream",
     "text": [
      "INFO:httpx:HTTP Request: POST https://api.openai.com/v1/chat/completions \"HTTP/1.1 200 OK\"\n"
     ]
    },
    {
     "name": "stdout",
     "output_type": "stream",
     "text": [
      "MISSING NODES: The provided cypher query captures several aspects of Jeff Bezos's life and interactions, including his founding of Amazon and Blue Origin, his conversation with Lex Fridman, and some details about his family and childhood. However, upon reviewing the text, it appears that the query does not include all the relevant information:\n",
      "\n",
      "1. **Missing Relationship Details in Conversation**: The query mentions the conversation between Jeff Bezos and Lex Fridman, including some details about the conversation's nature and mutual feelings. However, it does not explicitly state that this was Jeff Bezos's first time doing a conversation of this kind and length, which is a significant aspect of the conversation's uniqueness.\n",
      "\n",
      "2. **Missing Details about Lex Fridman's Assurance**: While the query mentions mutual assurance in the conversation, it specifically highlights that \"Lex Fridman is sure Lex Fridman and Jeff Bezos will\" talk again. This assurance from Lex Fridman's perspective is not captured as a separate or emphasized detail in the relationship attributes.\n",
      "\n",
      "3. **Missing Personal Details**: The query includes detailed personal history about Jeff Bezos's childhood and family but does not mention anything about Lex Fridman's background or personal details, which might not be necessary given the text but is worth noting if comprehensive relational mapping is the goal.\n",
      "\n",
      "Given these observations, the missing aspects in the query relative to the text are:\n",
      "- Explicit mention of the conversation being Jeff Bezos's first of this kind and length.\n",
      "- Emphasized detail of Lex Fridman's assurance about future conversations.\n",
      "\n",
      "If these aspects are considered necessary for the completeness of the query based on the text, they should be added. Otherwise, the query covers the major points shared in the text.\n"
     ]
    },
    {
     "name": "stderr",
     "output_type": "stream",
     "text": [
      "INFO:httpx:HTTP Request: POST https://api.openai.com/v1/chat/completions \"HTTP/1.1 200 OK\"\n"
     ]
    },
    {
     "name": "stdout",
     "output_type": "stream",
     "text": [
      "FIXED QUERY: CREATE\n",
      "(:Person {name:\"Jeff Bezos\"})-[:FOUNDED]->(:Organisation {name:\"Amazon\"}),\n",
      "(:Person {name:\"Jeff Bezos\"})-[:FOUNDED]->(:Organisation {name:\"Blue Origin\"}),\n",
      "(:Person {name:\"Jeff Bezos\"})-[:HAD_CONVERSATION_WITH {details: \"could have talked for many more hours, will talk again\", first_time: \"true\", feeling: \"felt like\", first_of_kind_and_length: \"true\"}]->(:Person {name:\"Lex Fridman\"}),\n",
      "(:Person {name:\"Lex Fridman\"})-[:HAD_CONVERSATION_WITH {details: \"could have talked for many more hours, will talk again\", mutual_assurance: \"true\", assured_future_conversation: \"true\"}]->(:Person {name:\"Jeff Bezos\"}),\n",
      "(:Person {name:\"Jeff Bezos\"})-[:SPENT_CHILDHOOD_IN {location: \"ranch\", details: \"spent a lot of time, did a lot of work, remembers doing the coolest job\"}]->(:Place {name:\"Texas\"}),\n",
      "(:Person {name:\"Jeff Bezos\"})-[:SPENT_SUMMERS_WITH {age_range: \"from age four to 16\"}]->(:Person {name:\"Jeff Bezos's grandfather\"}),\n",
      "(:Person {name:\"Jeff Bezos\"})-[:GRANDFATHER {relationship: \"took care during summers, watched over, gave breaks to mom\"}]->(:Person {name:\"Jeff Bezos's grandfather\"}),\n",
      "(:Person {name:\"Jeff Bezos's grandfather\"})-[:TOOK_CARE_WITH]->(:Person {name:\"grandmother\"}),\n",
      "(:Person {name:\"Jeff Bezos\"})-[:BORN_TO {age_of_mother: \"17\"}]->(:Person {name:\"mom\"});\n"
     ]
    }
   ],
   "source": [
    "query = \"\"\"\n",
    "CREATE\n",
    "(:Person {name:\"Jeff Bezos\"})-[:FOUNDED]->(:Organisation {name:\"Amazon\"}),\n",
    "(:Person {name:\"Jeff Bezos\"})-[:FOUNDED]->(:Organisation {name:\"Blue Origin\"}),\n",
    "(:Person {name:\"Jeff Bezos\"})-[:HAD_CONVERSATION_WITH {details: \"could have talked for many more hours, will talk again\", first_time: \"true\", feeling: \"felt like\"}]->(:Person {name:\"Lex Fridman\"}),\n",
    "(:Person {name:\"Lex Fridman\"})-[:HAD_CONVERSATION_WITH {details: \"could have talked for many more hours, will talk again\", mutual_assurance: \"true\"}]->(:Person {name:\"Jeff Bezos\"}),\n",
    "(:Person {name:\"Jeff Bezos\"})-[:SPENT_CHILDHOOD_IN {location: \"ranch\", details: \"spent a lot of time, did a lot of work, remembers doing the coolest job\"}]->(:Place {name:\"Texas\"}),\n",
    "(:Person {name:\"Jeff Bezos\"})-[:SPENT_SUMMERS_WITH {age_range: \"from age four to 16\"}]->(:Person {name:\"Jeff Bezos's grandfather\"}),\n",
    "(:Person {name:\"Jeff Bezos\"})-[:GRANDFATHER {relationship: \"took care during summers, watched over, gave breaks to mom\"}]->(:Person {name:\"Jeff Bezos's grandfather\"}),\n",
    "(:Person {name:\"Jeff Bezos's grandfather\"})-[:TOOK_CARE_WITH]->(:Person {name:\"grandmother\"}),\n",
    "(:Person {name:\"Jeff Bezos\"})-[:BORN_TO {age_of_mother: \"17\"}]->(:Person {name:\"mom\"});\n",
    "\"\"\"\n",
    "missing = CreateGraph.check_missing_nodes(query, doc[0].text)\n",
    "print(\"MISSING NODES:\",missing)\n",
    "\n",
    "if missing.lower() != \"none\":\n",
    "    modified_query = CreateGraph.fix_missing_nodes(query, doc[0].text, missing)\n",
    "    print(\"FIXED QUERY:\", modified_query)"
   ]
  },
  {
   "cell_type": "code",
   "execution_count": 8,
   "metadata": {},
   "outputs": [
    {
     "name": "stderr",
     "output_type": "stream",
     "text": [
      "\u001b[92m\u001b[39m\n",
      "\u001b[92m▶︎ GRAPH MAKER LOG - 2024-06-02 18:19:03 - INFO \u001b[39m\n",
      "\u001b[92mDocument: 1\u001b[39m\n",
      "\u001b[92m\u001b[39m\n"
     ]
    },
    {
     "name": "stdout",
     "output_type": "stream",
     "text": [
      "Using Model:  gpt-4-turbo\n"
     ]
    },
    {
     "name": "stderr",
     "output_type": "stream",
     "text": [
      "INFO:httpx:HTTP Request: POST https://api.openai.com/v1/chat/completions \"HTTP/1.1 200 OK\"\n",
      "\u001b[92m\u001b[39m\n",
      "\u001b[92m▶︎ GRAPH MAKER LOG - 2024-06-02 18:19:23 - INFO \u001b[39m\n",
      "\u001b[92mTrying JSON Parsing: \n",
      "[\n",
      "    {\n",
      "        \"node_1\": {\"label\": \"Person\", \"name\": \"Jeff Bezos\"},\n",
      "        \"node_2\": {\"label\": \"Organisation\", \"name\": \"Amazon\"},\n",
      "        \"relationship\": \"Jeff Bezos is the founder of Amazon.\"\n",
      "    },\n",
      "    {\n",
      "        \"node_1\": {\"label\": \"Person\", \"name\": \"Jeff Bezos\"},\n",
      "        \"node_2\": {\"label\": \"Organisation\", \"name\": \"Blue Origin\"},\n",
      "        \"relationship\": \"Jeff Bezos is the founder of Blue Origin.\"\n",
      "    },\n",
      "    {\n",
      "        \"node_1\": {\"label\": \"Person\", \"name\": \"Jeff Bezos\"},\n",
      "        \"node_2\": {\"label\": \"Person\", \"name\": \"Lex Fridman\"},\n",
      "        \"relationship\": \"Jeff Bezos had a conversation with Lex Fridman.\"\n",
      "    },\n",
      "    {\n",
      "        \"node_1\": {\"label\": \"Person\", \"name\": \"Lex Fridman\"},\n",
      "        \"node_2\": {\"label\": \"Document\", \"name\": \"Lex Friedman Podcast\"},\n",
      "        \"relationship\": \"Lex Fridman hosts the Lex Friedman Podcast.\"\n",
      "    },\n",
      "    {\n",
      "        \"node_1\": {\"label\": \"Person\", \"name\": \"Jeff Bezos\"},\n",
      "        \"node_2\": {\"label\": \"Place\", \"name\": \"Texas\"},\n",
      "        \"relationship\": \"Jeff Bezos spent a lot of his childhood with his grandfather on a ranch in Texas.\"\n",
      "    },\n",
      "    {\n",
      "        \"node_1\": {\"label\": \"Person\", \"name\": \"Jeff Bezos\"},\n",
      "        \"node_2\": {\"label\": \"Person\", \"name\": \"Jeff Bezos's grandfather\"},\n",
      "        \"relationship\": \"Jeff Bezos spent his summers from age four to 16 on a ranch under the care of his grandfather.\"\n",
      "    },\n",
      "    {\n",
      "        \"node_1\": {\"label\": \"Person\", \"name\": \"Jeff Bezos's grandfather\"},\n",
      "        \"node_2\": {\"label\": \"Person\", \"name\": \"Jeff Bezos\"},\n",
      "        \"relationship\": \"Jeff Bezos's grandfather took care of him during the summers, allowing him to pretend to help on the ranch.\"\n",
      "    },\n",
      "    {\n",
      "        \"node_1\": {\"label\": \"Person\", \"name\": \"Jeff Bezos's mom\"},\n",
      "        \"node_2\": {\"label\": \"Person\", \"name\": \"Jeff Bezos\"},\n",
      "        \"relationship\": \"Jeff Bezos's mom had Jeff Bezos when she was 17.\"\n",
      "    },\n",
      "    {\n",
      "        \"node_1\": {\"label\": \"Person\", \"name\": \"Jeff Bezos's grandfather\"},\n",
      "        \"node_2\": {\"label\": \"Person\", \"name\": \"Jeff Bezos's mom\"},\n",
      "        \"relationship\": \"Jeff Bezos's grandfather was giving her a break by taking care of Jeff Bezos during the summers.\"\n",
      "    },\n",
      "    {\n",
      "        \"node_1\": {\"label\": \"Person\", \"name\": \"Jeff Bezos's grandmother\"},\n",
      "        \"node_2\": {\"label\": \"Person\", \"name\": \"Jeff Bezos\"},\n",
      "        \"relationship\": \"Jeff Bezos's grandmother, along with his grandfather, would take Jeff Bezos for the summers.\"\n",
      "    }\n",
      "]\u001b[39m\n",
      "\u001b[92m\u001b[39m\n",
      "\u001b[92m\u001b[39m\n",
      "\u001b[92m▶︎ GRAPH MAKER LOG - 2024-06-02 18:19:23 - INFO \u001b[39m\n",
      "\u001b[92mJSON Parsing Successful!\u001b[39m\n",
      "\u001b[92m\u001b[39m\n"
     ]
    },
    {
     "name": "stdout",
     "output_type": "stream",
     "text": [
      "Graph creatd with total number of Edges: 10\n",
      "FIRST CREATION QUERY: CREATE\n",
      "(:Person {name:\"Jeff Bezos\"})-[:Jeff_Bezos_is_the_founder_of_Amazon]->(:Organisation {name:\"Amazon\"}),\n",
      "(:Person {name:\"Jeff Bezos\"})-[:Jeff_Bezos_is_the_founder_of_Blue_Origin]->(:Organisation {name:\"Blue Origin\"}),\n",
      "(:Person {name:\"Jeff Bezos\"})-[:Jeff_Bezos_had_a_conversation_with_Lex_Fridman]->(:Person {name:\"Lex Fridman\"}),\n",
      "(:Person {name:\"Lex Fridman\"})-[:Lex_Fridman_hosts_the_Lex_Friedman_Podcast]->(:Document {name:\"Lex Friedman Podcast\"}),\n",
      "(:Person {name:\"Jeff Bezos\"})-[:Jeff_Bezos_spent_a_lot_of_his_childhood_with_his_grandfather_on_a_ranch_in_Texas]->(:Place {name:\"Texas\"}),\n",
      "(:Person {name:\"Jeff Bezos\"})-[:Jeff_Bezos_spent_his_summers_from_age_four_to_16_on_a_ranch_under_the_care_of_his_grandfather]->(:Person {name:\"Jeff Bezos's grandfather\"}),\n",
      "(:Person {name:\"Jeff Bezos's grandfather\"})-[:Jeff_Bezoss_grandfather_took_care_of_him_during_the_summers,_allowing_him_to_pretend_to_help_on_the_ranch]->(:Person {name:\"Jeff Bezos\"}),\n",
      "(:Person {name:\"Jeff Bezos's mom\"})-[:Jeff_Bezoss_mom_had_Jeff_Bezos_when_she_was_17]->(:Person {name:\"Jeff Bezos\"}),\n",
      "(:Person {name:\"Jeff Bezos's grandfather\"})-[:Jeff_Bezoss_grandfather_was_giving_her_a_break_by_taking_care_of_Jeff_Bezos_during_the_summers]->(:Person {name:\"Jeff Bezos's mom\"}),\n",
      "(:Person {name:\"Jeff Bezos's grandmother\"})-[:Jeff_Bezoss_grandmother,_along_with_his_grandfather,_would_take_Jeff_Bezos_for_the_summers]->(:Person {name:\"Jeff Bezos\"})\n"
     ]
    },
    {
     "name": "stderr",
     "output_type": "stream",
     "text": [
      "INFO:httpx:HTTP Request: POST https://api.openai.com/v1/chat/completions \"HTTP/1.1 200 OK\"\n"
     ]
    },
    {
     "name": "stdout",
     "output_type": "stream",
     "text": [
      "MODIFIED QUERY: CREATE\n",
      "(:Person {name:\"Jeff Bezos\"})-[:FOUNDER_OF]->(:Organisation {name:\"Amazon\"}),\n",
      "(:Person {name:\"Jeff Bezos\"})-[:FOUNDER_OF]->(:Organisation {name:\"Blue Origin\"}),\n",
      "(:Person {name:\"Jeff Bezos\"})-[:HAD_CONVERSATION_WITH]->(:Person {name:\"Lex Fridman\"}),\n",
      "(:Person {name:\"Lex Fridman\"})-[:HOSTS]->(:Document {name:\"Lex Friedman Podcast\"}),\n",
      "(:Person {name:\"Jeff Bezos\"})-[:SPENT_CHILDHOOD_AT {location: 'ranch', state: 'Texas'}]->(:Place {name:\"Texas\"}),\n",
      "(:Person {name:\"Jeff Bezos\"})-[:CARED_FOR_BY {age_range: 'four to 16', during: 'summers'}]->(:Person {name:\"Jeff Bezos's grandfather\"}),\n",
      "(:Person {name:\"Jeff Bezos's grandfather\"})-[:CARED_FOR {activity: 'pretend help on ranch', during: 'summers'}]->(:Person {name:\"Jeff Bezos\"}),\n",
      "(:Person {name:\"Jeff Bezos's mom\"})-[:HAD_AT_AGE {age: '17'}]->(:Person {name:\"Jeff Bezos\"}),\n",
      "(:Person {name:\"Jeff Bezos's grandfather\"})-[:GAVE_BREAK_TO {during: 'summers'}]->(:Person {name:\"Jeff Bezos's mom\"}),\n",
      "(:Person {name:\"Jeff Bezos's grandmother\"})-[:TOOK_FOR_SUMMERS]->(:Person {name:\"Jeff Bezos\"})\n"
     ]
    }
   ],
   "source": [
    "graph = CreateGraph.run(docs=doc, graph_name=\"Convo-1\")"
   ]
  },
  {
   "cell_type": "code",
   "execution_count": 9,
   "metadata": {},
   "outputs": [],
   "source": [
    "graph_to_query = RetrieveFromGraph(graph_name=\"Convo-1\")\n",
    "nodes  = graph_to_query.view_nodes()\n",
    "edges = graph_to_query.view_edges()"
   ]
  },
  {
   "cell_type": "code",
   "execution_count": 13,
   "metadata": {},
   "outputs": [
    {
     "name": "stderr",
     "output_type": "stream",
     "text": [
      "INFO:httpx:HTTP Request: POST https://api.openai.com/v1/chat/completions \"HTTP/1.1 200 OK\"\n"
     ]
    },
    {
     "name": "stdout",
     "output_type": "stream",
     "text": [
      "QUERY: To find out the age range during which Jeff Bezos's grandfather took care of him, we can use the relationship type `CARED_FOR_BY` which includes an age range attribute. Here's the Cypher query to retrieve this information:\n",
      "\n",
      "```cypher\n",
      "MATCH (p:Person {name: \"Jeff Bezos\"})-[r:CARED_FOR_BY]->(g:Person {name: \"Jeff Bezos's grandfather\"})\n",
      "RETURN r.age_range AS AgeRange\n",
      "```\n",
      "\n",
      "This query matches the nodes representing Jeff Bezos and his grandfather connected by the `CARED_FOR_BY` relationship and returns the age range during which his grandfather took care of him.\n",
      "['four to 16']\n"
     ]
    }
   ],
   "source": [
    "question = \"How old was Jeff Bezos when his grandfather took care of him?\"\n",
    "ans = graph_to_query.get_answer(question)\n",
    "print(ans)"
   ]
  }
 ],
 "metadata": {
  "kernelspec": {
   "display_name": "graph",
   "language": "python",
   "name": "python3"
  },
  "language_info": {
   "codemirror_mode": {
    "name": "ipython",
    "version": 3
   },
   "file_extension": ".py",
   "mimetype": "text/x-python",
   "name": "python",
   "nbconvert_exporter": "python",
   "pygments_lexer": "ipython3",
   "version": "3.11.0"
  }
 },
 "nbformat": 4,
 "nbformat_minor": 2
}
