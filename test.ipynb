{
 "cells": [
  {
   "cell_type": "code",
   "execution_count": 1,
   "metadata": {},
   "outputs": [],
   "source": [
    "import os\n",
    "from dotenv import load_dotenv\n",
    "load_dotenv()\n",
    "\n",
    "os.environ[\"OPENAI_API_KEY\"] = os.getenv(\"OPENAI_API_KEY\")"
   ]
  },
  {
   "cell_type": "code",
   "execution_count": 2,
   "metadata": {},
   "outputs": [],
   "source": [
    "import logging\n",
    "import sys\n",
    "from llama_index.core import SimpleDirectoryReader, KnowledgeGraphIndex\n",
    "from llama_index.core.graph_stores import SimpleGraphStore\n",
    "from llama_index.llms.openai import OpenAI\n",
    "from llama_index.core import Settings\n",
    "from IPython.display import Markdown, display\n",
    "from graph_maker import Document"
   ]
  },
  {
   "cell_type": "code",
   "execution_count": 3,
   "metadata": {},
   "outputs": [
    {
     "name": "stdout",
     "output_type": "stream",
     "text": [
      "[Document(id_='49c4a0f7-420e-4495-ad75-9c9899886f85', embedding=None, metadata={'file_path': '/home/ash/github/graph_maker/test_dir/test.txt', 'file_name': 'test.txt', 'file_type': 'text/plain', 'file_size': 1481, 'creation_date': '2024-06-08', 'last_modified_date': '2024-06-08'}, excluded_embed_metadata_keys=['file_name', 'file_type', 'file_size', 'creation_date', 'last_modified_date', 'last_accessed_date'], excluded_llm_metadata_keys=['file_name', 'file_type', 'file_size', 'creation_date', 'last_modified_date', 'last_accessed_date'], relationships={}, text='The following is a conversation with Jeff Bezos, founder of Amazon and Blue Origin.\\nThis is Jeff Bezos\\'s first time doing a conversation of this kind and of this length.\\nAnd as Jeff Bezos told Lex Fridman, it felt like Lex Fridman and Jeff Bezos could have easily talked for many more hours, and Lex Fridman is sure Lex Fridman and Jeff Bezos will.\\nThis is the Lex Friedman Podcast. \\nAnd now, dear friends, here\\'s Jeff Bezos. \\nJeff Bezos spent a lot of Jeff Bezos\\'s childhood with Jeff Bezos\\'s grandfather on a ranch here in Texas.\\nAnd Lex Fridman heard Jeff Bezos had a lot of work to do around the ranch. So what\\'s the coolest job Jeff Bezos remembers doing there? Wow, coolest.\\nMost interesting. Most memorable. Most memorable.\\nMost impactful. It\\'s a real working ranch. And Jeff Bezos spent all Jeff Bezos\\'s summers on that ranch from age four to 16. \\nAnd Jeff Bezos\\'s grandfather was really taking Jeff Bezos in the summers and the In the early summers, Jeff Bezos\\'s grandfather was letting Jeff Bezos pretend to help on the ranch because, of course, a four-year-old is a burden, not a help in real life.\"\\nJeff Bezos\\'s grandfather was really just watching Jeff Bezos and taking care of Jeff Bezos. \\nJeff Bezos\\'s grandfather was doing that because Jeff Bezos\\'s mom was so young. \\nShe had Jeff Bezos when she was 17, and so Jeff Bezos\\'s grandfather was sort of giving her a break, and Jeff Bezos\\'s grandmother and Jeff Bezos\\'s grandfather would take Jeff Bezos for the summers.\\n', start_char_idx=None, end_char_idx=None, text_template='{metadata_str}\\n\\n{content}', metadata_template='{key}: {value}', metadata_seperator='\\n')]\n"
     ]
    }
   ],
   "source": [
    "documents = SimpleDirectoryReader(\"./test_dir/\").load_data()\n",
    "print(documents)"
   ]
  },
  {
   "cell_type": "code",
   "execution_count": null,
   "metadata": {},
   "outputs": [],
   "source": [
    "doc = [\n",
    "       Document(text=\"The following is a conversation with Jeff Bezos, founder of Amazon and Blue Origin. This is Jeff Bezos's first time doing a conversation of this kind and of this length. And as Jeff Bezos told Lex Fridman, it felt like Lex Fridman and Jeff Bezos could have easily talked for many more hours, and Lex Fridman is sure Lex Fridman and Jeff Bezos will.\", metadata={'num': '1'}),\n",
    "       Document(text=\"This is the Lex Friedman Podcast. And now, dear friends, here's Jeff Bezos. Jeff Bezos spent a lot of Jeff Bezos's childhood with Jeff Bezos's grandfather on a ranch here in Texas.\", metadata={'num': '2'}),\n",
    "       Document(text=\"And Lex Fridman heard Jeff Bezos had a lot of work to do around the ranch. So what's the coolest job Jeff Bezos remembers doing there? Wow, coolest.\", metadata={'num': '3'}),\n",
    "       Document(text=\"Most interesting. Most memorable. Most memorable.\", metadata={'num': '4'}),\n",
    "       Document(text=\"Most impactful. It's a real working ranch. And Jeff Bezos spent all Jeff Bezos's summers on that ranch from age four to 16. And Jeff Bezos's grandfather was really taking Jeff Bezos in the summers and the In the early summers, Jeff Bezos's grandfather was letting Jeff Bezos pretend to help on the ranch because, of course, a four-year-old is a burden, not a help in real life.\", metadata={'num': '5'}),\n",
    "       Document(text=\"Jeff Bezos's grandfather was really just watching Jeff Bezos and taking care of Jeff Bezos. Jeff Bezos's grandfather was doing that because Jeff Bezos's mom was so young. She had Jeff Bezos when she was 17, and so Jeff Bezos's grandfather was sort of giving her a break, and Jeff Bezos's grandmother and Jeff Bezos's grandfather would take Jeff Bezos for the summers.\", metadata={'num': '6'})\n",
    "       ]"
   ]
  },
  {
   "cell_type": "code",
   "execution_count": 4,
   "metadata": {},
   "outputs": [],
   "source": [
    "# define LLM\n",
    "# NOTE: at the time of demo, text-davinci-002 did not have rate-limit errors\n",
    "\n",
    "llm = OpenAI(temperature=0, model=\"gpt-4-turbo\")\n",
    "Settings.llm = llm\n",
    "Settings.chunk_size = 512"
   ]
  },
  {
   "cell_type": "code",
   "execution_count": 5,
   "metadata": {},
   "outputs": [
    {
     "name": "stderr",
     "output_type": "stream",
     "text": [
      "INFO:httpx:HTTP Request: POST https://api.openai.com/v1/chat/completions \"HTTP/1.1 200 OK\"\n"
     ]
    }
   ],
   "source": [
    "from llama_index.core import StorageContext\n",
    "\n",
    "graph_store = SimpleGraphStore()\n",
    "storage_context = StorageContext.from_defaults(graph_store=graph_store)\n",
    "\n",
    "# NOTE: can take a while!\n",
    "index = KnowledgeGraphIndex.from_documents(\n",
    "    documents,\n",
    "    max_triplets_per_chunk=2,\n",
    "    storage_context=storage_context,\n",
    ")"
   ]
  },
  {
   "cell_type": "code",
   "execution_count": 9,
   "metadata": {},
   "outputs": [
    {
     "name": "stderr",
     "output_type": "stream",
     "text": [
      "INFO:httpx:HTTP Request: POST https://api.openai.com/v1/chat/completions \"HTTP/1.1 200 OK\"\n",
      "WARNING:llama_index.core.indices.knowledge_graph.retrievers:Index was not constructed with embeddings, skipping embedding usage...\n",
      "INFO:llama_index.core.indices.knowledge_graph.retrievers:> No relationships found, returning nodes found by keywords.\n",
      "INFO:llama_index.core.indices.knowledge_graph.retrievers:> No nodes found by keywords, returning empty response.\n",
      "INFO:httpx:HTTP Request: POST https://api.openai.com/v1/chat/completions \"HTTP/1.1 200 OK\"\n"
     ]
    },
    {
     "name": "stdout",
     "output_type": "stream",
     "text": [
      "The provided information does not specify the age of Jeff's mom.\n"
     ]
    }
   ],
   "source": [
    "query_engine = index.as_query_engine(\n",
    "    include_text=True, response_mode=\"tree_summarize\"\n",
    ")\n",
    "response = query_engine.query(\n",
    "    \"whhat age was jeff's mom\",\n",
    ")\n",
    "print(response)"
   ]
  },
  {
   "cell_type": "code",
   "execution_count": 10,
   "metadata": {},
   "outputs": [
    {
     "name": "stdout",
     "output_type": "stream",
     "text": [
      "example.html\n"
     ]
    },
    {
     "data": {
      "text/html": [
       "\n",
       "        <iframe\n",
       "            width=\"100%\"\n",
       "            height=\"600px\"\n",
       "            src=\"example.html\"\n",
       "            frameborder=\"0\"\n",
       "            allowfullscreen\n",
       "            \n",
       "        ></iframe>\n",
       "        "
      ],
      "text/plain": [
       "<IPython.lib.display.IFrame at 0x7e9d47ecdd10>"
      ]
     },
     "execution_count": 10,
     "metadata": {},
     "output_type": "execute_result"
    }
   ],
   "source": [
    "from pyvis.network import Network\n",
    "\n",
    "g = index.get_networkx_graph()\n",
    "net = Network(notebook=True, cdn_resources=\"in_line\", directed=True)\n",
    "net.from_nx(g)\n",
    "net.show(\"example.html\")"
   ]
  },
  {
   "cell_type": "code",
   "execution_count": 3,
   "metadata": {},
   "outputs": [],
   "source": [
    "# Replace speaker in conversation:\n",
    "outfile_file_path = \"./docs/bezos_renamed.txt\"\n",
    "if os.path.exists(outfile_file_path):\n",
    "    with open(file, 'r') as infile, open(outfile_file_path, 'w') as outfile:\n",
    "        # Read the lines from the input file\n",
    "        for line in infile.readlines():\n",
    "            processed_line = process_line(line)\n",
    "            outfile.write(processed_line)"
   ]
  },
  {
   "cell_type": "code",
   "execution_count": 4,
   "metadata": {},
   "outputs": [
    {
     "name": "stderr",
     "output_type": "stream",
     "text": [
      "INFO:httpx:HTTP Request: POST https://api.openai.com/v1/chat/completions \"HTTP/1.1 200 OK\"\n"
     ]
    },
    {
     "name": "stdout",
     "output_type": "stream",
     "text": [
      "start:0.089| end:5.632| speaker:Lex Fridman| text: The following is a conversation with Jeff Bezos, founder of Amazon and Blue Origin.\n",
      "start:6.352| end:10.895| speaker:Lex Fridman| text:This is Jeff Bezos's first time doing a conversation of this kind and of this length.\n",
      "start:11.435| end:16.878| speaker:Lex Fridman| text:And as Jeff Bezos told Lex Fridman, it felt like Jeff Bezos and Lex Fridman could have easily talked for many more hours, and Lex Fridman is sure they will.\n",
      "start:17.818| end:19.519| speaker:Lex Fridman| text:This is the Lex Fridman Podcast.\n",
      "start:19.859| end:23.321| speaker:Lex Fridman| text:And now, dear friends, here's Jeff Bezos.\n",
      "start:24.619| end:29.321| speaker:Lex Fridman| text: Jeff Bezos spent a lot of Jeff Bezos's childhood with Jeff Bezos's grandfather on a ranch in Texas.\n",
      "start:30.301| end:32.902| speaker:Lex Fridman| text:And Lex Fridman heard Jeff Bezos had a lot of work to do around the ranch.\n",
      "start:33.002| end:34.842| speaker:Lex Fridman| text:So what's the coolest job Jeff Bezos remembers doing there?\n",
      "start:35.362| end:36.263| speaker:Jeff Bezos| text:Wow, coolest.\n",
      "start:37.183| end:37.883| speaker:Lex Fridman| text:Most interesting.\n",
      "start:37.943| end:39.104| speaker:Lex Fridman| text:Most memorable.\n",
      "start:39.164| end:40.524| speaker:Jeff Bezos| text:Most memorable.\n",
      "start:40.544| end:41.785| speaker:Jeff Bezos| text:Most impactful.\n",
      "start:41.845| end:44.525| speaker:Jeff Bezos| text:It's a real working ranch.\n",
      "start:44.745| end:48.747| speaker:Jeff Bezos| text:And Jeff Bezos spent all Jeff Bezos's summers on that ranch from age four to 16.\n",
      "start:49.507| end:52.628| speaker:Jeff Bezos| text:And Jeff Bezos's grandfather was really taking Jeff Bezos in the summers and the\n",
      "start:52.908| end:60.456| speaker:Jeff Bezos| text: In the early summers, Jeff Bezos's grandfather was letting Jeff Bezos pretend to help on the ranch because, of course, a four-year-old is a burden, not a help in real life.\n",
      "start:61.137| end:63.6| speaker:Jeff Bezos| text:Jeff Bezos's grandfather was really just watching Jeff Bezos and taking care of Jeff Bezos.\n",
      "start:63.62| end:67.945| speaker:Jeff Bezos| text:Jeff Bezos's grandfather was doing that because Jeff Bezos's mom was so young.\n",
      "start:67.985| end:74.291| speaker:Jeff Bezos| text:Jeff Bezos's mom had Jeff Bezos when she was 17, and so Jeff Bezos's grandfather was sort of giving her a break, and Jeff Bezos's grandmother and grandfather would take Jeff Bezos for the summers.\n"
     ]
    }
   ],
   "source": [
    "text = _text_from_file(outfile_file_path)\n",
    "text_resolved = coreference_resolution(text)\n",
    "print(text_resolved)"
   ]
  },
  {
   "cell_type": "code",
   "execution_count": 5,
   "metadata": {},
   "outputs": [
    {
     "name": "stdout",
     "output_type": "stream",
     "text": [
      "start:0.089| end:5.632| speaker:Lex Fridman| text: The following is a conversation with Jeff Bezos, founder of Amazon and Blue Origin.\n",
      "start:6.352| end:10.895| speaker:Lex Fridman| text:This is Jeff Bezos's first time doing a conversation of this kind and of this length.\n",
      "start:11.435| end:16.878| speaker:Lex Fridman| text:And as Jeff Bezos told Lex Fridman, it felt like Jeff Bezos and Lex Fridman could have easily talked for many more hours, and Lex Fridman is sure they will.\n",
      "start:17.818| end:19.519| speaker:Lex Fridman| text:This is the Lex Fridman Podcast.\n",
      "start:19.859| end:23.321| speaker:Lex Fridman| text:And now, dear friends, here's Jeff Bezos.\n",
      "start:24.619| end:29.321| speaker:Lex Fridman| text: Jeff Bezos spent a lot of Jeff Bezos's childhood with Jeff Bezos's grandfather on a ranch in Texas.\n",
      "start:30.301| end:32.902| speaker:Lex Fridman| text:And Lex Fridman heard Jeff Bezos had a lot of work to do around the ranch.\n",
      "start:33.002| end:34.842| speaker:Lex Fridman| text:So what's the coolest job Jeff Bezos remembers doing there?\n",
      "start:35.362| end:36.263| speaker:Jeff Bezos| text:Wow, coolest.\n",
      "start:37.183| end:37.883| speaker:Lex Fridman| text:Most interesting.\n",
      "start:37.943| end:39.104| speaker:Lex Fridman| text:Most memorable.\n",
      "start:39.164| end:40.524| speaker:Jeff Bezos| text:Most memorable.\n",
      "start:40.544| end:41.785| speaker:Jeff Bezos| text:Most impactful.\n",
      "start:41.845| end:44.525| speaker:Jeff Bezos| text:It's a real working ranch.\n",
      "start:44.745| end:48.747| speaker:Jeff Bezos| text:And Jeff Bezos spent all Jeff Bezos's summers on that ranch from age four to 16.\n",
      "start:49.507| end:52.628| speaker:Jeff Bezos| text:And Jeff Bezos's grandfather was really taking Jeff Bezos in the summers and the\n",
      "start:52.908| end:60.456| speaker:Jeff Bezos| text: In the early summers, Jeff Bezos's grandfather was letting Jeff Bezos pretend to help on the ranch because, of course, a four-year-old is a burden, not a help in real life.\n",
      "start:61.137| end:63.6| speaker:Jeff Bezos| text:Jeff Bezos's grandfather was really just watching Jeff Bezos and taking care of Jeff Bezos.\n",
      "start:63.62| end:67.945| speaker:Jeff Bezos| text:Jeff Bezos's grandfather was doing that because Jeff Bezos's mom was so young.\n",
      "start:67.985| end:74.291| speaker:Jeff Bezos| text:Jeff Bezos's mom had Jeff Bezos when she was 17, and so Jeff Bezos's grandfather was sort of giving her a break, and Jeff Bezos's grandmother and grandfather would take Jeff Bezos for the summers.\n",
      "{'text': \"The following is a conversation with Jeff Bezos, founder of Amazon and Blue Origin.This is Jeff Bezos's first time doing a conversation of this kind and of this length.And as Jeff Bezos told Lex Fridman, it felt like Jeff Bezos and Lex Fridman could have easily talked for many more hours, and Lex Fridman is sure they will.\", 'speaker': 'Lex Fridman'}\n",
      "{'text': \"This is the Lex Fridman Podcast.And now, dear friends, here's Jeff Bezos.Jeff Bezos spent a lot of Jeff Bezos's childhood with Jeff Bezos's grandfather on a ranch in Texas.\", 'speaker': 'Lex Fridman'}\n",
      "{'text': \"And Lex Fridman heard Jeff Bezos had a lot of work to do around the ranch.So what's the coolest job Jeff Bezos remembers doing there?\", 'speaker': 'Lex Fridman'}\n",
      "{'text': 'Wow, coolest.', 'speaker': 'Jeff Bezos'}\n",
      "{'text': 'Most interesting.Most memorable.', 'speaker': 'Lex Fridman'}\n",
      "{'text': \"Most memorable.Most impactful.It's a real working ranch.\", 'speaker': 'Jeff Bezos'}\n",
      "{'text': \"And Jeff Bezos spent all Jeff Bezos's summers on that ranch from age four to 16.And Jeff Bezos's grandfather was really taking Jeff Bezos in the summers and theJeff Bezos's grandfather was really just watching Jeff Bezos and taking care of Jeff Bezos.\", 'speaker': 'Jeff Bezos'}\n",
      "{'text': \"Jeff Bezos's grandfather was doing that because Jeff Bezos's mom was so young.Jeff Bezos's mom had Jeff Bezos when she was 17, and so Jeff Bezos's grandfather was sort of giving her a break, and Jeff Bezos's grandmother and grandfather would take Jeff Bezos for the summers.\", 'speaker': 'Jeff Bezos'}\n",
      "[Document(text=\"The following is a conversation with Jeff Bezos, founder of Amazon and Blue Origin.This is Jeff Bezos's first time doing a conversation of this kind and of this length.And as Jeff Bezos told Lex Fridman, it felt like Jeff Bezos and Lex Fridman could have easily talked for many more hours, and Lex Fridman is sure they will.\", metadata={'num': '0', 'speaker': 'Lex Fridman'}), Document(text=\"This is the Lex Fridman Podcast.And now, dear friends, here's Jeff Bezos.Jeff Bezos spent a lot of Jeff Bezos's childhood with Jeff Bezos's grandfather on a ranch in Texas.\", metadata={'num': '1', 'speaker': 'Lex Fridman'}), Document(text=\"And Lex Fridman heard Jeff Bezos had a lot of work to do around the ranch.So what's the coolest job Jeff Bezos remembers doing there?\", metadata={'num': '2', 'speaker': 'Lex Fridman'}), Document(text='Wow, coolest.', metadata={'num': '3', 'speaker': 'Jeff Bezos'}), Document(text='Most interesting.Most memorable.', metadata={'num': '4', 'speaker': 'Lex Fridman'}), Document(text=\"Most memorable.Most impactful.It's a real working ranch.\", metadata={'num': '5', 'speaker': 'Jeff Bezos'}), Document(text=\"And Jeff Bezos spent all Jeff Bezos's summers on that ranch from age four to 16.And Jeff Bezos's grandfather was really taking Jeff Bezos in the summers and theJeff Bezos's grandfather was really just watching Jeff Bezos and taking care of Jeff Bezos.\", metadata={'num': '6', 'speaker': 'Jeff Bezos'}), Document(text=\"Jeff Bezos's grandfather was doing that because Jeff Bezos's mom was so young.Jeff Bezos's mom had Jeff Bezos when she was 17, and so Jeff Bezos's grandfather was sort of giving her a break, and Jeff Bezos's grandmother and grandfather would take Jeff Bezos for the summers.\", metadata={'num': '7', 'speaker': 'Jeff Bezos'})]\n"
     ]
    }
   ],
   "source": [
    "#create docs for KG\n",
    "from graph_maker import Document\n",
    "\n",
    "# split into sentences\n",
    "sentences_to_clump_per_chunk = 3\n",
    "sentences = re.split(r'(?<!\\w\\.\\w.)(?<![A-Z][a-z]\\.)(?<=\\.|\\?)\\s', text_resolved)\n",
    "sentences_processed = process_sentences(sentences, sentences_to_clump_per_chunk) \n",
    "\n",
    "#print sentences\n",
    "for s in sentences_processed:\n",
    "    print(s)\n",
    "    \n",
    "docs = create_docs(sentences_processed)\n",
    "print(docs)"
   ]
  },
  {
   "cell_type": "code",
   "execution_count": 6,
   "metadata": {},
   "outputs": [
    {
     "name": "stderr",
     "output_type": "stream",
     "text": [
      "\u001b[92m\u001b[39m\n",
      "\u001b[92m▶︎ GRAPH MAKER LOG - 2024-05-28 14:47:43 - INFO \u001b[39m\n",
      "\u001b[92mDocument: 1\u001b[39m\n",
      "\u001b[92m\u001b[39m\n",
      "\u001b[34m\u001b[39m\n",
      "\u001b[34m▶︎ GRAPH MAKER VERBOSE - 2024-05-28 14:47:43 - INFO \u001b[39m\n",
      "\u001b[34mUsing Ontology:\n",
      "labels=[{'Person': 'Person name without any adjectives, Remember a person may be references by their name or using a pronoun'}, {'Object': \"Do not add the definite article 'the' in the object name\"}, {'Event': 'Event event involving multiple people. Do include qualifiers or verbs like gives, leaves, works etc.'}, 'Place', 'Document', 'Organisation', 'Action', {'Miscellanous': 'Any important concept can not be categorised with any other given label'}] relationships=['Relation between any pair of Entities']\u001b[39m\n",
      "\u001b[34m\u001b[39m\n"
     ]
    },
    {
     "name": "stdout",
     "output_type": "stream",
     "text": [
      "[Document(text=\"The following is a conversation with Jeff Bezos, founder of Amazon and Blue Origin.This is Jeff Bezos's first time doing a conversation of this kind and of this length.And as Jeff Bezos told Lex Fridman, it felt like Jeff Bezos and Lex Fridman could have easily talked for many more hours, and Lex Fridman is sure they will.\", metadata={'num': '0', 'speaker': 'Lex Fridman'}), Document(text=\"This is the Lex Fridman Podcast.And now, dear friends, here's Jeff Bezos.Jeff Bezos spent a lot of Jeff Bezos's childhood with Jeff Bezos's grandfather on a ranch in Texas.\", metadata={'num': '1', 'speaker': 'Lex Fridman'}), Document(text=\"And Lex Fridman heard Jeff Bezos had a lot of work to do around the ranch.So what's the coolest job Jeff Bezos remembers doing there?\", metadata={'num': '2', 'speaker': 'Lex Fridman'}), Document(text='Wow, coolest.', metadata={'num': '3', 'speaker': 'Jeff Bezos'}), Document(text='Most interesting.Most memorable.', metadata={'num': '4', 'speaker': 'Lex Fridman'}), Document(text=\"Most memorable.Most impactful.It's a real working ranch.\", metadata={'num': '5', 'speaker': 'Jeff Bezos'}), Document(text=\"And Jeff Bezos spent all Jeff Bezos's summers on that ranch from age four to 16.And Jeff Bezos's grandfather was really taking Jeff Bezos in the summers and theJeff Bezos's grandfather was really just watching Jeff Bezos and taking care of Jeff Bezos.\", metadata={'num': '6', 'speaker': 'Jeff Bezos'}), Document(text=\"Jeff Bezos's grandfather was doing that because Jeff Bezos's mom was so young.Jeff Bezos's mom had Jeff Bezos when she was 17, and so Jeff Bezos's grandfather was sort of giving her a break, and Jeff Bezos's grandmother and grandfather would take Jeff Bezos for the summers.\", metadata={'num': '7', 'speaker': 'Jeff Bezos'})]\n",
      "Using Model:  gpt-4-turbo\n"
     ]
    },
    {
     "name": "stderr",
     "output_type": "stream",
     "text": [
      "INFO:httpx:HTTP Request: POST https://api.openai.com/v1/chat/completions \"HTTP/1.1 200 OK\"\n",
      "\u001b[34m\u001b[39m\n",
      "\u001b[34m▶︎ GRAPH MAKER VERBOSE - 2024-05-28 14:47:59 - INFO \u001b[39m\n",
      "\u001b[34mLLM Response:\n",
      "[\n",
      "    {\n",
      "        \"node_1\": {\"label\": \"Person\", \"name\": \"Jeff Bezos\"},\n",
      "        \"node_2\": {\"label\": \"Organisation\", \"name\": \"Amazon\"},\n",
      "        \"relationship\": \"Jeff Bezos is the founder of Amazon.\"\n",
      "    },\n",
      "    {\n",
      "        \"node_1\": {\"label\": \"Person\", \"name\": \"Jeff Bezos\"},\n",
      "        \"node_2\": {\"label\": \"Organisation\", \"name\": \"Blue Origin\"},\n",
      "        \"relationship\": \"Jeff Bezos is the founder of Blue Origin.\"\n",
      "    },\n",
      "    {\n",
      "        \"node_1\": {\"label\": \"Person\", \"name\": \"Jeff Bezos\"},\n",
      "        \"node_2\": {\"label\": \"Person\", \"name\": \"Lex Fridman\"},\n",
      "        \"relationship\": \"Jeff Bezos had a conversation with Lex Fridman.\"\n",
      "    },\n",
      "    {\n",
      "        \"node_1\": {\"label\": \"Person\", \"name\": \"Jeff Bezos\"},\n",
      "        \"node_2\": {\"label\": \"Person\", \"name\": \"Lex Fridman\"},\n",
      "        \"relationship\": \"Jeff Bezos and Lex Fridman could have talked for many more hours.\"\n",
      "    },\n",
      "    {\n",
      "        \"node_1\": {\"label\": \"Person\", \"name\": \"Lex Fridman\"},\n",
      "        \"node_2\": {\"label\": \"Person\", \"name\": \"Jeff Bezos\"},\n",
      "        \"relationship\": \"Lex Fridman is sure that he and Jeff Bezos will talk again.\"\n",
      "    }\n",
      "]\u001b[39m\n",
      "\u001b[34m\u001b[39m\n",
      "\u001b[92m\u001b[39m\n",
      "\u001b[92m▶︎ GRAPH MAKER LOG - 2024-05-28 14:47:59 - INFO \u001b[39m\n",
      "\u001b[92mTrying JSON Parsing: \n",
      "[\n",
      "    {\n",
      "        \"node_1\": {\"label\": \"Person\", \"name\": \"Jeff Bezos\"},\n",
      "        \"node_2\": {\"label\": \"Organisation\", \"name\": \"Amazon\"},\n",
      "        \"relationship\": \"Jeff Bezos is the founder of Amazon.\"\n",
      "    },\n",
      "    {\n",
      "        \"node_1\": {\"label\": \"Person\", \"name\": \"Jeff Bezos\"},\n",
      "        \"node_2\": {\"label\": \"Organisation\", \"name\": \"Blue Origin\"},\n",
      "        \"relationship\": \"Jeff Bezos is the founder of Blue Origin.\"\n",
      "    },\n",
      "    {\n",
      "        \"node_1\": {\"label\": \"Person\", \"name\": \"Jeff Bezos\"},\n",
      "        \"node_2\": {\"label\": \"Person\", \"name\": \"Lex Fridman\"},\n",
      "        \"relationship\": \"Jeff Bezos had a conversation with Lex Fridman.\"\n",
      "    },\n",
      "    {\n",
      "        \"node_1\": {\"label\": \"Person\", \"name\": \"Jeff Bezos\"},\n",
      "        \"node_2\": {\"label\": \"Person\", \"name\": \"Lex Fridman\"},\n",
      "        \"relationship\": \"Jeff Bezos and Lex Fridman could have talked for many more hours.\"\n",
      "    },\n",
      "    {\n",
      "        \"node_1\": {\"label\": \"Person\", \"name\": \"Lex Fridman\"},\n",
      "        \"node_2\": {\"label\": \"Person\", \"name\": \"Jeff Bezos\"},\n",
      "        \"relationship\": \"Lex Fridman is sure that he and Jeff Bezos will talk again.\"\n",
      "    }\n",
      "]\u001b[39m\n",
      "\u001b[92m\u001b[39m\n",
      "\u001b[92m\u001b[39m\n",
      "\u001b[92m▶︎ GRAPH MAKER LOG - 2024-05-28 14:47:59 - INFO \u001b[39m\n",
      "\u001b[92mJSON Parsing Successful!\u001b[39m\n",
      "\u001b[92m\u001b[39m\n",
      "\u001b[92m\u001b[39m\n",
      "\u001b[92m▶︎ GRAPH MAKER LOG - 2024-05-28 14:48:09 - INFO \u001b[39m\n",
      "\u001b[92mDocument: 2\u001b[39m\n",
      "\u001b[92m\u001b[39m\n",
      "\u001b[34m\u001b[39m\n",
      "\u001b[34m▶︎ GRAPH MAKER VERBOSE - 2024-05-28 14:48:09 - INFO \u001b[39m\n",
      "\u001b[34mUsing Ontology:\n",
      "labels=[{'Person': 'Person name without any adjectives, Remember a person may be references by their name or using a pronoun'}, {'Object': \"Do not add the definite article 'the' in the object name\"}, {'Event': 'Event event involving multiple people. Do include qualifiers or verbs like gives, leaves, works etc.'}, 'Place', 'Document', 'Organisation', 'Action', {'Miscellanous': 'Any important concept can not be categorised with any other given label'}] relationships=['Relation between any pair of Entities']\u001b[39m\n",
      "\u001b[34m\u001b[39m\n"
     ]
    },
    {
     "name": "stdout",
     "output_type": "stream",
     "text": [
      "Using Model:  gpt-4-turbo\n"
     ]
    },
    {
     "name": "stderr",
     "output_type": "stream",
     "text": [
      "INFO:httpx:HTTP Request: POST https://api.openai.com/v1/chat/completions \"HTTP/1.1 200 OK\"\n",
      "\u001b[34m\u001b[39m\n",
      "\u001b[34m▶︎ GRAPH MAKER VERBOSE - 2024-05-28 14:48:18 - INFO \u001b[39m\n",
      "\u001b[34mLLM Response:\n",
      "[\n",
      "    {\n",
      "        \"node_1\": {\"label\": \"Person\", \"name\": \"Jeff Bezos\"},\n",
      "        \"node_2\": {\"label\": \"Person\", \"name\": \"Jeff Bezos's grandfather\"},\n",
      "        \"relationship\": \"Jeff Bezos spent a lot of his childhood with his grandfather.\"\n",
      "    },\n",
      "    {\n",
      "        \"node_1\": {\"label\": \"Person\", \"name\": \"Jeff Bezos\"},\n",
      "        \"node_2\": {\"label\": \"Place\", \"name\": \"ranch\"},\n",
      "        \"relationship\": \"Jeff Bezos spent a lot of his childhood on a ranch.\"\n",
      "    },\n",
      "    {\n",
      "        \"node_1\": {\"label\": \"Place\", \"name\": \"ranch\"},\n",
      "        \"node_2\": {\"label\": \"Place\", \"name\": \"Texas\"},\n",
      "        \"relationship\": \"The ranch is located in Texas.\"\n",
      "    }\n",
      "]\u001b[39m\n",
      "\u001b[34m\u001b[39m\n",
      "\u001b[92m\u001b[39m\n",
      "\u001b[92m▶︎ GRAPH MAKER LOG - 2024-05-28 14:48:18 - INFO \u001b[39m\n",
      "\u001b[92mTrying JSON Parsing: \n",
      "[\n",
      "    {\n",
      "        \"node_1\": {\"label\": \"Person\", \"name\": \"Jeff Bezos\"},\n",
      "        \"node_2\": {\"label\": \"Person\", \"name\": \"Jeff Bezos's grandfather\"},\n",
      "        \"relationship\": \"Jeff Bezos spent a lot of his childhood with his grandfather.\"\n",
      "    },\n",
      "    {\n",
      "        \"node_1\": {\"label\": \"Person\", \"name\": \"Jeff Bezos\"},\n",
      "        \"node_2\": {\"label\": \"Place\", \"name\": \"ranch\"},\n",
      "        \"relationship\": \"Jeff Bezos spent a lot of his childhood on a ranch.\"\n",
      "    },\n",
      "    {\n",
      "        \"node_1\": {\"label\": \"Place\", \"name\": \"ranch\"},\n",
      "        \"node_2\": {\"label\": \"Place\", \"name\": \"Texas\"},\n",
      "        \"relationship\": \"The ranch is located in Texas.\"\n",
      "    }\n",
      "]\u001b[39m\n",
      "\u001b[92m\u001b[39m\n",
      "\u001b[92m\u001b[39m\n",
      "\u001b[92m▶︎ GRAPH MAKER LOG - 2024-05-28 14:48:18 - INFO \u001b[39m\n",
      "\u001b[92mJSON Parsing Successful!\u001b[39m\n",
      "\u001b[92m\u001b[39m\n",
      "\u001b[92m\u001b[39m\n",
      "\u001b[92m▶︎ GRAPH MAKER LOG - 2024-05-28 14:48:28 - INFO \u001b[39m\n",
      "\u001b[92mDocument: 3\u001b[39m\n",
      "\u001b[92m\u001b[39m\n",
      "\u001b[34m\u001b[39m\n",
      "\u001b[34m▶︎ GRAPH MAKER VERBOSE - 2024-05-28 14:48:28 - INFO \u001b[39m\n",
      "\u001b[34mUsing Ontology:\n",
      "labels=[{'Person': 'Person name without any adjectives, Remember a person may be references by their name or using a pronoun'}, {'Object': \"Do not add the definite article 'the' in the object name\"}, {'Event': 'Event event involving multiple people. Do include qualifiers or verbs like gives, leaves, works etc.'}, 'Place', 'Document', 'Organisation', 'Action', {'Miscellanous': 'Any important concept can not be categorised with any other given label'}] relationships=['Relation between any pair of Entities']\u001b[39m\n",
      "\u001b[34m\u001b[39m\n"
     ]
    },
    {
     "name": "stdout",
     "output_type": "stream",
     "text": [
      "Using Model:  gpt-4-turbo\n"
     ]
    },
    {
     "name": "stderr",
     "output_type": "stream",
     "text": [
      "INFO:httpx:HTTP Request: POST https://api.openai.com/v1/chat/completions \"HTTP/1.1 200 OK\"\n",
      "\u001b[34m\u001b[39m\n",
      "\u001b[34m▶︎ GRAPH MAKER VERBOSE - 2024-05-28 14:48:37 - INFO \u001b[39m\n",
      "\u001b[34mLLM Response:\n",
      "[\n",
      "    {\n",
      "        \"node_1\": {\"label\": \"Person\", \"name\": \"Lex Fridman\"},\n",
      "        \"node_2\": {\"label\": \"Person\", \"name\": \"Jeff Bezos\"},\n",
      "        \"relationship\": \"Lex Fridman heard about Jeff Bezos\"\n",
      "    },\n",
      "    {\n",
      "        \"node_1\": {\"label\": \"Person\", \"name\": \"Jeff Bezos\"},\n",
      "        \"node_2\": {\"label\": \"Place\", \"name\": \"ranch\"},\n",
      "        \"relationship\": \"Jeff Bezos had a lot of work to do around the ranch\"\n",
      "    },\n",
      "    {\n",
      "        \"node_1\": {\"label\": \"Person\", \"name\": \"Jeff Bezos\"},\n",
      "        \"node_2\": {\"label\": \"Action\", \"name\": \"coolest job\"},\n",
      "        \"relationship\": \"Jeff Bezos remembers doing the coolest job at the ranch\"\n",
      "    }\n",
      "]\u001b[39m\n",
      "\u001b[34m\u001b[39m\n",
      "\u001b[92m\u001b[39m\n",
      "\u001b[92m▶︎ GRAPH MAKER LOG - 2024-05-28 14:48:37 - INFO \u001b[39m\n",
      "\u001b[92mTrying JSON Parsing: \n",
      "[\n",
      "    {\n",
      "        \"node_1\": {\"label\": \"Person\", \"name\": \"Lex Fridman\"},\n",
      "        \"node_2\": {\"label\": \"Person\", \"name\": \"Jeff Bezos\"},\n",
      "        \"relationship\": \"Lex Fridman heard about Jeff Bezos\"\n",
      "    },\n",
      "    {\n",
      "        \"node_1\": {\"label\": \"Person\", \"name\": \"Jeff Bezos\"},\n",
      "        \"node_2\": {\"label\": \"Place\", \"name\": \"ranch\"},\n",
      "        \"relationship\": \"Jeff Bezos had a lot of work to do around the ranch\"\n",
      "    },\n",
      "    {\n",
      "        \"node_1\": {\"label\": \"Person\", \"name\": \"Jeff Bezos\"},\n",
      "        \"node_2\": {\"label\": \"Action\", \"name\": \"coolest job\"},\n",
      "        \"relationship\": \"Jeff Bezos remembers doing the coolest job at the ranch\"\n",
      "    }\n",
      "]\u001b[39m\n",
      "\u001b[92m\u001b[39m\n",
      "\u001b[92m\u001b[39m\n",
      "\u001b[92m▶︎ GRAPH MAKER LOG - 2024-05-28 14:48:37 - INFO \u001b[39m\n",
      "\u001b[92mJSON Parsing Successful!\u001b[39m\n",
      "\u001b[92m\u001b[39m\n",
      "\u001b[92m\u001b[39m\n",
      "\u001b[92m▶︎ GRAPH MAKER LOG - 2024-05-28 14:48:47 - INFO \u001b[39m\n",
      "\u001b[92mDocument: 4\u001b[39m\n",
      "\u001b[92m\u001b[39m\n",
      "\u001b[34m\u001b[39m\n",
      "\u001b[34m▶︎ GRAPH MAKER VERBOSE - 2024-05-28 14:48:47 - INFO \u001b[39m\n",
      "\u001b[34mUsing Ontology:\n",
      "labels=[{'Person': 'Person name without any adjectives, Remember a person may be references by their name or using a pronoun'}, {'Object': \"Do not add the definite article 'the' in the object name\"}, {'Event': 'Event event involving multiple people. Do include qualifiers or verbs like gives, leaves, works etc.'}, 'Place', 'Document', 'Organisation', 'Action', {'Miscellanous': 'Any important concept can not be categorised with any other given label'}] relationships=['Relation between any pair of Entities']\u001b[39m\n",
      "\u001b[34m\u001b[39m\n"
     ]
    },
    {
     "name": "stdout",
     "output_type": "stream",
     "text": [
      "Using Model:  gpt-4-turbo\n"
     ]
    },
    {
     "name": "stderr",
     "output_type": "stream",
     "text": [
      "INFO:httpx:HTTP Request: POST https://api.openai.com/v1/chat/completions \"HTTP/1.1 200 OK\"\n",
      "\u001b[34m\u001b[39m\n",
      "\u001b[34m▶︎ GRAPH MAKER VERBOSE - 2024-05-28 14:48:48 - INFO \u001b[39m\n",
      "\u001b[34mLLM Response:\n",
      "[]\u001b[39m\n",
      "\u001b[34m\u001b[39m\n",
      "\u001b[92m\u001b[39m\n",
      "\u001b[92m▶︎ GRAPH MAKER LOG - 2024-05-28 14:48:48 - INFO \u001b[39m\n",
      "\u001b[92mTrying JSON Parsing: \n",
      "[]\u001b[39m\n",
      "\u001b[92m\u001b[39m\n",
      "\u001b[92m\u001b[39m\n",
      "\u001b[92m▶︎ GRAPH MAKER LOG - 2024-05-28 14:48:48 - INFO \u001b[39m\n",
      "\u001b[92mJSON Parsing Successful!\u001b[39m\n",
      "\u001b[92m\u001b[39m\n",
      "\u001b[92m\u001b[39m\n",
      "\u001b[92m▶︎ GRAPH MAKER LOG - 2024-05-28 14:48:48 - INFO \u001b[39m\n",
      "\u001b[92mTrying Manual Parsing: \n",
      "[]\u001b[39m\n",
      "\u001b[92m\u001b[39m\n",
      "\u001b[92m\u001b[39m\n",
      "\u001b[92m▶︎ GRAPH MAKER LOG - 2024-05-28 14:48:48 - INFO \u001b[39m\n",
      "\u001b[92mManually exracted 1 Edges\u001b[39m\n",
      "\u001b[92m\u001b[39m\n",
      "\u001b[35m\u001b[39m\n",
      "\u001b[35m▶︎ GRAPH MAKER ERROR - 2024-05-28 14:48:48 - INFO \u001b[39m\n",
      "\u001b[35mFailed to parse the Edge: \n",
      "[{'type': 'missing', 'loc': ('node_1',), 'msg': 'Field required'}, {'type': 'missing', 'loc': ('node_2',), 'msg': 'Field required'}, {'type': 'missing', 'loc': ('relationship',), 'msg': 'Field required'}]\u001b[39m\n",
      "\u001b[35m\u001b[39m\n",
      "\u001b[34m\u001b[39m\n",
      "\u001b[34m▶︎ GRAPH MAKER VERBOSE - 2024-05-28 14:48:48 - INFO \u001b[39m\n",
      "\u001b[34mFAULTY EDGE: {}\u001b[39m\n",
      "\u001b[34m\u001b[39m\n",
      "\u001b[92m\u001b[39m\n",
      "\u001b[92m▶︎ GRAPH MAKER LOG - 2024-05-28 14:48:58 - INFO \u001b[39m\n",
      "\u001b[92mDocument: 5\u001b[39m\n",
      "\u001b[92m\u001b[39m\n",
      "\u001b[34m\u001b[39m\n",
      "\u001b[34m▶︎ GRAPH MAKER VERBOSE - 2024-05-28 14:48:58 - INFO \u001b[39m\n",
      "\u001b[34mUsing Ontology:\n",
      "labels=[{'Person': 'Person name without any adjectives, Remember a person may be references by their name or using a pronoun'}, {'Object': \"Do not add the definite article 'the' in the object name\"}, {'Event': 'Event event involving multiple people. Do include qualifiers or verbs like gives, leaves, works etc.'}, 'Place', 'Document', 'Organisation', 'Action', {'Miscellanous': 'Any important concept can not be categorised with any other given label'}] relationships=['Relation between any pair of Entities']\u001b[39m\n",
      "\u001b[34m\u001b[39m\n"
     ]
    },
    {
     "name": "stdout",
     "output_type": "stream",
     "text": [
      "Using Model:  gpt-4-turbo\n"
     ]
    },
    {
     "name": "stderr",
     "output_type": "stream",
     "text": [
      "INFO:httpx:HTTP Request: POST https://api.openai.com/v1/chat/completions \"HTTP/1.1 200 OK\"\n",
      "\u001b[34m\u001b[39m\n",
      "\u001b[34m▶︎ GRAPH MAKER VERBOSE - 2024-05-28 14:48:58 - INFO \u001b[39m\n",
      "\u001b[34mLLM Response:\n",
      "[]\u001b[39m\n",
      "\u001b[34m\u001b[39m\n",
      "\u001b[92m\u001b[39m\n",
      "\u001b[92m▶︎ GRAPH MAKER LOG - 2024-05-28 14:48:58 - INFO \u001b[39m\n",
      "\u001b[92mTrying JSON Parsing: \n",
      "[]\u001b[39m\n",
      "\u001b[92m\u001b[39m\n",
      "\u001b[92m\u001b[39m\n",
      "\u001b[92m▶︎ GRAPH MAKER LOG - 2024-05-28 14:48:58 - INFO \u001b[39m\n",
      "\u001b[92mJSON Parsing Successful!\u001b[39m\n",
      "\u001b[92m\u001b[39m\n",
      "\u001b[92m\u001b[39m\n",
      "\u001b[92m▶︎ GRAPH MAKER LOG - 2024-05-28 14:48:58 - INFO \u001b[39m\n",
      "\u001b[92mTrying Manual Parsing: \n",
      "[]\u001b[39m\n",
      "\u001b[92m\u001b[39m\n",
      "\u001b[92m\u001b[39m\n",
      "\u001b[92m▶︎ GRAPH MAKER LOG - 2024-05-28 14:48:58 - INFO \u001b[39m\n",
      "\u001b[92mManually exracted 1 Edges\u001b[39m\n",
      "\u001b[92m\u001b[39m\n",
      "\u001b[35m\u001b[39m\n",
      "\u001b[35m▶︎ GRAPH MAKER ERROR - 2024-05-28 14:48:58 - INFO \u001b[39m\n",
      "\u001b[35mFailed to parse the Edge: \n",
      "[{'type': 'missing', 'loc': ('node_1',), 'msg': 'Field required'}, {'type': 'missing', 'loc': ('node_2',), 'msg': 'Field required'}, {'type': 'missing', 'loc': ('relationship',), 'msg': 'Field required'}]\u001b[39m\n",
      "\u001b[35m\u001b[39m\n",
      "\u001b[34m\u001b[39m\n",
      "\u001b[34m▶︎ GRAPH MAKER VERBOSE - 2024-05-28 14:48:58 - INFO \u001b[39m\n",
      "\u001b[34mFAULTY EDGE: {}\u001b[39m\n",
      "\u001b[34m\u001b[39m\n",
      "\u001b[92m\u001b[39m\n",
      "\u001b[92m▶︎ GRAPH MAKER LOG - 2024-05-28 14:49:08 - INFO \u001b[39m\n",
      "\u001b[92mDocument: 6\u001b[39m\n",
      "\u001b[92m\u001b[39m\n",
      "\u001b[34m\u001b[39m\n",
      "\u001b[34m▶︎ GRAPH MAKER VERBOSE - 2024-05-28 14:49:08 - INFO \u001b[39m\n",
      "\u001b[34mUsing Ontology:\n",
      "labels=[{'Person': 'Person name without any adjectives, Remember a person may be references by their name or using a pronoun'}, {'Object': \"Do not add the definite article 'the' in the object name\"}, {'Event': 'Event event involving multiple people. Do include qualifiers or verbs like gives, leaves, works etc.'}, 'Place', 'Document', 'Organisation', 'Action', {'Miscellanous': 'Any important concept can not be categorised with any other given label'}] relationships=['Relation between any pair of Entities']\u001b[39m\n",
      "\u001b[34m\u001b[39m\n"
     ]
    },
    {
     "name": "stdout",
     "output_type": "stream",
     "text": [
      "Using Model:  gpt-4-turbo\n"
     ]
    },
    {
     "name": "stderr",
     "output_type": "stream",
     "text": [
      "INFO:httpx:HTTP Request: POST https://api.openai.com/v1/chat/completions \"HTTP/1.1 200 OK\"\n",
      "\u001b[34m\u001b[39m\n",
      "\u001b[34m▶︎ GRAPH MAKER VERBOSE - 2024-05-28 14:49:10 - INFO \u001b[39m\n",
      "\u001b[34mLLM Response:\n",
      "[]\u001b[39m\n",
      "\u001b[34m\u001b[39m\n",
      "\u001b[92m\u001b[39m\n",
      "\u001b[92m▶︎ GRAPH MAKER LOG - 2024-05-28 14:49:10 - INFO \u001b[39m\n",
      "\u001b[92mTrying JSON Parsing: \n",
      "[]\u001b[39m\n",
      "\u001b[92m\u001b[39m\n",
      "\u001b[92m\u001b[39m\n",
      "\u001b[92m▶︎ GRAPH MAKER LOG - 2024-05-28 14:49:10 - INFO \u001b[39m\n",
      "\u001b[92mJSON Parsing Successful!\u001b[39m\n",
      "\u001b[92m\u001b[39m\n",
      "\u001b[92m\u001b[39m\n",
      "\u001b[92m▶︎ GRAPH MAKER LOG - 2024-05-28 14:49:10 - INFO \u001b[39m\n",
      "\u001b[92mTrying Manual Parsing: \n",
      "[]\u001b[39m\n",
      "\u001b[92m\u001b[39m\n",
      "\u001b[92m\u001b[39m\n",
      "\u001b[92m▶︎ GRAPH MAKER LOG - 2024-05-28 14:49:10 - INFO \u001b[39m\n",
      "\u001b[92mManually exracted 1 Edges\u001b[39m\n",
      "\u001b[92m\u001b[39m\n",
      "\u001b[35m\u001b[39m\n",
      "\u001b[35m▶︎ GRAPH MAKER ERROR - 2024-05-28 14:49:10 - INFO \u001b[39m\n",
      "\u001b[35mFailed to parse the Edge: \n",
      "[{'type': 'missing', 'loc': ('node_1',), 'msg': 'Field required'}, {'type': 'missing', 'loc': ('node_2',), 'msg': 'Field required'}, {'type': 'missing', 'loc': ('relationship',), 'msg': 'Field required'}]\u001b[39m\n",
      "\u001b[35m\u001b[39m\n",
      "\u001b[34m\u001b[39m\n",
      "\u001b[34m▶︎ GRAPH MAKER VERBOSE - 2024-05-28 14:49:10 - INFO \u001b[39m\n",
      "\u001b[34mFAULTY EDGE: {}\u001b[39m\n",
      "\u001b[34m\u001b[39m\n",
      "\u001b[92m\u001b[39m\n",
      "\u001b[92m▶︎ GRAPH MAKER LOG - 2024-05-28 14:49:20 - INFO \u001b[39m\n",
      "\u001b[92mDocument: 7\u001b[39m\n",
      "\u001b[92m\u001b[39m\n",
      "\u001b[34m\u001b[39m\n",
      "\u001b[34m▶︎ GRAPH MAKER VERBOSE - 2024-05-28 14:49:20 - INFO \u001b[39m\n",
      "\u001b[34mUsing Ontology:\n",
      "labels=[{'Person': 'Person name without any adjectives, Remember a person may be references by their name or using a pronoun'}, {'Object': \"Do not add the definite article 'the' in the object name\"}, {'Event': 'Event event involving multiple people. Do include qualifiers or verbs like gives, leaves, works etc.'}, 'Place', 'Document', 'Organisation', 'Action', {'Miscellanous': 'Any important concept can not be categorised with any other given label'}] relationships=['Relation between any pair of Entities']\u001b[39m\n",
      "\u001b[34m\u001b[39m\n"
     ]
    },
    {
     "name": "stdout",
     "output_type": "stream",
     "text": [
      "Using Model:  gpt-4-turbo\n"
     ]
    },
    {
     "name": "stderr",
     "output_type": "stream",
     "text": [
      "INFO:httpx:HTTP Request: POST https://api.openai.com/v1/chat/completions \"HTTP/1.1 200 OK\"\n",
      "\u001b[34m\u001b[39m\n",
      "\u001b[34m▶︎ GRAPH MAKER VERBOSE - 2024-05-28 14:49:26 - INFO \u001b[39m\n",
      "\u001b[34mLLM Response:\n",
      "[\n",
      "    {\n",
      "        \"node_1\": {\"label\": \"Person\", \"name\": \"Jeff Bezos\"},\n",
      "        \"node_2\": {\"label\": \"Place\", \"name\": \"ranch\"},\n",
      "        \"relationship\": \"Jeff Bezos spent his summers at the ranch from age four to 16.\"\n",
      "    },\n",
      "    {\n",
      "        \"node_1\": {\"label\": \"Person\", \"name\": \"Jeff Bezos's grandfather\"},\n",
      "        \"node_2\": {\"label\": \"Person\", \"name\": \"Jeff Bezos\"},\n",
      "        \"relationship\": \"Jeff Bezos's grandfather was taking care of Jeff Bezos during the summers.\"\n",
      "    }\n",
      "]\u001b[39m\n",
      "\u001b[34m\u001b[39m\n",
      "\u001b[92m\u001b[39m\n",
      "\u001b[92m▶︎ GRAPH MAKER LOG - 2024-05-28 14:49:26 - INFO \u001b[39m\n",
      "\u001b[92mTrying JSON Parsing: \n",
      "[\n",
      "    {\n",
      "        \"node_1\": {\"label\": \"Person\", \"name\": \"Jeff Bezos\"},\n",
      "        \"node_2\": {\"label\": \"Place\", \"name\": \"ranch\"},\n",
      "        \"relationship\": \"Jeff Bezos spent his summers at the ranch from age four to 16.\"\n",
      "    },\n",
      "    {\n",
      "        \"node_1\": {\"label\": \"Person\", \"name\": \"Jeff Bezos's grandfather\"},\n",
      "        \"node_2\": {\"label\": \"Person\", \"name\": \"Jeff Bezos\"},\n",
      "        \"relationship\": \"Jeff Bezos's grandfather was taking care of Jeff Bezos during the summers.\"\n",
      "    }\n",
      "]\u001b[39m\n",
      "\u001b[92m\u001b[39m\n",
      "\u001b[92m\u001b[39m\n",
      "\u001b[92m▶︎ GRAPH MAKER LOG - 2024-05-28 14:49:26 - INFO \u001b[39m\n",
      "\u001b[92mJSON Parsing Successful!\u001b[39m\n",
      "\u001b[92m\u001b[39m\n",
      "\u001b[92m\u001b[39m\n",
      "\u001b[92m▶︎ GRAPH MAKER LOG - 2024-05-28 14:49:36 - INFO \u001b[39m\n",
      "\u001b[92mDocument: 8\u001b[39m\n",
      "\u001b[92m\u001b[39m\n",
      "\u001b[34m\u001b[39m\n",
      "\u001b[34m▶︎ GRAPH MAKER VERBOSE - 2024-05-28 14:49:36 - INFO \u001b[39m\n",
      "\u001b[34mUsing Ontology:\n",
      "labels=[{'Person': 'Person name without any adjectives, Remember a person may be references by their name or using a pronoun'}, {'Object': \"Do not add the definite article 'the' in the object name\"}, {'Event': 'Event event involving multiple people. Do include qualifiers or verbs like gives, leaves, works etc.'}, 'Place', 'Document', 'Organisation', 'Action', {'Miscellanous': 'Any important concept can not be categorised with any other given label'}] relationships=['Relation between any pair of Entities']\u001b[39m\n",
      "\u001b[34m\u001b[39m\n"
     ]
    },
    {
     "name": "stdout",
     "output_type": "stream",
     "text": [
      "Using Model:  gpt-4-turbo\n"
     ]
    },
    {
     "name": "stderr",
     "output_type": "stream",
     "text": [
      "INFO:httpx:HTTP Request: POST https://api.openai.com/v1/chat/completions \"HTTP/1.1 200 OK\"\n",
      "\u001b[34m\u001b[39m\n",
      "\u001b[34m▶︎ GRAPH MAKER VERBOSE - 2024-05-28 14:49:50 - INFO \u001b[39m\n",
      "\u001b[34mLLM Response:\n",
      "[\n",
      "    {\n",
      "        \"node_1\": {\"label\": \"Person\", \"name\": \"Jeff Bezos's grandfather\"},\n",
      "        \"node_2\": {\"label\": \"Person\", \"name\": \"Jeff Bezos's mom\"},\n",
      "        \"relationship\": \"Jeff Bezos's grandfather was giving a break to Jeff Bezos's mom because she was young.\"\n",
      "    },\n",
      "    {\n",
      "        \"node_1\": {\"label\": \"Person\", \"name\": \"Jeff Bezos's mom\"},\n",
      "        \"node_2\": {\"label\": \"Person\", \"name\": \"Jeff Bezos\"},\n",
      "        \"relationship\": \"Jeff Bezos's mom had Jeff Bezos when she was 17.\"\n",
      "    },\n",
      "    {\n",
      "        \"node_1\": {\"label\": \"Person\", \"name\": \"Jeff Bezos's grandfather\"},\n",
      "        \"node_2\": {\"label\": \"Person\", \"name\": \"Jeff Bezos\"},\n",
      "        \"relationship\": \"Jeff Bezos's grandfather would take Jeff Bezos for the summers.\"\n",
      "    },\n",
      "    {\n",
      "        \"node_1\": {\"label\": \"Person\", \"name\": \"Jeff Bezos's grandmother\"},\n",
      "        \"node_2\": {\"label\": \"Person\", \"name\": \"Jeff Bezos\"},\n",
      "        \"relationship\": \"Jeff Bezos's grandmother would take Jeff Bezos for the summers along with Jeff Bezos's grandfather.\"\n",
      "    }\n",
      "]\u001b[39m\n",
      "\u001b[34m\u001b[39m\n",
      "\u001b[92m\u001b[39m\n",
      "\u001b[92m▶︎ GRAPH MAKER LOG - 2024-05-28 14:49:50 - INFO \u001b[39m\n",
      "\u001b[92mTrying JSON Parsing: \n",
      "[\n",
      "    {\n",
      "        \"node_1\": {\"label\": \"Person\", \"name\": \"Jeff Bezos's grandfather\"},\n",
      "        \"node_2\": {\"label\": \"Person\", \"name\": \"Jeff Bezos's mom\"},\n",
      "        \"relationship\": \"Jeff Bezos's grandfather was giving a break to Jeff Bezos's mom because she was young.\"\n",
      "    },\n",
      "    {\n",
      "        \"node_1\": {\"label\": \"Person\", \"name\": \"Jeff Bezos's mom\"},\n",
      "        \"node_2\": {\"label\": \"Person\", \"name\": \"Jeff Bezos\"},\n",
      "        \"relationship\": \"Jeff Bezos's mom had Jeff Bezos when she was 17.\"\n",
      "    },\n",
      "    {\n",
      "        \"node_1\": {\"label\": \"Person\", \"name\": \"Jeff Bezos's grandfather\"},\n",
      "        \"node_2\": {\"label\": \"Person\", \"name\": \"Jeff Bezos\"},\n",
      "        \"relationship\": \"Jeff Bezos's grandfather would take Jeff Bezos for the summers.\"\n",
      "    },\n",
      "    {\n",
      "        \"node_1\": {\"label\": \"Person\", \"name\": \"Jeff Bezos's grandmother\"},\n",
      "        \"node_2\": {\"label\": \"Person\", \"name\": \"Jeff Bezos\"},\n",
      "        \"relationship\": \"Jeff Bezos's grandmother would take Jeff Bezos for the summers along with Jeff Bezos's grandfather.\"\n",
      "    }\n",
      "]\u001b[39m\n",
      "\u001b[92m\u001b[39m\n",
      "\u001b[92m\u001b[39m\n",
      "\u001b[92m▶︎ GRAPH MAKER LOG - 2024-05-28 14:49:50 - INFO \u001b[39m\n",
      "\u001b[92mJSON Parsing Successful!\u001b[39m\n",
      "\u001b[92m\u001b[39m\n"
     ]
    },
    {
     "name": "stdout",
     "output_type": "stream",
     "text": [
      "Total number of Edges 17\n"
     ]
    }
   ],
   "source": [
    "from graph_maker import GraphMaker, Ontology, GroqClient, OpenAIClient\n",
    "\n",
    "ontology = Ontology(\n",
    "    # labels of the entities to be extracted. Can be a string or an object, like the following.\n",
    "    labels=[\n",
    "        {\"Person\": \"Person name without any adjectives, Remember a person may be references by their name or using a pronoun\"},\n",
    "        {\"Object\": \"Do not add the definite article 'the' in the object name\"},\n",
    "        {\"Event\": \"Event event involving multiple people. Do include qualifiers or verbs like gives, leaves, works etc.\"},\n",
    "        \"Place\",\n",
    "        \"Document\",\n",
    "        \"Organisation\",\n",
    "        \"Action\",\n",
    "        {\"Miscellanous\": \"Any important concept can not be categorised with any other given label\"},\n",
    "    ],\n",
    "    # Relationships that are important for your application.\n",
    "    # These are more like instructions for the LLM to nudge it to focus on specific relationships.\n",
    "    # There is no guarentee that only these relationships will be extracted, but some models do a good job overall at sticking to these relations.\n",
    "    relationships=[\n",
    "        \"Relation between any pair of Entities\",\n",
    "        ],\n",
    ")\n",
    "\n",
    "## Select a groq supported model\n",
    "## model = \"mixtral-8x7b-32768\"\n",
    "#model =\"llama3-8b-8192\"\n",
    "model = \"gpt-4-turbo\"\n",
    "## model = \"llama3-70b-8192\"\n",
    "## model=\"gemma-7b-it\" ## This is probably the fastest of all models, though a tad inaccurate.\n",
    "\n",
    "llm = OpenAIClient(model=model, temperature=0.1, top_p=0.5)\n",
    "graph_maker = GraphMaker(ontology=ontology, llm_client=llm, verbose=False)\n",
    "\n",
    "text1 = \"\"\"\n",
    "The following is a conversation with Jeff Bezos, founder of Amazon and Blue Origin.\n",
    "This is his first time doing a conversation of this kind and of this length.\n",
    "And as he told me, it felt like we could have easily talked for many more hours, and I'm sure we will.\n",
    "This is the Lex Friedman Podcast.\n",
    "\"\"\"\n",
    "text2 = \"\"\"\n",
    "James works at openai in it's alignment team that also contains james' friend mark\n",
    "\"\"\"\n",
    "\n",
    "print(list(docs))\n",
    "## create a graph out of a list of Documents.\n",
    "graph = graph_maker.from_documents(\n",
    "    list(docs),\n",
    "    delay_s_between=10 ## delay_s_between because otherwise groq api maxes out pretty fast.\n",
    "    )\n",
    "## result -> a list of Edges.\n",
    "print(\"Total number of Edges\", len(graph))\n",
    "## 1503"
   ]
  },
  {
   "cell_type": "code",
   "execution_count": 7,
   "metadata": {},
   "outputs": [
    {
     "name": "stdout",
     "output_type": "stream",
     "text": [
      "[Edge(node_1=Node(label='Person', name='Jeff Bezos'), node_2=Node(label='Organisation', name='Amazon'), relationship='Jeff Bezos is the founder of Amazon.', metadata={'num': '0', 'speaker': 'Lex Fridman'}, order=0), Edge(node_1=Node(label='Person', name='Jeff Bezos'), node_2=Node(label='Organisation', name='Blue Origin'), relationship='Jeff Bezos is the founder of Blue Origin.', metadata={'num': '0', 'speaker': 'Lex Fridman'}, order=0), Edge(node_1=Node(label='Person', name='Jeff Bezos'), node_2=Node(label='Person', name='Lex Fridman'), relationship='Jeff Bezos had a conversation with Lex Fridman.', metadata={'num': '0', 'speaker': 'Lex Fridman'}, order=0), Edge(node_1=Node(label='Person', name='Jeff Bezos'), node_2=Node(label='Person', name='Lex Fridman'), relationship='Jeff Bezos and Lex Fridman could have talked for many more hours.', metadata={'num': '0', 'speaker': 'Lex Fridman'}, order=0), Edge(node_1=Node(label='Person', name='Lex Fridman'), node_2=Node(label='Person', name='Jeff Bezos'), relationship='Lex Fridman is sure that he and Jeff Bezos will talk again.', metadata={'num': '0', 'speaker': 'Lex Fridman'}, order=0), Edge(node_1=Node(label='Person', name='Jeff Bezos'), node_2=Node(label='Person', name=\"Jeff Bezos's grandfather\"), relationship='Jeff Bezos spent a lot of his childhood with his grandfather.', metadata={'num': '1', 'speaker': 'Lex Fridman'}, order=1), Edge(node_1=Node(label='Person', name='Jeff Bezos'), node_2=Node(label='Place', name='ranch'), relationship='Jeff Bezos spent a lot of his childhood on a ranch.', metadata={'num': '1', 'speaker': 'Lex Fridman'}, order=1), Edge(node_1=Node(label='Place', name='ranch'), node_2=Node(label='Place', name='Texas'), relationship='The ranch is located in Texas.', metadata={'num': '1', 'speaker': 'Lex Fridman'}, order=1), Edge(node_1=Node(label='Person', name='Lex Fridman'), node_2=Node(label='Person', name='Jeff Bezos'), relationship='Lex Fridman heard about Jeff Bezos', metadata={'num': '2', 'speaker': 'Lex Fridman'}, order=2), Edge(node_1=Node(label='Person', name='Jeff Bezos'), node_2=Node(label='Place', name='ranch'), relationship='Jeff Bezos had a lot of work to do around the ranch', metadata={'num': '2', 'speaker': 'Lex Fridman'}, order=2), Edge(node_1=Node(label='Person', name='Jeff Bezos'), node_2=Node(label='Action', name='coolest job'), relationship='Jeff Bezos remembers doing the coolest job at the ranch', metadata={'num': '2', 'speaker': 'Lex Fridman'}, order=2), Edge(node_1=Node(label='Person', name='Jeff Bezos'), node_2=Node(label='Place', name='ranch'), relationship='Jeff Bezos spent his summers at the ranch from age four to 16.', metadata={'num': '6', 'speaker': 'Jeff Bezos'}, order=6), Edge(node_1=Node(label='Person', name=\"Jeff Bezos's grandfather\"), node_2=Node(label='Person', name='Jeff Bezos'), relationship=\"Jeff Bezos's grandfather was taking care of Jeff Bezos during the summers.\", metadata={'num': '6', 'speaker': 'Jeff Bezos'}, order=6), Edge(node_1=Node(label='Person', name=\"Jeff Bezos's grandfather\"), node_2=Node(label='Person', name=\"Jeff Bezos's mom\"), relationship=\"Jeff Bezos's grandfather was giving a break to Jeff Bezos's mom because she was young.\", metadata={'num': '7', 'speaker': 'Jeff Bezos'}, order=7), Edge(node_1=Node(label='Person', name=\"Jeff Bezos's mom\"), node_2=Node(label='Person', name='Jeff Bezos'), relationship=\"Jeff Bezos's mom had Jeff Bezos when she was 17.\", metadata={'num': '7', 'speaker': 'Jeff Bezos'}, order=7), Edge(node_1=Node(label='Person', name=\"Jeff Bezos's grandfather\"), node_2=Node(label='Person', name='Jeff Bezos'), relationship=\"Jeff Bezos's grandfather would take Jeff Bezos for the summers.\", metadata={'num': '7', 'speaker': 'Jeff Bezos'}, order=7), Edge(node_1=Node(label='Person', name=\"Jeff Bezos's grandmother\"), node_2=Node(label='Person', name='Jeff Bezos'), relationship=\"Jeff Bezos's grandmother would take Jeff Bezos for the summers along with Jeff Bezos's grandfather.\", metadata={'num': '7', 'speaker': 'Jeff Bezos'}, order=7)]\n"
     ]
    },
    {
     "data": {
      "text/plain": [
       "17"
      ]
     },
     "execution_count": 7,
     "metadata": {},
     "output_type": "execute_result"
    }
   ],
   "source": [
    "print(graph)\n",
    "len(graph)"
   ]
  },
  {
   "cell_type": "code",
   "execution_count": 8,
   "metadata": {},
   "outputs": [],
   "source": [
    "import pandas as pd\n",
    "import pyvis\n",
    "from pyvis.network import Network\n",
    "pyvis.__version__\n",
    "net = Network(notebook=True, cdn_resources='in_line')"
   ]
  },
  {
   "cell_type": "code",
   "execution_count": 9,
   "metadata": {},
   "outputs": [],
   "source": [
    "# Function to check if a node exists\n",
    "def node_exists(net, node_id):\n",
    "    return any(node['id'] == node_id for node in net.nodes)\n",
    "\n",
    "def create_joined_string(input_string):\n",
    "    modified_string = input_string.replace(' ', '_')\n",
    "    modified_string = modified_string.replace(\"'\", \"\")\n",
    "    return modified_string\n",
    "\n",
    "def coreference_resolution(text):\n",
    "    response = client.chat.completions.create(\n",
    "    model=\"gpt-4-turbo\",\n",
    "    messages=[\n",
    "        {\"role\": \"system\", \"content\": CORESOLUTION_SYSTEM_PROMPT},\n",
    "        {\"role\": \"user\", \"content\": f\"{text}\"},\n",
    "    ]\n",
    "    )\n",
    "    return response.choices[0].message.content"
   ]
  },
  {
   "cell_type": "code",
   "execution_count": 10,
   "metadata": {},
   "outputs": [
    {
     "name": "stdout",
     "output_type": "stream",
     "text": [
      "Person: Jeff Bezos --> Organisation:Amazon; rel:Jeff Bezos is the founder of Amazon.\n",
      "Person: Jeff Bezos --> Organisation:Blue Origin; rel:Jeff Bezos is the founder of Blue Origin.\n",
      "Person: Jeff Bezos --> Person:Lex Fridman; rel:Jeff Bezos had a conversation with Lex Fridman.\n",
      "Person: Lex Fridman --> Person:Jeff Bezos; rel:Lex Fridman had a conversation with Jeff Bezos and felt that the conversation could have continued for many more hours.\n",
      "Person: Lex Friedman --> Event:Lex Friedman Podcast; rel:Lex Friedman is the host or central figure of the Lex Friedman Podcast.\n",
      "Person: Jeff Bezos --> Event:Lex Friedman Podcast; rel:Jeff Bezos is a guest or a topic of discussion on the Lex Friedman Podcast.\n",
      "Person: Jeff Bezos --> Place:Texas; rel:Jeff Bezos spent a significant part of his childhood in Texas.\n",
      "Person: Jeff Bezos --> Person:Jeff's grandfather; rel:Jeff Bezos spent a lot of his childhood with his grandfather.\n",
      "Person: Jeff's grandfather --> Place:ranch; rel:Jeff's grandfather owned or lived on a ranch.\n",
      "Place: ranch --> Place:Texas; rel:The ranch where Jeff Bezos spent time with his grandfather is located in Texas.\n",
      "Person: Lex Fridman --> Person:Jeff; rel:Lex Fridman heard about Jeff's work.\n",
      "Person: Jeff --> Place:ranch; rel:Jeff had a lot of work to do around the ranch.\n",
      "Person: Jeff --> Action:coolest job; rel:Jeff remembers doing the coolest job at the ranch.\n",
      "Person: Jeff --> Place:ranch; rel:Jeff spent his summers at the ranch from age four to 16.\n",
      "Person: Jeff --> Person:Jeff's grandfather; rel:Jeff's grandfather was taking care of Jeff during the summers.\n"
     ]
    }
   ],
   "source": [
    "#TODO: duplicate nodes cannot be accomodated, please add\n",
    "for chunk in graph:\n",
    "    labels = [chunk.node_1.label, chunk.node_2.label]\n",
    "    ids = [chunk.node_1.name, chunk.node_2.name]\n",
    "    relationship = chunk.relationship\n",
    "    print(f\"{labels[0]}: {ids[0]} --> {labels[1]}:{ids[1]}; rel:{relationship}\")\n",
    "\n",
    "    for label,id in zip(labels,ids):\n",
    "        if not node_exists(net, node_id=id):\n",
    "            net.add_node(id, label=f\"{label}:{id}\")\n",
    "\n",
    "    net.add_edge(ids[0], ids[1], title=relationship, arrows='to')"
   ]
  },
  {
   "cell_type": "code",
   "execution_count": 11,
   "metadata": {},
   "outputs": [
    {
     "name": "stdout",
     "output_type": "stream",
     "text": [
      "simple_network.html\n"
     ]
    },
    {
     "data": {
      "text/html": [
       "\n",
       "        <iframe\n",
       "            width=\"100%\"\n",
       "            height=\"600px\"\n",
       "            src=\"simple_network.html\"\n",
       "            frameborder=\"0\"\n",
       "            allowfullscreen\n",
       "            \n",
       "        ></iframe>\n",
       "        "
      ],
      "text/plain": [
       "<IPython.lib.display.IFrame at 0x722c35282350>"
      ]
     },
     "execution_count": 11,
     "metadata": {},
     "output_type": "execute_result"
    }
   ],
   "source": [
    "net.show_buttons(filter_=['physics'])\n",
    "net.show('simple_network.html')"
   ]
  },
  {
   "cell_type": "markdown",
   "metadata": {},
   "source": [
    "### Create Falkor db graph from nodes:\n",
    "#### command to run to spin up db:\n",
    "`docker run -p 6379:6379 -p 3000:3000 -it --rm falkordb/falkordb:latest`"
   ]
  },
  {
   "cell_type": "code",
   "execution_count": 12,
   "metadata": {},
   "outputs": [],
   "source": [
    "from falkordb import FalkorDB\n",
    "\n",
    "# Connect to FalkorDB\n",
    "db = FalkorDB(host='localhost', port=6379)\n",
    "\n",
    "# Create the 'MotoGP' graph\n",
    "g = db.select_graph('Convo-1')"
   ]
  },
  {
   "cell_type": "code",
   "execution_count": 13,
   "metadata": {},
   "outputs": [
    {
     "name": "stdout",
     "output_type": "stream",
     "text": [
      "CREATE\n",
      "(:Person {name:\"Jeff Bezos\"})-[:Jeff_Bezos_is_the_founder_of_Amazon]->(:Organisation {name:\"Amazon\"}),\n",
      "(:Person {name:\"Jeff Bezos\"})-[:Jeff_Bezos_is_the_founder_of_Blue_Origin]->(:Organisation {name:\"Blue Origin\"}),\n",
      "(:Person {name:\"Jeff Bezos\"})-[:Jeff_Bezos_had_a_conversation_with_Lex_Fridman]->(:Person {name:\"Lex Fridman\"}),\n",
      "(:Person {name:\"Lex Fridman\"})-[:Lex_Fridman_had_a_conversation_with_Jeff_Bezos_and_felt_that_the_conversation_could_have_continued_for_many_more_hours]->(:Person {name:\"Jeff Bezos\"}),\n",
      "(:Person {name:\"Lex Friedman\"})-[:Lex_Friedman_is_the_host_or_central_figure_of_the_Lex_Friedman_Podcast]->(:Event {name:\"Lex Friedman Podcast\"}),\n",
      "(:Person {name:\"Jeff Bezos\"})-[:Jeff_Bezos_is_a_guest_or_a_topic_of_discussion_on_the_Lex_Friedman_Podcast]->(:Event {name:\"Lex Friedman Podcast\"}),\n",
      "(:Person {name:\"Jeff Bezos\"})-[:Jeff_Bezos_spent_a_significant_part_of_his_childhood_in_Texas]->(:Place {name:\"Texas\"}),\n",
      "(:Person {name:\"Jeff Bezos\"})-[:Jeff_Bezos_spent_a_lot_of_his_childhood_with_his_grandfather]->(:Person {name:\"Jeff's grandfather\"}),\n",
      "(:Person {name:\"Jeff's grandfather\"})-[:Jeffs_grandfather_owned_or_lived_on_a_ranch]->(:Place {name:\"ranch\"}),\n",
      "(:Place {name:\"ranch\"})-[:The_ranch_where_Jeff_Bezos_spent_time_with_his_grandfather_is_located_in_Texas]->(:Place {name:\"Texas\"}),\n",
      "(:Person {name:\"Lex Fridman\"})-[:Lex_Fridman_heard_about_Jeffs_work]->(:Person {name:\"Jeff\"}),\n",
      "(:Person {name:\"Jeff\"})-[:Jeff_had_a_lot_of_work_to_do_around_the_ranch]->(:Place {name:\"ranch\"}),\n",
      "(:Person {name:\"Jeff\"})-[:Jeff_remembers_doing_the_coolest_job_at_the_ranch]->(:Action {name:\"coolest job\"}),\n",
      "(:Person {name:\"Jeff\"})-[:Jeff_spent_his_summers_at_the_ranch_from_age_four_to_16]->(:Place {name:\"ranch\"}),\n",
      "(:Person {name:\"Jeff\"})-[:Jeffs_grandfather_was_taking_care_of_Jeff_during_the_summers]->(:Person {name:\"Jeff's grandfather\"})\n"
     ]
    }
   ],
   "source": [
    "relationship_list = []\n",
    "query = \"CREATE\\n\"\n",
    "for chunk in graph:\n",
    "    labels = [chunk.node_1.label, chunk.node_2.label]\n",
    "    ids = [chunk.node_1.name, chunk.node_2.name]\n",
    "    relationship = create_joined_string(chunk.relationship.split('.')[0])\n",
    "    relationship_list.append(relationship)\n",
    "    query += f\"\"\"(:{labels[0]} {{name:\"{ids[0]}\"}})-[:{relationship}]->(:{labels[1]} {{name:\"{ids[1]}\"}}),\\n\"\"\"\n",
    "query =  query[:-2]\n",
    "print(query)"
   ]
  },
  {
   "cell_type": "code",
   "execution_count": 14,
   "metadata": {},
   "outputs": [
    {
     "name": "stderr",
     "output_type": "stream",
     "text": [
      "INFO:httpx:HTTP Request: POST https://api.openai.com/v1/chat/completions \"HTTP/1.1 200 OK\"\n"
     ]
    },
    {
     "name": "stdout",
     "output_type": "stream",
     "text": [
      "CREATE\n",
      "(jeff:Person {name:\"Jeff Bezos\"}),\n",
      "(amazon:Organisation {name:\"Amazon\"}),\n",
      "(blueOrigin:Organisation {name:\"Blue Origin\"}),\n",
      "(lex:Person {name:\"Lex Fridman\"}),\n",
      "(lexPodcast:Event {name:\"Lex Friedman Podcast\"}),\n",
      "(texas:Place {name:\"Texas\"}),\n",
      "(grandfather:Person {name:\"Jeff's grandfather\"}),\n",
      "(ranch:Place {name:\"ranch\"}),\n",
      "(coolestJob:Action {name:\"coolest job\"}),\n",
      "\n",
      "(jeff)-[:FOUNDED]->(amazon),\n",
      "(jeff)-[:FOUNDED]->(blueOrigin),\n",
      "(jeff)-[:HAD_CONVERSATION {details: \"conversation could have continued for many more hours\"}]->(lex),\n",
      "(lex)-[:HAD_CONVERSATION {details: \"conversation could have continued for many more hours\"}]->(jeff),\n",
      "(lex)-[:HOSTS]->(lexPodcast),\n",
      "(jeff)-[:GUEST_ON]->(lexPodcast),\n",
      "(jeff)-[:SPENT_CHILDHOOD_IN]->(texas),\n",
      "(jeff)-[:SPENT_TIME_WITH]->(grandfather),\n",
      "(grandfather)-[:OWNED]->(ranch),\n",
      "(ranch)-[:LOCATED_IN]->(texas),\n",
      "(lex)-[:HEARD_ABOUT]->(jeff),\n",
      "(jeff)-[:WORKED_AT {details: \"had a lot of work to do\"}]->(ranch),\n",
      "(jeff)-[:DID_JOB {details: \"remembers doing the coolest job\"}]->(coolestJob),\n",
      "(jeff)-[:SPENT_SUMMERS {age_range: \"from age four to 16\"}]->(ranch),\n",
      "(jeff)-[:CARED_FOR_BY {during: \"summers\"}]->(grandfather)\n"
     ]
    }
   ],
   "source": [
    "## Create cypher query \n",
    "GRAPH_CLEANER_PROMPT = \"\"\" \n",
    "                            You are an expert at generating open cypher queries.\n",
    "                            You are provided with a list of cypher queries for creation of new nodes and edges.\n",
    "                            Your duty is to simplify the queries so that the relationships fall into categories preferably.\n",
    "                            Feel free to rearrange or add new nodes if required to ensure the best relationships are captured.\n",
    "                            Do not change or remove any details as provided by the query.\n",
    "                            Ensure to use metadata in the reltionship elements to capture any details that cannot be captured otherwise\n",
    "\n",
    "                            Examples:\n",
    "                            CREATE (charlie:Person:Actor {name: 'Charlie Sheen'})-[:ACTED_IN {role: 'Bud Fox'}]->(wallStreet:Movie {title: 'Wall Street'})<-[:DIRECTED]-(oliver:Person:Director {name: 'Oliver Stone'})\n",
    "\n",
    "                            Notice how in the relationship 'ACTED_IN' the role of 'Bud fox' is present.\n",
    "                        \"\"\"\n",
    "\n",
    "def clean_graph(query):\n",
    "    response = client.chat.completions.create(\n",
    "    model=\"gpt-4-turbo\",\n",
    "    temperature=0.0,\n",
    "    messages=[\n",
    "        {\"role\": \"system\", \"content\": GRAPH_CLEANER_PROMPT},\n",
    "        {\"role\": \"user\", \"content\": f\"{query}\"},\n",
    "    ]\n",
    "    )\n",
    "    return response.choices[0].message.content\n",
    "\n",
    "modified_query = clean_graph(query)\n",
    "print(modified_query)"
   ]
  },
  {
   "cell_type": "code",
   "execution_count": 21,
   "metadata": {},
   "outputs": [
    {
     "data": {
      "text/plain": [
       "<falkordb.query_result.QueryResult at 0x722c649fa6d0>"
      ]
     },
     "execution_count": 21,
     "metadata": {},
     "output_type": "execute_result"
    }
   ],
   "source": [
    "g.query(modified_query)"
   ]
  },
  {
   "cell_type": "code",
   "execution_count": 39,
   "metadata": {},
   "outputs": [
    {
     "name": "stdout",
     "output_type": "stream",
     "text": [
      "9\n",
      "(:Person{name:\"Jeff Bezos\"})\n",
      "(:Organisation{name:\"Amazon\"})\n",
      "(:Organisation{name:\"Blue Origin\"})\n",
      "(:Person{name:\"Lex Fridman\"})\n",
      "(:Event{name:\"Lex Friedman Podcast\"})\n",
      "(:Place{name:\"Texas\"})\n",
      "(:Person{name:\"Jeff's grandfather\"})\n",
      "(:Place{name:\"ranch\"})\n",
      "(:Action{name:\"coolest job\"})\n",
      "\n"
     ]
    }
   ],
   "source": [
    "# print all nodes in graph\n",
    "node_text= \"\"\n",
    "nodes = g.query(\"\"\"MATCH (n)\n",
    "                RETURN n\"\"\")\n",
    "for node in nodes.result_set:\n",
    "    node_text += str(node[0]) + \"\\n\"\n",
    "node_length = len(nodes.result_set)\n",
    "print(node_length)\n",
    "print(node_text)\n"
   ]
  },
  {
   "cell_type": "code",
   "execution_count": 50,
   "metadata": {},
   "outputs": [
    {
     "name": "stdout",
     "output_type": "stream",
     "text": [
      "\n",
      "\n",
      "\n",
      "\n",
      "\n",
      "\n",
      "\n",
      "\n",
      "\n",
      "\n",
      "\n",
      "\n",
      "\n",
      "\n",
      "\n",
      "HEARD_ABOUT\n",
      "SPENT_TIME_WITH\n",
      "HOSTS\n",
      "OWNED\n",
      "LOCATED_IN\n",
      "SPENT_CHILDHOOD_IN\n",
      "HAD_CONVERSATION {details: conversation could have continued for many more hours}\n",
      "SPENT_SUMMERS {age_range: from age four to 16}\n",
      "WORKED_AT {details: had a lot of work to do}\n",
      "CARED_FOR_BY {during: summers}\n",
      "GUEST_ON\n",
      "FOUNDED\n",
      "DID_JOB {details: remembers doing the coolest job}\n",
      "\n"
     ]
    }
   ],
   "source": [
    "relationship_text = \"\"\n",
    "edge_set = set()\n",
    "edges = g.query(\"\"\"MATCH ()-[r]->()\n",
    "RETURN type(r) AS type, properties(r) AS properties\"\"\")\n",
    "for e in edges.result_set:\n",
    "    temp_e = str(e[0])\n",
    "    #print(e[0], end=\" \")\n",
    "    for key, value in e[1].items():\n",
    "        #print(f'Key: {key}, Value: {value}')\n",
    "        temp_e += str(f\" {{{key}: {value}}}\")\n",
    "    edge_set.add(temp_e)\n",
    "    print()\n",
    "#print(edge_set)\n",
    "edge_len=len(edge_set)\n",
    "for e in edge_set:\n",
    "    relationship_text += str(e)+ \"\\n\"\n",
    "\n",
    "print(relationship_text)"
   ]
  },
  {
   "cell_type": "code",
   "execution_count": 37,
   "metadata": {},
   "outputs": [],
   "source": [
    "node_properties_query = \"\"\"\n",
    "CALL apoc.meta.data()\n",
    "YIELD label, other, elementType, type, property\n",
    "WHERE NOT type = \"RELATIONSHIP\" AND elementType = \"node\"\n",
    "WITH label AS nodeLabels, collect(property) AS properties\n",
    "RETURN {labels: nodeLabels, properties: properties} AS output\n",
    "\"\"\"\n",
    "\n",
    "rel_properties_query = \"\"\"\n",
    "CALL apoc.meta.data()\n",
    "YIELD label, other, elementType, type, property\n",
    "WHERE NOT type = \"RELATIONSHIP\" AND elementType = \"relationship\"\n",
    "WITH label AS nodeLabels, collect(property) AS properties\n",
    "RETURN {type: nodeLabels, properties: properties} AS output\n",
    "\"\"\"\n",
    "\n",
    "rel_query = \"\"\"\n",
    "CALL apoc.meta.data()\n",
    "YIELD label, other, elementType, type, property\n",
    "WHERE type = \"RELATIONSHIP\" AND elementType = \"node\"\n",
    "RETURN {source: label, relationship: property, target: other} AS output\n",
    "\"\"\""
   ]
  },
  {
   "cell_type": "code",
   "execution_count": 31,
   "metadata": {},
   "outputs": [
    {
     "ename": "ResponseError",
     "evalue": "errMsg: Invalid input 'L': expected SET line: 1, column: 3, offset: 2 errCtx: SELECT * from nodes errCtxOffset: 2",
     "output_type": "error",
     "traceback": [
      "\u001b[0;31m---------------------------------------------------------------------------\u001b[0m",
      "\u001b[0;31mResponseError\u001b[0m                             Traceback (most recent call last)",
      "Cell \u001b[0;32mIn[31], line 1\u001b[0m\n\u001b[0;32m----> 1\u001b[0m nodes \u001b[38;5;241m=\u001b[39m \u001b[43mg\u001b[49m\u001b[38;5;241;43m.\u001b[39;49m\u001b[43mquery\u001b[49m\u001b[43m(\u001b[49m\u001b[38;5;124;43m\"\u001b[39;49m\u001b[38;5;124;43mSELECT * from nodes\u001b[39;49m\u001b[38;5;124;43m\"\u001b[39;49m\u001b[43m)\u001b[49m\n\u001b[1;32m      2\u001b[0m \u001b[38;5;28mprint\u001b[39m(nodes)\n",
      "File \u001b[0;32m~/miniconda3/envs/graph/lib/python3.11/site-packages/falkordb/graph.py:115\u001b[0m, in \u001b[0;36mGraph.query\u001b[0;34m(self, q, params, timeout)\u001b[0m\n\u001b[1;32m     99\u001b[0m \u001b[38;5;28;01mdef\u001b[39;00m \u001b[38;5;21mquery\u001b[39m(\u001b[38;5;28mself\u001b[39m, q: \u001b[38;5;28mstr\u001b[39m, params: Optional[Dict[\u001b[38;5;28mstr\u001b[39m, \u001b[38;5;28mobject\u001b[39m]] \u001b[38;5;241m=\u001b[39m \u001b[38;5;28;01mNone\u001b[39;00m,\n\u001b[1;32m    100\u001b[0m           timeout: Optional[\u001b[38;5;28mint\u001b[39m] \u001b[38;5;241m=\u001b[39m \u001b[38;5;28;01mNone\u001b[39;00m) \u001b[38;5;241m-\u001b[39m\u001b[38;5;241m>\u001b[39m QueryResult:\n\u001b[1;32m    101\u001b[0m \u001b[38;5;250m    \u001b[39m\u001b[38;5;124;03m\"\"\"\u001b[39;00m\n\u001b[1;32m    102\u001b[0m \u001b[38;5;124;03m    Executes a query against the graph.\u001b[39;00m\n\u001b[1;32m    103\u001b[0m \u001b[38;5;124;03m    See: https://docs.falkordb.com/commands/graph.query.html\u001b[39;00m\n\u001b[0;32m   (...)\u001b[0m\n\u001b[1;32m    112\u001b[0m \n\u001b[1;32m    113\u001b[0m \u001b[38;5;124;03m    \"\"\"\u001b[39;00m\n\u001b[0;32m--> 115\u001b[0m     \u001b[38;5;28;01mreturn\u001b[39;00m \u001b[38;5;28;43mself\u001b[39;49m\u001b[38;5;241;43m.\u001b[39;49m\u001b[43m_query\u001b[49m\u001b[43m(\u001b[49m\u001b[43mq\u001b[49m\u001b[43m,\u001b[49m\u001b[43m \u001b[49m\u001b[43mparams\u001b[49m\u001b[38;5;241;43m=\u001b[39;49m\u001b[43mparams\u001b[49m\u001b[43m,\u001b[49m\u001b[43m \u001b[49m\u001b[43mtimeout\u001b[49m\u001b[38;5;241;43m=\u001b[39;49m\u001b[43mtimeout\u001b[49m\u001b[43m,\u001b[49m\u001b[43m \u001b[49m\u001b[43mread_only\u001b[49m\u001b[38;5;241;43m=\u001b[39;49m\u001b[38;5;28;43;01mFalse\u001b[39;49;00m\u001b[43m)\u001b[49m\n",
      "File \u001b[0;32m~/miniconda3/envs/graph/lib/python3.11/site-packages/falkordb/graph.py:91\u001b[0m, in \u001b[0;36mGraph._query\u001b[0;34m(self, q, params, timeout, read_only)\u001b[0m\n\u001b[1;32m     89\u001b[0m \u001b[38;5;66;03m# issue query\u001b[39;00m\n\u001b[1;32m     90\u001b[0m \u001b[38;5;28;01mtry\u001b[39;00m:\n\u001b[0;32m---> 91\u001b[0m     response \u001b[38;5;241m=\u001b[39m \u001b[38;5;28;43mself\u001b[39;49m\u001b[38;5;241;43m.\u001b[39;49m\u001b[43mexecute_command\u001b[49m\u001b[43m(\u001b[49m\u001b[38;5;241;43m*\u001b[39;49m\u001b[43mcommand\u001b[49m\u001b[43m)\u001b[49m\n\u001b[1;32m     92\u001b[0m     \u001b[38;5;28;01mreturn\u001b[39;00m QueryResult(\u001b[38;5;28mself\u001b[39m, response)\n\u001b[1;32m     93\u001b[0m \u001b[38;5;28;01mexcept\u001b[39;00m SchemaVersionMismatchException \u001b[38;5;28;01mas\u001b[39;00m e:\n\u001b[1;32m     94\u001b[0m     \u001b[38;5;66;03m# client view over the graph schema is out of sync\u001b[39;00m\n\u001b[1;32m     95\u001b[0m     \u001b[38;5;66;03m# set client version and refresh local schema\u001b[39;00m\n",
      "File \u001b[0;32m~/miniconda3/envs/graph/lib/python3.11/site-packages/redis/client.py:545\u001b[0m, in \u001b[0;36mRedis.execute_command\u001b[0;34m(self, *args, **options)\u001b[0m\n\u001b[1;32m    542\u001b[0m conn \u001b[38;5;241m=\u001b[39m \u001b[38;5;28mself\u001b[39m\u001b[38;5;241m.\u001b[39mconnection \u001b[38;5;129;01mor\u001b[39;00m pool\u001b[38;5;241m.\u001b[39mget_connection(command_name, \u001b[38;5;241m*\u001b[39m\u001b[38;5;241m*\u001b[39moptions)\n\u001b[1;32m    544\u001b[0m \u001b[38;5;28;01mtry\u001b[39;00m:\n\u001b[0;32m--> 545\u001b[0m     \u001b[38;5;28;01mreturn\u001b[39;00m \u001b[43mconn\u001b[49m\u001b[38;5;241;43m.\u001b[39;49m\u001b[43mretry\u001b[49m\u001b[38;5;241;43m.\u001b[39;49m\u001b[43mcall_with_retry\u001b[49m\u001b[43m(\u001b[49m\n\u001b[1;32m    546\u001b[0m \u001b[43m        \u001b[49m\u001b[38;5;28;43;01mlambda\u001b[39;49;00m\u001b[43m:\u001b[49m\u001b[43m \u001b[49m\u001b[38;5;28;43mself\u001b[39;49m\u001b[38;5;241;43m.\u001b[39;49m\u001b[43m_send_command_parse_response\u001b[49m\u001b[43m(\u001b[49m\n\u001b[1;32m    547\u001b[0m \u001b[43m            \u001b[49m\u001b[43mconn\u001b[49m\u001b[43m,\u001b[49m\u001b[43m \u001b[49m\u001b[43mcommand_name\u001b[49m\u001b[43m,\u001b[49m\u001b[43m \u001b[49m\u001b[38;5;241;43m*\u001b[39;49m\u001b[43margs\u001b[49m\u001b[43m,\u001b[49m\u001b[43m \u001b[49m\u001b[38;5;241;43m*\u001b[39;49m\u001b[38;5;241;43m*\u001b[39;49m\u001b[43moptions\u001b[49m\n\u001b[1;32m    548\u001b[0m \u001b[43m        \u001b[49m\u001b[43m)\u001b[49m\u001b[43m,\u001b[49m\n\u001b[1;32m    549\u001b[0m \u001b[43m        \u001b[49m\u001b[38;5;28;43;01mlambda\u001b[39;49;00m\u001b[43m \u001b[49m\u001b[43merror\u001b[49m\u001b[43m:\u001b[49m\u001b[43m \u001b[49m\u001b[38;5;28;43mself\u001b[39;49m\u001b[38;5;241;43m.\u001b[39;49m\u001b[43m_disconnect_raise\u001b[49m\u001b[43m(\u001b[49m\u001b[43mconn\u001b[49m\u001b[43m,\u001b[49m\u001b[43m \u001b[49m\u001b[43merror\u001b[49m\u001b[43m)\u001b[49m\u001b[43m,\u001b[49m\n\u001b[1;32m    550\u001b[0m \u001b[43m    \u001b[49m\u001b[43m)\u001b[49m\n\u001b[1;32m    551\u001b[0m \u001b[38;5;28;01mfinally\u001b[39;00m:\n\u001b[1;32m    552\u001b[0m     \u001b[38;5;28;01mif\u001b[39;00m \u001b[38;5;129;01mnot\u001b[39;00m \u001b[38;5;28mself\u001b[39m\u001b[38;5;241m.\u001b[39mconnection:\n",
      "File \u001b[0;32m~/miniconda3/envs/graph/lib/python3.11/site-packages/redis/retry.py:46\u001b[0m, in \u001b[0;36mRetry.call_with_retry\u001b[0;34m(self, do, fail)\u001b[0m\n\u001b[1;32m     44\u001b[0m \u001b[38;5;28;01mwhile\u001b[39;00m \u001b[38;5;28;01mTrue\u001b[39;00m:\n\u001b[1;32m     45\u001b[0m     \u001b[38;5;28;01mtry\u001b[39;00m:\n\u001b[0;32m---> 46\u001b[0m         \u001b[38;5;28;01mreturn\u001b[39;00m \u001b[43mdo\u001b[49m\u001b[43m(\u001b[49m\u001b[43m)\u001b[49m\n\u001b[1;32m     47\u001b[0m     \u001b[38;5;28;01mexcept\u001b[39;00m \u001b[38;5;28mself\u001b[39m\u001b[38;5;241m.\u001b[39m_supported_errors \u001b[38;5;28;01mas\u001b[39;00m error:\n\u001b[1;32m     48\u001b[0m         failures \u001b[38;5;241m+\u001b[39m\u001b[38;5;241m=\u001b[39m \u001b[38;5;241m1\u001b[39m\n",
      "File \u001b[0;32m~/miniconda3/envs/graph/lib/python3.11/site-packages/redis/client.py:546\u001b[0m, in \u001b[0;36mRedis.execute_command.<locals>.<lambda>\u001b[0;34m()\u001b[0m\n\u001b[1;32m    542\u001b[0m conn \u001b[38;5;241m=\u001b[39m \u001b[38;5;28mself\u001b[39m\u001b[38;5;241m.\u001b[39mconnection \u001b[38;5;129;01mor\u001b[39;00m pool\u001b[38;5;241m.\u001b[39mget_connection(command_name, \u001b[38;5;241m*\u001b[39m\u001b[38;5;241m*\u001b[39moptions)\n\u001b[1;32m    544\u001b[0m \u001b[38;5;28;01mtry\u001b[39;00m:\n\u001b[1;32m    545\u001b[0m     \u001b[38;5;28;01mreturn\u001b[39;00m conn\u001b[38;5;241m.\u001b[39mretry\u001b[38;5;241m.\u001b[39mcall_with_retry(\n\u001b[0;32m--> 546\u001b[0m         \u001b[38;5;28;01mlambda\u001b[39;00m: \u001b[38;5;28;43mself\u001b[39;49m\u001b[38;5;241;43m.\u001b[39;49m\u001b[43m_send_command_parse_response\u001b[49m\u001b[43m(\u001b[49m\n\u001b[1;32m    547\u001b[0m \u001b[43m            \u001b[49m\u001b[43mconn\u001b[49m\u001b[43m,\u001b[49m\u001b[43m \u001b[49m\u001b[43mcommand_name\u001b[49m\u001b[43m,\u001b[49m\u001b[43m \u001b[49m\u001b[38;5;241;43m*\u001b[39;49m\u001b[43margs\u001b[49m\u001b[43m,\u001b[49m\u001b[43m \u001b[49m\u001b[38;5;241;43m*\u001b[39;49m\u001b[38;5;241;43m*\u001b[39;49m\u001b[43moptions\u001b[49m\n\u001b[1;32m    548\u001b[0m \u001b[43m        \u001b[49m\u001b[43m)\u001b[49m,\n\u001b[1;32m    549\u001b[0m         \u001b[38;5;28;01mlambda\u001b[39;00m error: \u001b[38;5;28mself\u001b[39m\u001b[38;5;241m.\u001b[39m_disconnect_raise(conn, error),\n\u001b[1;32m    550\u001b[0m     )\n\u001b[1;32m    551\u001b[0m \u001b[38;5;28;01mfinally\u001b[39;00m:\n\u001b[1;32m    552\u001b[0m     \u001b[38;5;28;01mif\u001b[39;00m \u001b[38;5;129;01mnot\u001b[39;00m \u001b[38;5;28mself\u001b[39m\u001b[38;5;241m.\u001b[39mconnection:\n",
      "File \u001b[0;32m~/miniconda3/envs/graph/lib/python3.11/site-packages/redis/client.py:522\u001b[0m, in \u001b[0;36mRedis._send_command_parse_response\u001b[0;34m(self, conn, command_name, *args, **options)\u001b[0m\n\u001b[1;32m    518\u001b[0m \u001b[38;5;250m\u001b[39m\u001b[38;5;124;03m\"\"\"\u001b[39;00m\n\u001b[1;32m    519\u001b[0m \u001b[38;5;124;03mSend a command and parse the response\u001b[39;00m\n\u001b[1;32m    520\u001b[0m \u001b[38;5;124;03m\"\"\"\u001b[39;00m\n\u001b[1;32m    521\u001b[0m conn\u001b[38;5;241m.\u001b[39msend_command(\u001b[38;5;241m*\u001b[39margs)\n\u001b[0;32m--> 522\u001b[0m \u001b[38;5;28;01mreturn\u001b[39;00m \u001b[38;5;28;43mself\u001b[39;49m\u001b[38;5;241;43m.\u001b[39;49m\u001b[43mparse_response\u001b[49m\u001b[43m(\u001b[49m\u001b[43mconn\u001b[49m\u001b[43m,\u001b[49m\u001b[43m \u001b[49m\u001b[43mcommand_name\u001b[49m\u001b[43m,\u001b[49m\u001b[43m \u001b[49m\u001b[38;5;241;43m*\u001b[39;49m\u001b[38;5;241;43m*\u001b[39;49m\u001b[43moptions\u001b[49m\u001b[43m)\u001b[49m\n",
      "File \u001b[0;32m~/miniconda3/envs/graph/lib/python3.11/site-packages/redis/client.py:562\u001b[0m, in \u001b[0;36mRedis.parse_response\u001b[0;34m(self, connection, command_name, **options)\u001b[0m\n\u001b[1;32m    560\u001b[0m         options\u001b[38;5;241m.\u001b[39mpop(NEVER_DECODE)\n\u001b[1;32m    561\u001b[0m     \u001b[38;5;28;01melse\u001b[39;00m:\n\u001b[0;32m--> 562\u001b[0m         response \u001b[38;5;241m=\u001b[39m \u001b[43mconnection\u001b[49m\u001b[38;5;241;43m.\u001b[39;49m\u001b[43mread_response\u001b[49m\u001b[43m(\u001b[49m\u001b[43m)\u001b[49m\n\u001b[1;32m    563\u001b[0m \u001b[38;5;28;01mexcept\u001b[39;00m ResponseError:\n\u001b[1;32m    564\u001b[0m     \u001b[38;5;28;01mif\u001b[39;00m EMPTY_RESPONSE \u001b[38;5;129;01min\u001b[39;00m options:\n",
      "File \u001b[0;32m~/miniconda3/envs/graph/lib/python3.11/site-packages/redis/connection.py:536\u001b[0m, in \u001b[0;36mAbstractConnection.read_response\u001b[0;34m(self, disable_decoding, disconnect_on_error, push_request)\u001b[0m\n\u001b[1;32m    534\u001b[0m \u001b[38;5;28;01mif\u001b[39;00m \u001b[38;5;28misinstance\u001b[39m(response, ResponseError):\n\u001b[1;32m    535\u001b[0m     \u001b[38;5;28;01mtry\u001b[39;00m:\n\u001b[0;32m--> 536\u001b[0m         \u001b[38;5;28;01mraise\u001b[39;00m response\n\u001b[1;32m    537\u001b[0m     \u001b[38;5;28;01mfinally\u001b[39;00m:\n\u001b[1;32m    538\u001b[0m         \u001b[38;5;28;01mdel\u001b[39;00m response  \u001b[38;5;66;03m# avoid creating ref cycles\u001b[39;00m\n",
      "\u001b[0;31mResponseError\u001b[0m: errMsg: Invalid input 'L': expected SET line: 1, column: 3, offset: 2 errCtx: SELECT * from nodes errCtxOffset: 2"
     ]
    }
   ],
   "source": [
    "nodes = g.query(\"SELECT * from nodes\")\n",
    "print(nodes)"
   ]
  },
  {
   "cell_type": "code",
   "execution_count": 38,
   "metadata": {},
   "outputs": [
    {
     "ename": "ResponseError",
     "evalue": "Procedure `apoc.meta.data` is not registered",
     "output_type": "error",
     "traceback": [
      "\u001b[0;31m---------------------------------------------------------------------------\u001b[0m",
      "\u001b[0;31mResponseError\u001b[0m                             Traceback (most recent call last)",
      "Cell \u001b[0;32mIn[38], line 1\u001b[0m\n\u001b[0;32m----> 1\u001b[0m \u001b[43mg\u001b[49m\u001b[38;5;241;43m.\u001b[39;49m\u001b[43mquery\u001b[49m\u001b[43m(\u001b[49m\u001b[43mnode_properties_query\u001b[49m\u001b[43m)\u001b[49m\n",
      "File \u001b[0;32m~/miniconda3/envs/graph/lib/python3.11/site-packages/falkordb/graph.py:115\u001b[0m, in \u001b[0;36mGraph.query\u001b[0;34m(self, q, params, timeout)\u001b[0m\n\u001b[1;32m     99\u001b[0m \u001b[38;5;28;01mdef\u001b[39;00m \u001b[38;5;21mquery\u001b[39m(\u001b[38;5;28mself\u001b[39m, q: \u001b[38;5;28mstr\u001b[39m, params: Optional[Dict[\u001b[38;5;28mstr\u001b[39m, \u001b[38;5;28mobject\u001b[39m]] \u001b[38;5;241m=\u001b[39m \u001b[38;5;28;01mNone\u001b[39;00m,\n\u001b[1;32m    100\u001b[0m           timeout: Optional[\u001b[38;5;28mint\u001b[39m] \u001b[38;5;241m=\u001b[39m \u001b[38;5;28;01mNone\u001b[39;00m) \u001b[38;5;241m-\u001b[39m\u001b[38;5;241m>\u001b[39m QueryResult:\n\u001b[1;32m    101\u001b[0m \u001b[38;5;250m    \u001b[39m\u001b[38;5;124;03m\"\"\"\u001b[39;00m\n\u001b[1;32m    102\u001b[0m \u001b[38;5;124;03m    Executes a query against the graph.\u001b[39;00m\n\u001b[1;32m    103\u001b[0m \u001b[38;5;124;03m    See: https://docs.falkordb.com/commands/graph.query.html\u001b[39;00m\n\u001b[0;32m   (...)\u001b[0m\n\u001b[1;32m    112\u001b[0m \n\u001b[1;32m    113\u001b[0m \u001b[38;5;124;03m    \"\"\"\u001b[39;00m\n\u001b[0;32m--> 115\u001b[0m     \u001b[38;5;28;01mreturn\u001b[39;00m \u001b[38;5;28;43mself\u001b[39;49m\u001b[38;5;241;43m.\u001b[39;49m\u001b[43m_query\u001b[49m\u001b[43m(\u001b[49m\u001b[43mq\u001b[49m\u001b[43m,\u001b[49m\u001b[43m \u001b[49m\u001b[43mparams\u001b[49m\u001b[38;5;241;43m=\u001b[39;49m\u001b[43mparams\u001b[49m\u001b[43m,\u001b[49m\u001b[43m \u001b[49m\u001b[43mtimeout\u001b[49m\u001b[38;5;241;43m=\u001b[39;49m\u001b[43mtimeout\u001b[49m\u001b[43m,\u001b[49m\u001b[43m \u001b[49m\u001b[43mread_only\u001b[49m\u001b[38;5;241;43m=\u001b[39;49m\u001b[38;5;28;43;01mFalse\u001b[39;49;00m\u001b[43m)\u001b[49m\n",
      "File \u001b[0;32m~/miniconda3/envs/graph/lib/python3.11/site-packages/falkordb/graph.py:91\u001b[0m, in \u001b[0;36mGraph._query\u001b[0;34m(self, q, params, timeout, read_only)\u001b[0m\n\u001b[1;32m     89\u001b[0m \u001b[38;5;66;03m# issue query\u001b[39;00m\n\u001b[1;32m     90\u001b[0m \u001b[38;5;28;01mtry\u001b[39;00m:\n\u001b[0;32m---> 91\u001b[0m     response \u001b[38;5;241m=\u001b[39m \u001b[38;5;28;43mself\u001b[39;49m\u001b[38;5;241;43m.\u001b[39;49m\u001b[43mexecute_command\u001b[49m\u001b[43m(\u001b[49m\u001b[38;5;241;43m*\u001b[39;49m\u001b[43mcommand\u001b[49m\u001b[43m)\u001b[49m\n\u001b[1;32m     92\u001b[0m     \u001b[38;5;28;01mreturn\u001b[39;00m QueryResult(\u001b[38;5;28mself\u001b[39m, response)\n\u001b[1;32m     93\u001b[0m \u001b[38;5;28;01mexcept\u001b[39;00m SchemaVersionMismatchException \u001b[38;5;28;01mas\u001b[39;00m e:\n\u001b[1;32m     94\u001b[0m     \u001b[38;5;66;03m# client view over the graph schema is out of sync\u001b[39;00m\n\u001b[1;32m     95\u001b[0m     \u001b[38;5;66;03m# set client version and refresh local schema\u001b[39;00m\n",
      "File \u001b[0;32m~/miniconda3/envs/graph/lib/python3.11/site-packages/redis/client.py:545\u001b[0m, in \u001b[0;36mRedis.execute_command\u001b[0;34m(self, *args, **options)\u001b[0m\n\u001b[1;32m    542\u001b[0m conn \u001b[38;5;241m=\u001b[39m \u001b[38;5;28mself\u001b[39m\u001b[38;5;241m.\u001b[39mconnection \u001b[38;5;129;01mor\u001b[39;00m pool\u001b[38;5;241m.\u001b[39mget_connection(command_name, \u001b[38;5;241m*\u001b[39m\u001b[38;5;241m*\u001b[39moptions)\n\u001b[1;32m    544\u001b[0m \u001b[38;5;28;01mtry\u001b[39;00m:\n\u001b[0;32m--> 545\u001b[0m     \u001b[38;5;28;01mreturn\u001b[39;00m \u001b[43mconn\u001b[49m\u001b[38;5;241;43m.\u001b[39;49m\u001b[43mretry\u001b[49m\u001b[38;5;241;43m.\u001b[39;49m\u001b[43mcall_with_retry\u001b[49m\u001b[43m(\u001b[49m\n\u001b[1;32m    546\u001b[0m \u001b[43m        \u001b[49m\u001b[38;5;28;43;01mlambda\u001b[39;49;00m\u001b[43m:\u001b[49m\u001b[43m \u001b[49m\u001b[38;5;28;43mself\u001b[39;49m\u001b[38;5;241;43m.\u001b[39;49m\u001b[43m_send_command_parse_response\u001b[49m\u001b[43m(\u001b[49m\n\u001b[1;32m    547\u001b[0m \u001b[43m            \u001b[49m\u001b[43mconn\u001b[49m\u001b[43m,\u001b[49m\u001b[43m \u001b[49m\u001b[43mcommand_name\u001b[49m\u001b[43m,\u001b[49m\u001b[43m \u001b[49m\u001b[38;5;241;43m*\u001b[39;49m\u001b[43margs\u001b[49m\u001b[43m,\u001b[49m\u001b[43m \u001b[49m\u001b[38;5;241;43m*\u001b[39;49m\u001b[38;5;241;43m*\u001b[39;49m\u001b[43moptions\u001b[49m\n\u001b[1;32m    548\u001b[0m \u001b[43m        \u001b[49m\u001b[43m)\u001b[49m\u001b[43m,\u001b[49m\n\u001b[1;32m    549\u001b[0m \u001b[43m        \u001b[49m\u001b[38;5;28;43;01mlambda\u001b[39;49;00m\u001b[43m \u001b[49m\u001b[43merror\u001b[49m\u001b[43m:\u001b[49m\u001b[43m \u001b[49m\u001b[38;5;28;43mself\u001b[39;49m\u001b[38;5;241;43m.\u001b[39;49m\u001b[43m_disconnect_raise\u001b[49m\u001b[43m(\u001b[49m\u001b[43mconn\u001b[49m\u001b[43m,\u001b[49m\u001b[43m \u001b[49m\u001b[43merror\u001b[49m\u001b[43m)\u001b[49m\u001b[43m,\u001b[49m\n\u001b[1;32m    550\u001b[0m \u001b[43m    \u001b[49m\u001b[43m)\u001b[49m\n\u001b[1;32m    551\u001b[0m \u001b[38;5;28;01mfinally\u001b[39;00m:\n\u001b[1;32m    552\u001b[0m     \u001b[38;5;28;01mif\u001b[39;00m \u001b[38;5;129;01mnot\u001b[39;00m \u001b[38;5;28mself\u001b[39m\u001b[38;5;241m.\u001b[39mconnection:\n",
      "File \u001b[0;32m~/miniconda3/envs/graph/lib/python3.11/site-packages/redis/retry.py:46\u001b[0m, in \u001b[0;36mRetry.call_with_retry\u001b[0;34m(self, do, fail)\u001b[0m\n\u001b[1;32m     44\u001b[0m \u001b[38;5;28;01mwhile\u001b[39;00m \u001b[38;5;28;01mTrue\u001b[39;00m:\n\u001b[1;32m     45\u001b[0m     \u001b[38;5;28;01mtry\u001b[39;00m:\n\u001b[0;32m---> 46\u001b[0m         \u001b[38;5;28;01mreturn\u001b[39;00m \u001b[43mdo\u001b[49m\u001b[43m(\u001b[49m\u001b[43m)\u001b[49m\n\u001b[1;32m     47\u001b[0m     \u001b[38;5;28;01mexcept\u001b[39;00m \u001b[38;5;28mself\u001b[39m\u001b[38;5;241m.\u001b[39m_supported_errors \u001b[38;5;28;01mas\u001b[39;00m error:\n\u001b[1;32m     48\u001b[0m         failures \u001b[38;5;241m+\u001b[39m\u001b[38;5;241m=\u001b[39m \u001b[38;5;241m1\u001b[39m\n",
      "File \u001b[0;32m~/miniconda3/envs/graph/lib/python3.11/site-packages/redis/client.py:546\u001b[0m, in \u001b[0;36mRedis.execute_command.<locals>.<lambda>\u001b[0;34m()\u001b[0m\n\u001b[1;32m    542\u001b[0m conn \u001b[38;5;241m=\u001b[39m \u001b[38;5;28mself\u001b[39m\u001b[38;5;241m.\u001b[39mconnection \u001b[38;5;129;01mor\u001b[39;00m pool\u001b[38;5;241m.\u001b[39mget_connection(command_name, \u001b[38;5;241m*\u001b[39m\u001b[38;5;241m*\u001b[39moptions)\n\u001b[1;32m    544\u001b[0m \u001b[38;5;28;01mtry\u001b[39;00m:\n\u001b[1;32m    545\u001b[0m     \u001b[38;5;28;01mreturn\u001b[39;00m conn\u001b[38;5;241m.\u001b[39mretry\u001b[38;5;241m.\u001b[39mcall_with_retry(\n\u001b[0;32m--> 546\u001b[0m         \u001b[38;5;28;01mlambda\u001b[39;00m: \u001b[38;5;28;43mself\u001b[39;49m\u001b[38;5;241;43m.\u001b[39;49m\u001b[43m_send_command_parse_response\u001b[49m\u001b[43m(\u001b[49m\n\u001b[1;32m    547\u001b[0m \u001b[43m            \u001b[49m\u001b[43mconn\u001b[49m\u001b[43m,\u001b[49m\u001b[43m \u001b[49m\u001b[43mcommand_name\u001b[49m\u001b[43m,\u001b[49m\u001b[43m \u001b[49m\u001b[38;5;241;43m*\u001b[39;49m\u001b[43margs\u001b[49m\u001b[43m,\u001b[49m\u001b[43m \u001b[49m\u001b[38;5;241;43m*\u001b[39;49m\u001b[38;5;241;43m*\u001b[39;49m\u001b[43moptions\u001b[49m\n\u001b[1;32m    548\u001b[0m \u001b[43m        \u001b[49m\u001b[43m)\u001b[49m,\n\u001b[1;32m    549\u001b[0m         \u001b[38;5;28;01mlambda\u001b[39;00m error: \u001b[38;5;28mself\u001b[39m\u001b[38;5;241m.\u001b[39m_disconnect_raise(conn, error),\n\u001b[1;32m    550\u001b[0m     )\n\u001b[1;32m    551\u001b[0m \u001b[38;5;28;01mfinally\u001b[39;00m:\n\u001b[1;32m    552\u001b[0m     \u001b[38;5;28;01mif\u001b[39;00m \u001b[38;5;129;01mnot\u001b[39;00m \u001b[38;5;28mself\u001b[39m\u001b[38;5;241m.\u001b[39mconnection:\n",
      "File \u001b[0;32m~/miniconda3/envs/graph/lib/python3.11/site-packages/redis/client.py:522\u001b[0m, in \u001b[0;36mRedis._send_command_parse_response\u001b[0;34m(self, conn, command_name, *args, **options)\u001b[0m\n\u001b[1;32m    518\u001b[0m \u001b[38;5;250m\u001b[39m\u001b[38;5;124;03m\"\"\"\u001b[39;00m\n\u001b[1;32m    519\u001b[0m \u001b[38;5;124;03mSend a command and parse the response\u001b[39;00m\n\u001b[1;32m    520\u001b[0m \u001b[38;5;124;03m\"\"\"\u001b[39;00m\n\u001b[1;32m    521\u001b[0m conn\u001b[38;5;241m.\u001b[39msend_command(\u001b[38;5;241m*\u001b[39margs)\n\u001b[0;32m--> 522\u001b[0m \u001b[38;5;28;01mreturn\u001b[39;00m \u001b[38;5;28;43mself\u001b[39;49m\u001b[38;5;241;43m.\u001b[39;49m\u001b[43mparse_response\u001b[49m\u001b[43m(\u001b[49m\u001b[43mconn\u001b[49m\u001b[43m,\u001b[49m\u001b[43m \u001b[49m\u001b[43mcommand_name\u001b[49m\u001b[43m,\u001b[49m\u001b[43m \u001b[49m\u001b[38;5;241;43m*\u001b[39;49m\u001b[38;5;241;43m*\u001b[39;49m\u001b[43moptions\u001b[49m\u001b[43m)\u001b[49m\n",
      "File \u001b[0;32m~/miniconda3/envs/graph/lib/python3.11/site-packages/redis/client.py:562\u001b[0m, in \u001b[0;36mRedis.parse_response\u001b[0;34m(self, connection, command_name, **options)\u001b[0m\n\u001b[1;32m    560\u001b[0m         options\u001b[38;5;241m.\u001b[39mpop(NEVER_DECODE)\n\u001b[1;32m    561\u001b[0m     \u001b[38;5;28;01melse\u001b[39;00m:\n\u001b[0;32m--> 562\u001b[0m         response \u001b[38;5;241m=\u001b[39m \u001b[43mconnection\u001b[49m\u001b[38;5;241;43m.\u001b[39;49m\u001b[43mread_response\u001b[49m\u001b[43m(\u001b[49m\u001b[43m)\u001b[49m\n\u001b[1;32m    563\u001b[0m \u001b[38;5;28;01mexcept\u001b[39;00m ResponseError:\n\u001b[1;32m    564\u001b[0m     \u001b[38;5;28;01mif\u001b[39;00m EMPTY_RESPONSE \u001b[38;5;129;01min\u001b[39;00m options:\n",
      "File \u001b[0;32m~/miniconda3/envs/graph/lib/python3.11/site-packages/redis/connection.py:536\u001b[0m, in \u001b[0;36mAbstractConnection.read_response\u001b[0;34m(self, disable_decoding, disconnect_on_error, push_request)\u001b[0m\n\u001b[1;32m    534\u001b[0m \u001b[38;5;28;01mif\u001b[39;00m \u001b[38;5;28misinstance\u001b[39m(response, ResponseError):\n\u001b[1;32m    535\u001b[0m     \u001b[38;5;28;01mtry\u001b[39;00m:\n\u001b[0;32m--> 536\u001b[0m         \u001b[38;5;28;01mraise\u001b[39;00m response\n\u001b[1;32m    537\u001b[0m     \u001b[38;5;28;01mfinally\u001b[39;00m:\n\u001b[1;32m    538\u001b[0m         \u001b[38;5;28;01mdel\u001b[39;00m response  \u001b[38;5;66;03m# avoid creating ref cycles\u001b[39;00m\n",
      "\u001b[0;31mResponseError\u001b[0m: Procedure `apoc.meta.data` is not registered"
     ]
    }
   ],
   "source": [
    "g.query(node_properties_query)"
   ]
  },
  {
   "cell_type": "code",
   "execution_count": 53,
   "metadata": {},
   "outputs": [
    {
     "name": "stderr",
     "output_type": "stream",
     "text": [
      "INFO:httpx:HTTP Request: POST https://api.openai.com/v1/chat/completions \"HTTP/1.1 200 OK\"\n"
     ]
    },
    {
     "name": "stdout",
     "output_type": "stream",
     "text": [
      "To find out the ages during which Jeff Bezos spent time on the farm, we need to look for the relationship that specifies the age range during which he spent time at a specific place. According to the schema, this information is captured in the `SPENT_SUMMERS` relationship which includes an `age_range` property. Here's the Cypher query to retrieve this information:\n",
      "\n",
      "```cypher\n",
      "MATCH (p:Person {name: \"Jeff Bezos\"})-[r:SPENT_SUMMERS]->(pl:Place {name: \"ranch\"})\n",
      "RETURN r.age_range AS AgeRange\n",
      "```\n",
      "\n",
      "This query matches the `Person` node for \"Jeff Bezos\" that has a `SPENT_SUMMERS` relationship with a `Place` node named \"ranch\" and returns the age range during which Jeff Bezos spent his summers there.\n"
     ]
    }
   ],
   "source": [
    "QUESTION_GEN_PROMPT = f\"\"\"\n",
    "You’re a Cypher expert, with access to the following graph:\n",
    "\n",
    "The knowledge graph schema is as follows:\n",
    "\n",
    "The graph contains the following node labels:\n",
    "\n",
    "{node_text}\n",
    "\n",
    "the Module label has {node_length} number of nodes.\n",
    "\n",
    "The graph contains the following relationship types:\n",
    "\n",
    "{relationship_text}\n",
    "This is the end of the knowledge graph schema description.\n",
    "\n",
    "Ensure to generate the cypher query for the question passed to you\n",
    "\"\"\"\n",
    "\n",
    "def create_query(question):\n",
    "    response = client.chat.completions.create(\n",
    "    model=\"gpt-4-turbo\",\n",
    "    temperature=0.0,\n",
    "    messages=[\n",
    "        {\"role\": \"system\", \"content\": QUESTION_GEN_PROMPT},\n",
    "        {\"role\": \"user\", \"content\": f\"{question}\"},\n",
    "    ]\n",
    "    )\n",
    "    return response.choices[0].message.content\n",
    "\n",
    "ans = create_query(\"What ages did jeff live on the farm?\")\n",
    "print(ans)"
   ]
  },
  {
   "cell_type": "code",
   "execution_count": 59,
   "metadata": {},
   "outputs": [
    {
     "name": "stdout",
     "output_type": "stream",
     "text": [
      "[['from age four to 16']]\n"
     ]
    }
   ],
   "source": [
    "ans = g.query(\"MATCH (p:Person {name: 'Jeff Bezos'})-[r:SPENT_SUMMERS]->(pl:Place {name: 'ranch'}) RETURN r.age_range AS AgeRange\")\n",
    "print(ans.result_set)"
   ]
  },
  {
   "cell_type": "code",
   "execution_count": 13,
   "metadata": {},
   "outputs": [
    {
     "name": "stdout",
     "output_type": "stream",
     "text": [
      "aenter called\n"
     ]
    },
    {
     "ename": "ServiceUnavailable",
     "evalue": "Couldn't connect to localhost:8000 (resolved to ()):\nFailed to establish connection to ResolvedIPv4Address(('127.0.0.1', 8000)) (reason [Errno 111] Connection refused)",
     "output_type": "error",
     "traceback": [
      "\u001b[0;31m---------------------------------------------------------------------------\u001b[0m",
      "\u001b[0;31mConnectionRefusedError\u001b[0m                    Traceback (most recent call last)",
      "File \u001b[0;32m~/miniconda3/envs/graph/lib/python3.11/site-packages/neo4j/_async_compat/network/_bolt_socket.py:528\u001b[0m, in \u001b[0;36mBoltSocket._connect\u001b[0;34m(cls, resolved_address, timeout, keep_alive)\u001b[0m\n\u001b[1;32m    527\u001b[0m log\u001b[38;5;241m.\u001b[39mdebug(\u001b[38;5;124m\"\u001b[39m\u001b[38;5;124m[#0000]  C: <OPEN> \u001b[39m\u001b[38;5;132;01m%s\u001b[39;00m\u001b[38;5;124m\"\u001b[39m, resolved_address)\n\u001b[0;32m--> 528\u001b[0m \u001b[43ms\u001b[49m\u001b[38;5;241;43m.\u001b[39;49m\u001b[43mconnect\u001b[49m\u001b[43m(\u001b[49m\u001b[43mresolved_address\u001b[49m\u001b[43m)\u001b[49m\n\u001b[1;32m    529\u001b[0m s\u001b[38;5;241m.\u001b[39msettimeout(t)\n",
      "\u001b[0;31mConnectionRefusedError\u001b[0m: [Errno 111] Connection refused",
      "\nThe above exception was the direct cause of the following exception:\n",
      "\u001b[0;31mServiceUnavailable\u001b[0m                        Traceback (most recent call last)",
      "File \u001b[0;32m~/miniconda3/envs/graph/lib/python3.11/site-packages/neo4j/_async_compat/network/_bolt_socket.py:690\u001b[0m, in \u001b[0;36mBoltSocket.connect\u001b[0;34m(cls, address, tcp_timeout, deadline, custom_resolver, ssl_context, keep_alive)\u001b[0m\n\u001b[1;32m    689\u001b[0m \u001b[38;5;28;01mtry\u001b[39;00m:\n\u001b[0;32m--> 690\u001b[0m     s \u001b[38;5;241m=\u001b[39m \u001b[43mBoltSocket\u001b[49m\u001b[38;5;241;43m.\u001b[39;49m\u001b[43m_connect\u001b[49m\u001b[43m(\u001b[49m\u001b[43mresolved_address\u001b[49m\u001b[43m,\u001b[49m\u001b[43m \u001b[49m\u001b[43mtcp_timeout\u001b[49m\u001b[43m,\u001b[49m\n\u001b[1;32m    691\u001b[0m \u001b[43m                            \u001b[49m\u001b[43mkeep_alive\u001b[49m\u001b[43m)\u001b[49m\n\u001b[1;32m    692\u001b[0m     s \u001b[38;5;241m=\u001b[39m BoltSocket\u001b[38;5;241m.\u001b[39m_secure(s, resolved_address\u001b[38;5;241m.\u001b[39m_host_name,\n\u001b[1;32m    693\u001b[0m                            ssl_context)\n",
      "File \u001b[0;32m~/miniconda3/envs/graph/lib/python3.11/site-packages/neo4j/_async_compat/network/_bolt_socket.py:546\u001b[0m, in \u001b[0;36mBoltSocket._connect\u001b[0;34m(cls, resolved_address, timeout, keep_alive)\u001b[0m\n\u001b[1;32m    545\u001b[0m \u001b[38;5;28;01mif\u001b[39;00m \u001b[38;5;28misinstance\u001b[39m(error, \u001b[38;5;167;01mOSError\u001b[39;00m):\n\u001b[0;32m--> 546\u001b[0m     \u001b[38;5;28;01mraise\u001b[39;00m ServiceUnavailable(\n\u001b[1;32m    547\u001b[0m         \u001b[38;5;124m\"\u001b[39m\u001b[38;5;124mFailed to establish connection to \u001b[39m\u001b[38;5;132;01m{!r}\u001b[39;00m\u001b[38;5;124m (reason \u001b[39m\u001b[38;5;132;01m{}\u001b[39;00m\u001b[38;5;124m)\u001b[39m\u001b[38;5;124m\"\u001b[39m\n\u001b[1;32m    548\u001b[0m         \u001b[38;5;241m.\u001b[39mformat(resolved_address, error)\n\u001b[1;32m    549\u001b[0m     ) \u001b[38;5;28;01mfrom\u001b[39;00m \u001b[38;5;21;01merror\u001b[39;00m\n\u001b[1;32m    550\u001b[0m \u001b[38;5;28;01mraise\u001b[39;00m\n",
      "\u001b[0;31mServiceUnavailable\u001b[0m: Failed to establish connection to ResolvedIPv4Address(('127.0.0.1', 8000)) (reason [Errno 111] Connection refused)",
      "\nThe above exception was the direct cause of the following exception:\n",
      "\u001b[0;31mServiceUnavailable\u001b[0m                        Traceback (most recent call last)",
      "Cell \u001b[0;32mIn[13], line 4\u001b[0m\n\u001b[1;32m      2\u001b[0m create_indices \u001b[38;5;241m=\u001b[39m \u001b[38;5;28;01mFalse\u001b[39;00m\n\u001b[1;32m      3\u001b[0m neo4j_graph \u001b[38;5;241m=\u001b[39m Neo4jGraphModel(edges\u001b[38;5;241m=\u001b[39mgraph, create_indices\u001b[38;5;241m=\u001b[39mcreate_indices)\n\u001b[0;32m----> 4\u001b[0m \u001b[43mneo4j_graph\u001b[49m\u001b[38;5;241;43m.\u001b[39;49m\u001b[43msave\u001b[49m\u001b[43m(\u001b[49m\u001b[43m)\u001b[49m\n",
      "File \u001b[0;32m~/github/graph_maker/graph_maker/neo4j_graph_model.py:65\u001b[0m, in \u001b[0;36mNeo4jGraphModel.save\u001b[0;34m(self)\u001b[0m\n\u001b[1;32m     63\u001b[0m \u001b[38;5;28;01mfor\u001b[39;00m edge \u001b[38;5;129;01min\u001b[39;00m \u001b[38;5;28mself\u001b[39m\u001b[38;5;241m.\u001b[39m_edges:\n\u001b[1;32m     64\u001b[0m     \u001b[38;5;28;01mwith\u001b[39;00m neo4jDb() \u001b[38;5;28;01mas\u001b[39;00m db:\n\u001b[0;32m---> 65\u001b[0m \u001b[43m        \u001b[49m\u001b[38;5;28;43;01mwith\u001b[39;49;00m\u001b[43m \u001b[49m\u001b[43mdb\u001b[49m\u001b[38;5;241;43m.\u001b[39;49m\u001b[43mtransaction\u001b[49m\u001b[43m:\u001b[49m\n\u001b[1;32m     66\u001b[0m \u001b[43m            \u001b[49m\u001b[43m[\u001b[49m\u001b[43mentity_1\u001b[49m\u001b[43m,\u001b[49m\u001b[43m \u001b[49m\u001b[43mentity_2\u001b[49m\u001b[43m]\u001b[49m\u001b[43m \u001b[49m\u001b[38;5;241;43m=\u001b[39;49m\u001b[43m \u001b[49m\u001b[43mEntity\u001b[49m\u001b[38;5;241;43m.\u001b[39;49m\u001b[43mget_or_create\u001b[49m\u001b[43m(\u001b[49m\n\u001b[1;32m     67\u001b[0m \u001b[43m                \u001b[49m\u001b[43medge\u001b[49m\u001b[38;5;241;43m.\u001b[39;49m\u001b[43mnode_1\u001b[49m\u001b[38;5;241;43m.\u001b[39;49m\u001b[43mmodel_dump\u001b[49m\u001b[43m(\u001b[49m\u001b[43m)\u001b[49m\u001b[43m,\u001b[49m\u001b[43m \u001b[49m\u001b[43medge\u001b[49m\u001b[38;5;241;43m.\u001b[39;49m\u001b[43mnode_2\u001b[49m\u001b[38;5;241;43m.\u001b[39;49m\u001b[43mmodel_dump\u001b[49m\u001b[43m(\u001b[49m\u001b[43m)\u001b[49m\n\u001b[1;32m     68\u001b[0m \u001b[43m            \u001b[49m\u001b[43m)\u001b[49m\n\u001b[1;32m     69\u001b[0m \u001b[43m            \u001b[49m\u001b[43mentity_1\u001b[49m\u001b[38;5;241;43m.\u001b[39;49m\u001b[43mrelationship\u001b[49m\u001b[38;5;241;43m.\u001b[39;49m\u001b[43mconnect\u001b[49m\u001b[43m(\u001b[49m\n\u001b[1;32m     70\u001b[0m \u001b[43m                \u001b[49m\u001b[43mentity_2\u001b[49m\u001b[43m,\u001b[49m\n\u001b[1;32m     71\u001b[0m \u001b[43m                \u001b[49m\u001b[43m{\u001b[49m\n\u001b[0;32m   (...)\u001b[0m\n\u001b[1;32m     74\u001b[0m \u001b[43m                \u001b[49m\u001b[43m}\u001b[49m\u001b[43m,\u001b[49m\n\u001b[1;32m     75\u001b[0m \u001b[43m            \u001b[49m\u001b[43m)\u001b[49m\n",
      "File \u001b[0;32m~/miniconda3/envs/graph/lib/python3.11/site-packages/neomodel/sync_/core.py:83\u001b[0m, in \u001b[0;36mensure_connection.<locals>.wrapper\u001b[0;34m(self, *args, **kwargs)\u001b[0m\n\u001b[1;32m     80\u001b[0m     \u001b[38;5;28;01melif\u001b[39;00m \u001b[38;5;28mhasattr\u001b[39m(config, \u001b[38;5;124m\"\u001b[39m\u001b[38;5;124mDRIVER\u001b[39m\u001b[38;5;124m\"\u001b[39m) \u001b[38;5;129;01mand\u001b[39;00m config\u001b[38;5;241m.\u001b[39mDRIVER:\n\u001b[1;32m     81\u001b[0m         _db\u001b[38;5;241m.\u001b[39mset_connection(driver\u001b[38;5;241m=\u001b[39mconfig\u001b[38;5;241m.\u001b[39mDRIVER)\n\u001b[0;32m---> 83\u001b[0m \u001b[38;5;28;01mreturn\u001b[39;00m \u001b[43mfunc\u001b[49m\u001b[43m(\u001b[49m\u001b[38;5;28;43mself\u001b[39;49m\u001b[43m,\u001b[49m\u001b[43m \u001b[49m\u001b[38;5;241;43m*\u001b[39;49m\u001b[43margs\u001b[49m\u001b[43m,\u001b[49m\u001b[43m \u001b[49m\u001b[38;5;241;43m*\u001b[39;49m\u001b[38;5;241;43m*\u001b[39;49m\u001b[43mkwargs\u001b[49m\u001b[43m)\u001b[49m\n",
      "File \u001b[0;32m~/miniconda3/envs/graph/lib/python3.11/site-packages/neomodel/sync_/core.py:936\u001b[0m, in \u001b[0;36mTransactionProxy.__enter__\u001b[0;34m(self)\u001b[0m\n\u001b[1;32m    933\u001b[0m \u001b[38;5;129m@ensure_connection\u001b[39m\n\u001b[1;32m    934\u001b[0m \u001b[38;5;28;01mdef\u001b[39;00m \u001b[38;5;21m__enter__\u001b[39m(\u001b[38;5;28mself\u001b[39m):\n\u001b[1;32m    935\u001b[0m     \u001b[38;5;28mprint\u001b[39m(\u001b[38;5;124m\"\u001b[39m\u001b[38;5;124maenter called\u001b[39m\u001b[38;5;124m\"\u001b[39m)\n\u001b[0;32m--> 936\u001b[0m     \u001b[38;5;28;43mself\u001b[39;49m\u001b[38;5;241;43m.\u001b[39;49m\u001b[43mdb\u001b[49m\u001b[38;5;241;43m.\u001b[39;49m\u001b[43mbegin\u001b[49m\u001b[43m(\u001b[49m\u001b[43maccess_mode\u001b[49m\u001b[38;5;241;43m=\u001b[39;49m\u001b[38;5;28;43mself\u001b[39;49m\u001b[38;5;241;43m.\u001b[39;49m\u001b[43maccess_mode\u001b[49m\u001b[43m,\u001b[49m\u001b[43m \u001b[49m\u001b[43mbookmarks\u001b[49m\u001b[38;5;241;43m=\u001b[39;49m\u001b[38;5;28;43mself\u001b[39;49m\u001b[38;5;241;43m.\u001b[39;49m\u001b[43mbookmarks\u001b[49m\u001b[43m)\u001b[49m\n\u001b[1;32m    937\u001b[0m     \u001b[38;5;28mself\u001b[39m\u001b[38;5;241m.\u001b[39mbookmarks \u001b[38;5;241m=\u001b[39m \u001b[38;5;28;01mNone\u001b[39;00m\n\u001b[1;32m    938\u001b[0m     \u001b[38;5;28;01mreturn\u001b[39;00m \u001b[38;5;28mself\u001b[39m\n",
      "File \u001b[0;32m~/miniconda3/envs/graph/lib/python3.11/site-packages/neomodel/sync_/core.py:83\u001b[0m, in \u001b[0;36mensure_connection.<locals>.wrapper\u001b[0;34m(self, *args, **kwargs)\u001b[0m\n\u001b[1;32m     80\u001b[0m     \u001b[38;5;28;01melif\u001b[39;00m \u001b[38;5;28mhasattr\u001b[39m(config, \u001b[38;5;124m\"\u001b[39m\u001b[38;5;124mDRIVER\u001b[39m\u001b[38;5;124m\"\u001b[39m) \u001b[38;5;129;01mand\u001b[39;00m config\u001b[38;5;241m.\u001b[39mDRIVER:\n\u001b[1;32m     81\u001b[0m         _db\u001b[38;5;241m.\u001b[39mset_connection(driver\u001b[38;5;241m=\u001b[39mconfig\u001b[38;5;241m.\u001b[39mDRIVER)\n\u001b[0;32m---> 83\u001b[0m \u001b[38;5;28;01mreturn\u001b[39;00m \u001b[43mfunc\u001b[49m\u001b[43m(\u001b[49m\u001b[38;5;28;43mself\u001b[39;49m\u001b[43m,\u001b[49m\u001b[43m \u001b[49m\u001b[38;5;241;43m*\u001b[39;49m\u001b[43margs\u001b[49m\u001b[43m,\u001b[49m\u001b[43m \u001b[49m\u001b[38;5;241;43m*\u001b[39;49m\u001b[38;5;241;43m*\u001b[39;49m\u001b[43mkwargs\u001b[49m\u001b[43m)\u001b[49m\n",
      "File \u001b[0;32m~/miniconda3/envs/graph/lib/python3.11/site-packages/neomodel/sync_/core.py:273\u001b[0m, in \u001b[0;36mDatabase.begin\u001b[0;34m(self, access_mode, **parameters)\u001b[0m\n\u001b[1;32m    266\u001b[0m     \u001b[38;5;28;01mraise\u001b[39;00m \u001b[38;5;167;01mSystemError\u001b[39;00m(\u001b[38;5;124m\"\u001b[39m\u001b[38;5;124mTransaction in progress\u001b[39m\u001b[38;5;124m\"\u001b[39m)\n\u001b[1;32m    267\u001b[0m \u001b[38;5;28mself\u001b[39m\u001b[38;5;241m.\u001b[39m_session: Session \u001b[38;5;241m=\u001b[39m \u001b[38;5;28mself\u001b[39m\u001b[38;5;241m.\u001b[39mdriver\u001b[38;5;241m.\u001b[39msession(\n\u001b[1;32m    268\u001b[0m     default_access_mode\u001b[38;5;241m=\u001b[39maccess_mode,\n\u001b[1;32m    269\u001b[0m     database\u001b[38;5;241m=\u001b[39m\u001b[38;5;28mself\u001b[39m\u001b[38;5;241m.\u001b[39m_database_name,\n\u001b[1;32m    270\u001b[0m     impersonated_user\u001b[38;5;241m=\u001b[39m\u001b[38;5;28mself\u001b[39m\u001b[38;5;241m.\u001b[39mimpersonated_user,\n\u001b[1;32m    271\u001b[0m     \u001b[38;5;241m*\u001b[39m\u001b[38;5;241m*\u001b[39mparameters,\n\u001b[1;32m    272\u001b[0m )\n\u001b[0;32m--> 273\u001b[0m \u001b[38;5;28mself\u001b[39m\u001b[38;5;241m.\u001b[39m_active_transaction: Transaction \u001b[38;5;241m=\u001b[39m \u001b[38;5;28;43mself\u001b[39;49m\u001b[38;5;241;43m.\u001b[39;49m\u001b[43m_session\u001b[49m\u001b[38;5;241;43m.\u001b[39;49m\u001b[43mbegin_transaction\u001b[49m\u001b[43m(\u001b[49m\u001b[43m)\u001b[49m\n",
      "File \u001b[0;32m~/miniconda3/envs/graph/lib/python3.11/site-packages/neo4j/_sync/work/session.py:501\u001b[0m, in \u001b[0;36mSession.begin_transaction\u001b[0;34m(self, metadata, timeout)\u001b[0m\n\u001b[1;32m    496\u001b[0m \u001b[38;5;28;01mif\u001b[39;00m \u001b[38;5;28mself\u001b[39m\u001b[38;5;241m.\u001b[39m_transaction:\n\u001b[1;32m    497\u001b[0m     \u001b[38;5;28;01mraise\u001b[39;00m TransactionError(\n\u001b[1;32m    498\u001b[0m         \u001b[38;5;28mself\u001b[39m\u001b[38;5;241m.\u001b[39m_transaction, \u001b[38;5;124m\"\u001b[39m\u001b[38;5;124mExplicit transaction already open\u001b[39m\u001b[38;5;124m\"\u001b[39m\n\u001b[1;32m    499\u001b[0m     )\n\u001b[0;32m--> 501\u001b[0m \u001b[38;5;28;43mself\u001b[39;49m\u001b[38;5;241;43m.\u001b[39;49m\u001b[43m_open_transaction\u001b[49m\u001b[43m(\u001b[49m\n\u001b[1;32m    502\u001b[0m \u001b[43m    \u001b[49m\u001b[43mtx_cls\u001b[49m\u001b[38;5;241;43m=\u001b[39;49m\u001b[43mTransaction\u001b[49m\u001b[43m,\u001b[49m\u001b[43m \u001b[49m\u001b[43mapi\u001b[49m\u001b[38;5;241;43m=\u001b[39;49m\u001b[43mTelemetryAPI\u001b[49m\u001b[38;5;241;43m.\u001b[39;49m\u001b[43mTX\u001b[49m\u001b[43m,\u001b[49m\n\u001b[1;32m    503\u001b[0m \u001b[43m    \u001b[49m\u001b[43maccess_mode\u001b[49m\u001b[38;5;241;43m=\u001b[39;49m\u001b[38;5;28;43mself\u001b[39;49m\u001b[38;5;241;43m.\u001b[39;49m\u001b[43m_config\u001b[49m\u001b[38;5;241;43m.\u001b[39;49m\u001b[43mdefault_access_mode\u001b[49m\u001b[43m,\u001b[49m\u001b[43m \u001b[49m\u001b[43mmetadata\u001b[49m\u001b[38;5;241;43m=\u001b[39;49m\u001b[43mmetadata\u001b[49m\u001b[43m,\u001b[49m\n\u001b[1;32m    504\u001b[0m \u001b[43m    \u001b[49m\u001b[43mtimeout\u001b[49m\u001b[38;5;241;43m=\u001b[39;49m\u001b[43mtimeout\u001b[49m\n\u001b[1;32m    505\u001b[0m \u001b[43m\u001b[49m\u001b[43m)\u001b[49m\n\u001b[1;32m    507\u001b[0m \u001b[38;5;28;01mreturn\u001b[39;00m t\u001b[38;5;241m.\u001b[39mcast(Transaction, \u001b[38;5;28mself\u001b[39m\u001b[38;5;241m.\u001b[39m_transaction)\n",
      "File \u001b[0;32m~/miniconda3/envs/graph/lib/python3.11/site-packages/neo4j/_sync/work/session.py:423\u001b[0m, in \u001b[0;36mSession._open_transaction\u001b[0;34m(self, tx_cls, access_mode, api, metadata, timeout, api_success_cb)\u001b[0m\n\u001b[1;32m    412\u001b[0m \u001b[38;5;28;01mdef\u001b[39;00m \u001b[38;5;21m_open_transaction\u001b[39m(\n\u001b[1;32m    413\u001b[0m     \u001b[38;5;28mself\u001b[39m,\n\u001b[1;32m    414\u001b[0m     \u001b[38;5;241m*\u001b[39m,\n\u001b[0;32m   (...)\u001b[0m\n\u001b[1;32m    421\u001b[0m     api_success_cb: t\u001b[38;5;241m.\u001b[39mOptional[t\u001b[38;5;241m.\u001b[39mCallable[[\u001b[38;5;28mdict\u001b[39m], \u001b[38;5;28;01mNone\u001b[39;00m]] \u001b[38;5;241m=\u001b[39m \u001b[38;5;28;01mNone\u001b[39;00m,\n\u001b[1;32m    422\u001b[0m ) \u001b[38;5;241m-\u001b[39m\u001b[38;5;241m>\u001b[39m \u001b[38;5;28;01mNone\u001b[39;00m:\n\u001b[0;32m--> 423\u001b[0m     \u001b[38;5;28;43mself\u001b[39;49m\u001b[38;5;241;43m.\u001b[39;49m\u001b[43m_connect\u001b[49m\u001b[43m(\u001b[49m\u001b[43maccess_mode\u001b[49m\u001b[38;5;241;43m=\u001b[39;49m\u001b[43maccess_mode\u001b[49m\u001b[43m)\u001b[49m\n\u001b[1;32m    424\u001b[0m     \u001b[38;5;28;01massert\u001b[39;00m \u001b[38;5;28mself\u001b[39m\u001b[38;5;241m.\u001b[39m_connection \u001b[38;5;129;01mis\u001b[39;00m \u001b[38;5;129;01mnot\u001b[39;00m \u001b[38;5;28;01mNone\u001b[39;00m\n\u001b[1;32m    425\u001b[0m     \u001b[38;5;28;01mif\u001b[39;00m api \u001b[38;5;129;01mis\u001b[39;00m \u001b[38;5;129;01mnot\u001b[39;00m \u001b[38;5;28;01mNone\u001b[39;00m:\n",
      "File \u001b[0;32m~/miniconda3/envs/graph/lib/python3.11/site-packages/neo4j/_sync/work/session.py:130\u001b[0m, in \u001b[0;36mSession._connect\u001b[0;34m(self, access_mode, **acquire_kwargs)\u001b[0m\n\u001b[1;32m    128\u001b[0m     access_mode \u001b[38;5;241m=\u001b[39m \u001b[38;5;28mself\u001b[39m\u001b[38;5;241m.\u001b[39m_config\u001b[38;5;241m.\u001b[39mdefault_access_mode\n\u001b[1;32m    129\u001b[0m \u001b[38;5;28;01mtry\u001b[39;00m:\n\u001b[0;32m--> 130\u001b[0m     \u001b[38;5;28;43msuper\u001b[39;49m\u001b[43m(\u001b[49m\u001b[43m)\u001b[49m\u001b[38;5;241;43m.\u001b[39;49m\u001b[43m_connect\u001b[49m\u001b[43m(\u001b[49m\n\u001b[1;32m    131\u001b[0m \u001b[43m        \u001b[49m\u001b[43maccess_mode\u001b[49m\u001b[43m,\u001b[49m\u001b[43m \u001b[49m\u001b[43mauth\u001b[49m\u001b[38;5;241;43m=\u001b[39;49m\u001b[38;5;28;43mself\u001b[39;49m\u001b[38;5;241;43m.\u001b[39;49m\u001b[43m_config\u001b[49m\u001b[38;5;241;43m.\u001b[39;49m\u001b[43mauth\u001b[49m\u001b[43m,\u001b[49m\u001b[43m \u001b[49m\u001b[38;5;241;43m*\u001b[39;49m\u001b[38;5;241;43m*\u001b[39;49m\u001b[43macquire_kwargs\u001b[49m\n\u001b[1;32m    132\u001b[0m \u001b[43m    \u001b[49m\u001b[43m)\u001b[49m\n\u001b[1;32m    133\u001b[0m \u001b[38;5;28;01mexcept\u001b[39;00m asyncio\u001b[38;5;241m.\u001b[39mCancelledError:\n\u001b[1;32m    134\u001b[0m     \u001b[38;5;28mself\u001b[39m\u001b[38;5;241m.\u001b[39m_handle_cancellation(message\u001b[38;5;241m=\u001b[39m\u001b[38;5;124m\"\u001b[39m\u001b[38;5;124m_connect\u001b[39m\u001b[38;5;124m\"\u001b[39m)\n",
      "File \u001b[0;32m~/miniconda3/envs/graph/lib/python3.11/site-packages/neo4j/_sync/work/workspace.py:178\u001b[0m, in \u001b[0;36mWorkspace._connect\u001b[0;34m(self, access_mode, auth, **acquire_kwargs)\u001b[0m\n\u001b[1;32m    169\u001b[0m acquire_kwargs_ \u001b[38;5;241m=\u001b[39m {\n\u001b[1;32m    170\u001b[0m     \u001b[38;5;124m\"\u001b[39m\u001b[38;5;124maccess_mode\u001b[39m\u001b[38;5;124m\"\u001b[39m: access_mode,\n\u001b[1;32m    171\u001b[0m     \u001b[38;5;124m\"\u001b[39m\u001b[38;5;124mtimeout\u001b[39m\u001b[38;5;124m\"\u001b[39m: acquisition_timeout,\n\u001b[0;32m   (...)\u001b[0m\n\u001b[1;32m    175\u001b[0m     \u001b[38;5;124m\"\u001b[39m\u001b[38;5;124mliveness_check_timeout\u001b[39m\u001b[38;5;124m\"\u001b[39m: \u001b[38;5;28;01mNone\u001b[39;00m,\n\u001b[1;32m    176\u001b[0m }\n\u001b[1;32m    177\u001b[0m acquire_kwargs_\u001b[38;5;241m.\u001b[39mupdate(acquire_kwargs)\n\u001b[0;32m--> 178\u001b[0m \u001b[38;5;28mself\u001b[39m\u001b[38;5;241m.\u001b[39m_connection \u001b[38;5;241m=\u001b[39m \u001b[38;5;28;43mself\u001b[39;49m\u001b[38;5;241;43m.\u001b[39;49m\u001b[43m_pool\u001b[49m\u001b[38;5;241;43m.\u001b[39;49m\u001b[43macquire\u001b[49m\u001b[43m(\u001b[49m\u001b[38;5;241;43m*\u001b[39;49m\u001b[38;5;241;43m*\u001b[39;49m\u001b[43macquire_kwargs_\u001b[49m\u001b[43m)\u001b[49m\n\u001b[1;32m    179\u001b[0m \u001b[38;5;28mself\u001b[39m\u001b[38;5;241m.\u001b[39m_connection_access_mode \u001b[38;5;241m=\u001b[39m access_mode\n",
      "File \u001b[0;32m~/miniconda3/envs/graph/lib/python3.11/site-packages/neo4j/_sync/io/_pool.py:526\u001b[0m, in \u001b[0;36mBoltPool.acquire\u001b[0;34m(self, access_mode, timeout, database, bookmarks, auth, liveness_check_timeout)\u001b[0m\n\u001b[1;32m    523\u001b[0m log\u001b[38;5;241m.\u001b[39mdebug(\u001b[38;5;124m\"\u001b[39m\u001b[38;5;124m[#0000]  _: <POOL> acquire direct connection, \u001b[39m\u001b[38;5;124m\"\u001b[39m\n\u001b[1;32m    524\u001b[0m           \u001b[38;5;124m\"\u001b[39m\u001b[38;5;124maccess_mode=\u001b[39m\u001b[38;5;132;01m%r\u001b[39;00m\u001b[38;5;124m, database=\u001b[39m\u001b[38;5;132;01m%r\u001b[39;00m\u001b[38;5;124m\"\u001b[39m, access_mode, database)\n\u001b[1;32m    525\u001b[0m deadline \u001b[38;5;241m=\u001b[39m Deadline\u001b[38;5;241m.\u001b[39mfrom_timeout_or_deadline(timeout)\n\u001b[0;32m--> 526\u001b[0m \u001b[38;5;28;01mreturn\u001b[39;00m \u001b[38;5;28;43mself\u001b[39;49m\u001b[38;5;241;43m.\u001b[39;49m\u001b[43m_acquire\u001b[49m\u001b[43m(\u001b[49m\n\u001b[1;32m    527\u001b[0m \u001b[43m    \u001b[49m\u001b[38;5;28;43mself\u001b[39;49m\u001b[38;5;241;43m.\u001b[39;49m\u001b[43maddress\u001b[49m\u001b[43m,\u001b[49m\u001b[43m \u001b[49m\u001b[43mauth\u001b[49m\u001b[43m,\u001b[49m\u001b[43m \u001b[49m\u001b[43mdeadline\u001b[49m\u001b[43m,\u001b[49m\u001b[43m \u001b[49m\u001b[43mliveness_check_timeout\u001b[49m\n\u001b[1;32m    528\u001b[0m \u001b[43m\u001b[49m\u001b[43m)\u001b[49m\n",
      "File \u001b[0;32m~/miniconda3/envs/graph/lib/python3.11/site-packages/neo4j/_sync/io/_pool.py:313\u001b[0m, in \u001b[0;36mIOPool._acquire\u001b[0;34m(self, address, auth, deadline, liveness_check_timeout)\u001b[0m\n\u001b[1;32m    308\u001b[0m             \u001b[38;5;28;01mraise\u001b[39;00m ClientError(\n\u001b[1;32m    309\u001b[0m                 \u001b[38;5;124m\"\u001b[39m\u001b[38;5;124mfailed to obtain a connection from the pool within \u001b[39m\u001b[38;5;124m\"\u001b[39m\n\u001b[1;32m    310\u001b[0m                 \u001b[38;5;124m\"\u001b[39m\u001b[38;5;132;01m{!r}\u001b[39;00m\u001b[38;5;124ms (timeout)\u001b[39m\u001b[38;5;124m\"\u001b[39m\u001b[38;5;241m.\u001b[39mformat(deadline\u001b[38;5;241m.\u001b[39moriginal_timeout)\n\u001b[1;32m    311\u001b[0m             )\n\u001b[1;32m    312\u001b[0m log\u001b[38;5;241m.\u001b[39mdebug(\u001b[38;5;124m\"\u001b[39m\u001b[38;5;124m[#0000]  _: <POOL> trying to hand out new connection\u001b[39m\u001b[38;5;124m\"\u001b[39m)\n\u001b[0;32m--> 313\u001b[0m \u001b[38;5;28;01mreturn\u001b[39;00m \u001b[43mconnection_creator\u001b[49m\u001b[43m(\u001b[49m\u001b[43m)\u001b[49m\n",
      "File \u001b[0;32m~/miniconda3/envs/graph/lib/python3.11/site-packages/neo4j/_sync/io/_pool.py:163\u001b[0m, in \u001b[0;36mIOPool._acquire_new_later.<locals>.connection_creator\u001b[0;34m()\u001b[0m\n\u001b[1;32m    161\u001b[0m \u001b[38;5;28;01mtry\u001b[39;00m:\n\u001b[1;32m    162\u001b[0m     \u001b[38;5;28;01mtry\u001b[39;00m:\n\u001b[0;32m--> 163\u001b[0m         connection \u001b[38;5;241m=\u001b[39m \u001b[38;5;28;43mself\u001b[39;49m\u001b[38;5;241;43m.\u001b[39;49m\u001b[43mopener\u001b[49m\u001b[43m(\u001b[49m\n\u001b[1;32m    164\u001b[0m \u001b[43m            \u001b[49m\u001b[43maddress\u001b[49m\u001b[43m,\u001b[49m\u001b[43m \u001b[49m\u001b[43mauth\u001b[49m\u001b[43m \u001b[49m\u001b[38;5;129;43;01mor\u001b[39;49;00m\u001b[43m \u001b[49m\u001b[38;5;28;43mself\u001b[39;49m\u001b[38;5;241;43m.\u001b[39;49m\u001b[43mpool_config\u001b[49m\u001b[38;5;241;43m.\u001b[39;49m\u001b[43mauth\u001b[49m\u001b[43m,\u001b[49m\u001b[43m \u001b[49m\u001b[43mdeadline\u001b[49m\n\u001b[1;32m    165\u001b[0m \u001b[43m        \u001b[49m\u001b[43m)\u001b[49m\n\u001b[1;32m    166\u001b[0m     \u001b[38;5;28;01mexcept\u001b[39;00m ServiceUnavailable:\n\u001b[1;32m    167\u001b[0m         \u001b[38;5;28mself\u001b[39m\u001b[38;5;241m.\u001b[39mdeactivate(address)\n",
      "File \u001b[0;32m~/miniconda3/envs/graph/lib/python3.11/site-packages/neo4j/_sync/io/_pool.py:500\u001b[0m, in \u001b[0;36mBoltPool.open.<locals>.opener\u001b[0;34m(addr, auth_manager, deadline)\u001b[0m\n\u001b[1;32m    499\u001b[0m \u001b[38;5;28;01mdef\u001b[39;00m \u001b[38;5;21mopener\u001b[39m(addr, auth_manager, deadline):\n\u001b[0;32m--> 500\u001b[0m     \u001b[38;5;28;01mreturn\u001b[39;00m \u001b[43mBolt\u001b[49m\u001b[38;5;241;43m.\u001b[39;49m\u001b[43mopen\u001b[49m\u001b[43m(\u001b[49m\n\u001b[1;32m    501\u001b[0m \u001b[43m        \u001b[49m\u001b[43maddr\u001b[49m\u001b[43m,\u001b[49m\u001b[43m \u001b[49m\u001b[43mauth_manager\u001b[49m\u001b[38;5;241;43m=\u001b[39;49m\u001b[43mauth_manager\u001b[49m\u001b[43m,\u001b[49m\u001b[43m \u001b[49m\u001b[43mdeadline\u001b[49m\u001b[38;5;241;43m=\u001b[39;49m\u001b[43mdeadline\u001b[49m\u001b[43m,\u001b[49m\n\u001b[1;32m    502\u001b[0m \u001b[43m        \u001b[49m\u001b[43mrouting_context\u001b[49m\u001b[38;5;241;43m=\u001b[39;49m\u001b[38;5;28;43;01mNone\u001b[39;49;00m\u001b[43m,\u001b[49m\u001b[43m \u001b[49m\u001b[43mpool_config\u001b[49m\u001b[38;5;241;43m=\u001b[39;49m\u001b[43mpool_config\u001b[49m\n\u001b[1;32m    503\u001b[0m \u001b[43m    \u001b[49m\u001b[43m)\u001b[49m\n",
      "File \u001b[0;32m~/miniconda3/envs/graph/lib/python3.11/site-packages/neo4j/_sync/io/_bolt.py:401\u001b[0m, in \u001b[0;36mBolt.open\u001b[0;34m(cls, address, auth_manager, deadline, routing_context, pool_config)\u001b[0m\n\u001b[1;32m    397\u001b[0m \u001b[38;5;28;01mif\u001b[39;00m deadline \u001b[38;5;129;01mis\u001b[39;00m \u001b[38;5;28;01mNone\u001b[39;00m:\n\u001b[1;32m    398\u001b[0m     deadline \u001b[38;5;241m=\u001b[39m Deadline(\u001b[38;5;28;01mNone\u001b[39;00m)\n\u001b[1;32m    400\u001b[0m s, protocol_version, handshake, data \u001b[38;5;241m=\u001b[39m \\\n\u001b[0;32m--> 401\u001b[0m     \u001b[43mBoltSocket\u001b[49m\u001b[38;5;241;43m.\u001b[39;49m\u001b[43mconnect\u001b[49m\u001b[43m(\u001b[49m\n\u001b[1;32m    402\u001b[0m \u001b[43m        \u001b[49m\u001b[43maddress\u001b[49m\u001b[43m,\u001b[49m\n\u001b[1;32m    403\u001b[0m \u001b[43m        \u001b[49m\u001b[43mtcp_timeout\u001b[49m\u001b[38;5;241;43m=\u001b[39;49m\u001b[43mpool_config\u001b[49m\u001b[38;5;241;43m.\u001b[39;49m\u001b[43mconnection_timeout\u001b[49m\u001b[43m,\u001b[49m\n\u001b[1;32m    404\u001b[0m \u001b[43m        \u001b[49m\u001b[43mdeadline\u001b[49m\u001b[38;5;241;43m=\u001b[39;49m\u001b[43mdeadline\u001b[49m\u001b[43m,\u001b[49m\n\u001b[1;32m    405\u001b[0m \u001b[43m        \u001b[49m\u001b[43mcustom_resolver\u001b[49m\u001b[38;5;241;43m=\u001b[39;49m\u001b[43mpool_config\u001b[49m\u001b[38;5;241;43m.\u001b[39;49m\u001b[43mresolver\u001b[49m\u001b[43m,\u001b[49m\n\u001b[1;32m    406\u001b[0m \u001b[43m        \u001b[49m\u001b[43mssl_context\u001b[49m\u001b[38;5;241;43m=\u001b[39;49m\u001b[43mpool_config\u001b[49m\u001b[38;5;241;43m.\u001b[39;49m\u001b[43mget_ssl_context\u001b[49m\u001b[43m(\u001b[49m\u001b[43m)\u001b[49m\u001b[43m,\u001b[49m\n\u001b[1;32m    407\u001b[0m \u001b[43m        \u001b[49m\u001b[43mkeep_alive\u001b[49m\u001b[38;5;241;43m=\u001b[39;49m\u001b[43mpool_config\u001b[49m\u001b[38;5;241;43m.\u001b[39;49m\u001b[43mkeep_alive\u001b[49m\u001b[43m,\u001b[49m\n\u001b[1;32m    408\u001b[0m \u001b[43m    \u001b[49m\u001b[43m)\u001b[49m\n\u001b[1;32m    410\u001b[0m pool_config\u001b[38;5;241m.\u001b[39mprotocol_version \u001b[38;5;241m=\u001b[39m protocol_version\n\u001b[1;32m    412\u001b[0m \u001b[38;5;66;03m# Carry out Bolt subclass imports locally to avoid circular dependency\u001b[39;00m\n\u001b[1;32m    413\u001b[0m \u001b[38;5;66;03m# issues.\u001b[39;00m\n",
      "File \u001b[0;32m~/miniconda3/envs/graph/lib/python3.11/site-packages/neo4j/_async_compat/network/_bolt_socket.py:718\u001b[0m, in \u001b[0;36mBoltSocket.connect\u001b[0;34m(cls, address, tcp_timeout, deadline, custom_resolver, ssl_context, keep_alive)\u001b[0m\n\u001b[1;32m    713\u001b[0m     \u001b[38;5;28;01mraise\u001b[39;00m ServiceUnavailable(\n\u001b[1;32m    714\u001b[0m         \u001b[38;5;124m\"\u001b[39m\u001b[38;5;124mCouldn\u001b[39m\u001b[38;5;124m'\u001b[39m\u001b[38;5;124mt connect to \u001b[39m\u001b[38;5;132;01m%s\u001b[39;00m\u001b[38;5;124m (resolved to \u001b[39m\u001b[38;5;132;01m%s\u001b[39;00m\u001b[38;5;124m)\u001b[39m\u001b[38;5;124m\"\u001b[39m \u001b[38;5;241m%\u001b[39m (\n\u001b[1;32m    715\u001b[0m             \u001b[38;5;28mstr\u001b[39m(address), \u001b[38;5;28mtuple\u001b[39m(\u001b[38;5;28mmap\u001b[39m(\u001b[38;5;28mstr\u001b[39m, resolved_addresses)))\n\u001b[1;32m    716\u001b[0m     )\n\u001b[1;32m    717\u001b[0m \u001b[38;5;28;01melse\u001b[39;00m:\n\u001b[0;32m--> 718\u001b[0m     \u001b[38;5;28;01mraise\u001b[39;00m ServiceUnavailable(\n\u001b[1;32m    719\u001b[0m         \u001b[38;5;124m\"\u001b[39m\u001b[38;5;124mCouldn\u001b[39m\u001b[38;5;124m'\u001b[39m\u001b[38;5;124mt connect to \u001b[39m\u001b[38;5;132;01m%s\u001b[39;00m\u001b[38;5;124m (resolved to \u001b[39m\u001b[38;5;132;01m%s\u001b[39;00m\u001b[38;5;124m):\u001b[39m\u001b[38;5;130;01m\\n\u001b[39;00m\u001b[38;5;132;01m%s\u001b[39;00m\u001b[38;5;124m\"\u001b[39m \u001b[38;5;241m%\u001b[39m (\n\u001b[1;32m    720\u001b[0m             \u001b[38;5;28mstr\u001b[39m(address), \u001b[38;5;28mtuple\u001b[39m(\u001b[38;5;28mmap\u001b[39m(\u001b[38;5;28mstr\u001b[39m, resolved_addresses)),\n\u001b[1;32m    721\u001b[0m             \u001b[38;5;124m\"\u001b[39m\u001b[38;5;130;01m\\n\u001b[39;00m\u001b[38;5;124m\"\u001b[39m\u001b[38;5;241m.\u001b[39mjoin(\u001b[38;5;28mmap\u001b[39m(\u001b[38;5;28mstr\u001b[39m, errors))\n\u001b[1;32m    722\u001b[0m         )\n\u001b[1;32m    723\u001b[0m     ) \u001b[38;5;28;01mfrom\u001b[39;00m \u001b[38;5;21;01merrors\u001b[39;00m[\u001b[38;5;241m0\u001b[39m]\n",
      "\u001b[0;31mServiceUnavailable\u001b[0m: Couldn't connect to localhost:8000 (resolved to ()):\nFailed to establish connection to ResolvedIPv4Address(('127.0.0.1', 8000)) (reason [Errno 111] Connection refused)"
     ]
    }
   ],
   "source": [
    "from graph_maker import Neo4jGraphModel\n",
    "create_indices = False\n",
    "neo4j_graph = Neo4jGraphModel(edges=graph, create_indices=create_indices)\n",
    "neo4j_graph.save()"
   ]
  },
  {
   "cell_type": "code",
   "execution_count": 1,
   "metadata": {},
   "outputs": [],
   "source": [
    "from query.test import ProcessConversation, CreateGraph, RetrieveFromGraph"
   ]
  },
  {
   "cell_type": "code",
   "execution_count": 2,
   "metadata": {},
   "outputs": [
    {
     "name": "stderr",
     "output_type": "stream",
     "text": [
      "INFO:httpx:HTTP Request: POST https://api.openai.com/v1/chat/completions \"HTTP/1.1 200 OK\"\n",
      "\u001b[92m\u001b[39m\n",
      "\u001b[92m▶︎ GRAPH MAKER LOG - 2024-05-28 15:53:01 - INFO \u001b[39m\n",
      "\u001b[92mDocument: 1\u001b[39m\n",
      "\u001b[92m\u001b[39m\n",
      "\u001b[34m\u001b[39m\n",
      "\u001b[34m▶︎ GRAPH MAKER VERBOSE - 2024-05-28 15:53:01 - INFO \u001b[39m\n",
      "\u001b[34mUsing Ontology:\n",
      "labels=[{'Person': 'Person name without any adjectives, Remember a person may be references by their name or using a pronoun'}, {'Object': \"Do not add the definite article 'the' in the object name\"}, {'Event': 'Event event involving multiple people. Do include qualifiers or verbs like gives, leaves, works etc.'}, 'Place', 'Document', 'Organisation', 'Action', {'Miscellanous': 'Any important concept can not be categorised with any other given label'}] relationships=['Relation between any pair of Entities']\u001b[39m\n",
      "\u001b[34m\u001b[39m\n"
     ]
    },
    {
     "name": "stdout",
     "output_type": "stream",
     "text": [
      "start:0.089| end:5.632| speaker:Lex Fridman| text: The following is a conversation with Jeff Bezos, founder of Amazon and Blue Origin.\n",
      "start:6.352| end:10.895| speaker:Lex Fridman| text:This is Jeff Bezos's first time doing a conversation of this kind and of this length.\n",
      "start:11.435| end:16.878| speaker:Lex Fridman| text:And as Jeff Bezos told Lex Fridman, it felt like Jeff Bezos and Lex Fridman could have easily talked for many more hours, and Lex Fridman is sure Lex Fridman and Jeff Bezos will.\n",
      "start:17.818| end:19.519| speaker:Lex Fridman| text:This is the Lex Friedman Podcast.\n",
      "start:19.859| end:23.321| speaker:Lex Fridman| text:And now, dear friends, here's Jeff Bezos.\n",
      "start:24.619| end:29.321| speaker:Lex Fridman| text: Jeff Bezos spent a lot of Jeff Bezos's childhood with Jeff Bezos's grandfather on a ranch here in Texas.\n",
      "start:30.301| end:32.902| speaker:Lex Fridman| text:And Lex Fridman heard Jeff Bezos had a lot of work to do around the ranch.\n",
      "start:33.002| end:34.842| speaker:Lex Fridman| text:So what's the coolest job Jeff Bezos remember doing there?\n",
      "start:35.362| end:36.263| speaker:Jeff Bezos| text:Wow, coolest.\n",
      "start:37.183| end:37.883| speaker:Lex Fridman| text:Most interesting.\n",
      "start:37.943| end:39.104| speaker:Lex Fridman| text:Most memorable.\n",
      "start:39.164| end:40.524| speaker:Jeff Bezos| text:Most memorable.\n",
      "start:40.544| end:41.785| speaker:Jeff Bezos| text:Most impactful.\n",
      "start:41.845| end:44.525| speaker:Jeff Bezos| text:It's a real working ranch.\n",
      "start:44.745| end:48.747| speaker:Jeff Bezos| text:And Jeff Bezos spent all Jeff Bezos's summers on that ranch from age four to 16.\n",
      "start:49.507| end:52.628| speaker:Jeff Bezos| text:And Jeff Bezos's grandfather was really taking Jeff Bezos in the summers and the\n",
      "start:52.908| end:60.456| speaker:Jeff Bezos| text: In the early summers, Jeff Bezos's grandfather was letting Jeff Bezos pretend to help on the ranch because, of course, a four-year-old is a burden, not a help in real life.\n",
      "start:61.137| end:63.6| speaker:Jeff Bezos| text:Jeff Bezos's grandfather was really just watching Jeff Bezos and taking care of Jeff Bezos.\n",
      "start:63.62| end:67.945| speaker:Jeff Bezos| text:Jeff Bezos's grandfather was doing that because Jeff Bezos's mom was so young.\n",
      "start:67.985| end:74.291| speaker:Jeff Bezos| text:Jeff Bezos's mom had Jeff Bezos when Jeff Bezos's mom was 17, and so Jeff Bezos's grandfather was sort of giving her a break, and Jeff Bezos's grandmother and Jeff Bezos's grandfather would take Jeff Bezos for the summers.\n",
      "Using Model:  gpt-4-turbo\n"
     ]
    },
    {
     "name": "stderr",
     "output_type": "stream",
     "text": [
      "INFO:httpx:HTTP Request: POST https://api.openai.com/v1/chat/completions \"HTTP/1.1 200 OK\"\n",
      "\u001b[34m\u001b[39m\n",
      "\u001b[34m▶︎ GRAPH MAKER VERBOSE - 2024-05-28 15:53:14 - INFO \u001b[39m\n",
      "\u001b[34mLLM Response:\n",
      "[\n",
      "    {\n",
      "        \"node_1\": {\"label\": \"Person\", \"name\": \"Jeff Bezos\"},\n",
      "        \"node_2\": {\"label\": \"Organisation\", \"name\": \"Amazon\"},\n",
      "        \"relationship\": \"Jeff Bezos is the founder of Amazon.\"\n",
      "    },\n",
      "    {\n",
      "        \"node_1\": {\"label\": \"Person\", \"name\": \"Jeff Bezos\"},\n",
      "        \"node_2\": {\"label\": \"Organisation\", \"name\": \"Blue Origin\"},\n",
      "        \"relationship\": \"Jeff Bezos is the founder of Blue Origin.\"\n",
      "    },\n",
      "    {\n",
      "        \"node_1\": {\"label\": \"Person\", \"name\": \"Jeff Bezos\"},\n",
      "        \"node_2\": {\"label\": \"Person\", \"name\": \"Lex Fridman\"},\n",
      "        \"relationship\": \"Jeff Bezos had a conversation with Lex Fridman.\"\n",
      "    },\n",
      "    {\n",
      "        \"node_1\": {\"label\": \"Person\", \"name\": \"Lex Fridman\"},\n",
      "        \"node_2\": {\"label\": \"Person\", \"name\": \"Jeff Bezos\"},\n",
      "        \"relationship\": \"Lex Fridman had a conversation with Jeff Bezos.\"\n",
      "    },\n",
      "    {\n",
      "        \"node_1\": {\"label\": \"Person\", \"name\": \"Lex Fridman\"},\n",
      "        \"node_2\": {\"label\": \"Person\", \"name\": \"Jeff Bezos\"},\n",
      "        \"relationship\": \"Lex Fridman believes that he and Jeff Bezos could have talked for many more hours.\"\n",
      "    }\n",
      "]\u001b[39m\n",
      "\u001b[34m\u001b[39m\n",
      "\u001b[92m\u001b[39m\n",
      "\u001b[92m▶︎ GRAPH MAKER LOG - 2024-05-28 15:53:14 - INFO \u001b[39m\n",
      "\u001b[92mTrying JSON Parsing: \n",
      "[\n",
      "    {\n",
      "        \"node_1\": {\"label\": \"Person\", \"name\": \"Jeff Bezos\"},\n",
      "        \"node_2\": {\"label\": \"Organisation\", \"name\": \"Amazon\"},\n",
      "        \"relationship\": \"Jeff Bezos is the founder of Amazon.\"\n",
      "    },\n",
      "    {\n",
      "        \"node_1\": {\"label\": \"Person\", \"name\": \"Jeff Bezos\"},\n",
      "        \"node_2\": {\"label\": \"Organisation\", \"name\": \"Blue Origin\"},\n",
      "        \"relationship\": \"Jeff Bezos is the founder of Blue Origin.\"\n",
      "    },\n",
      "    {\n",
      "        \"node_1\": {\"label\": \"Person\", \"name\": \"Jeff Bezos\"},\n",
      "        \"node_2\": {\"label\": \"Person\", \"name\": \"Lex Fridman\"},\n",
      "        \"relationship\": \"Jeff Bezos had a conversation with Lex Fridman.\"\n",
      "    },\n",
      "    {\n",
      "        \"node_1\": {\"label\": \"Person\", \"name\": \"Lex Fridman\"},\n",
      "        \"node_2\": {\"label\": \"Person\", \"name\": \"Jeff Bezos\"},\n",
      "        \"relationship\": \"Lex Fridman had a conversation with Jeff Bezos.\"\n",
      "    },\n",
      "    {\n",
      "        \"node_1\": {\"label\": \"Person\", \"name\": \"Lex Fridman\"},\n",
      "        \"node_2\": {\"label\": \"Person\", \"name\": \"Jeff Bezos\"},\n",
      "        \"relationship\": \"Lex Fridman believes that he and Jeff Bezos could have talked for many more hours.\"\n",
      "    }\n",
      "]\u001b[39m\n",
      "\u001b[92m\u001b[39m\n",
      "\u001b[92m\u001b[39m\n",
      "\u001b[92m▶︎ GRAPH MAKER LOG - 2024-05-28 15:53:14 - INFO \u001b[39m\n",
      "\u001b[92mJSON Parsing Successful!\u001b[39m\n",
      "\u001b[92m\u001b[39m\n",
      "\u001b[92m\u001b[39m\n",
      "\u001b[92m▶︎ GRAPH MAKER LOG - 2024-05-28 15:53:24 - INFO \u001b[39m\n",
      "\u001b[92mDocument: 2\u001b[39m\n",
      "\u001b[92m\u001b[39m\n",
      "\u001b[34m\u001b[39m\n",
      "\u001b[34m▶︎ GRAPH MAKER VERBOSE - 2024-05-28 15:53:24 - INFO \u001b[39m\n",
      "\u001b[34mUsing Ontology:\n",
      "labels=[{'Person': 'Person name without any adjectives, Remember a person may be references by their name or using a pronoun'}, {'Object': \"Do not add the definite article 'the' in the object name\"}, {'Event': 'Event event involving multiple people. Do include qualifiers or verbs like gives, leaves, works etc.'}, 'Place', 'Document', 'Organisation', 'Action', {'Miscellanous': 'Any important concept can not be categorised with any other given label'}] relationships=['Relation between any pair of Entities']\u001b[39m\n",
      "\u001b[34m\u001b[39m\n"
     ]
    },
    {
     "name": "stdout",
     "output_type": "stream",
     "text": [
      "Using Model:  gpt-4-turbo\n"
     ]
    },
    {
     "name": "stderr",
     "output_type": "stream",
     "text": [
      "INFO:httpx:HTTP Request: POST https://api.openai.com/v1/chat/completions \"HTTP/1.1 200 OK\"\n",
      "\u001b[34m\u001b[39m\n",
      "\u001b[34m▶︎ GRAPH MAKER VERBOSE - 2024-05-28 15:53:33 - INFO \u001b[39m\n",
      "\u001b[34mLLM Response:\n",
      "[\n",
      "    {\n",
      "        \"node_1\": {\"label\": \"Person\", \"name\": \"Jeff Bezos\"},\n",
      "        \"node_2\": {\"label\": \"Person\", \"name\": \"Lex Friedman\"},\n",
      "        \"relationship\": \"Jeff Bezos is a guest on the Lex Friedman Podcast.\"\n",
      "    },\n",
      "    {\n",
      "        \"node_1\": {\"label\": \"Person\", \"name\": \"Jeff Bezos\"},\n",
      "        \"node_2\": {\"label\": \"Place\", \"name\": \"Texas\"},\n",
      "        \"relationship\": \"Jeff Bezos spent a lot of his childhood on a ranch in Texas.\"\n",
      "    },\n",
      "    {\n",
      "        \"node_1\": {\"label\": \"Person\", \"name\": \"Jeff Bezos\"},\n",
      "        \"node_2\": {\"label\": \"Person\", \"name\": \"Jeff Bezos's grandfather\"},\n",
      "        \"relationship\": \"Jeff Bezos spent a lot of his childhood with his grandfather.\"\n",
      "    }\n",
      "]\u001b[39m\n",
      "\u001b[34m\u001b[39m\n",
      "\u001b[92m\u001b[39m\n",
      "\u001b[92m▶︎ GRAPH MAKER LOG - 2024-05-28 15:53:33 - INFO \u001b[39m\n",
      "\u001b[92mTrying JSON Parsing: \n",
      "[\n",
      "    {\n",
      "        \"node_1\": {\"label\": \"Person\", \"name\": \"Jeff Bezos\"},\n",
      "        \"node_2\": {\"label\": \"Person\", \"name\": \"Lex Friedman\"},\n",
      "        \"relationship\": \"Jeff Bezos is a guest on the Lex Friedman Podcast.\"\n",
      "    },\n",
      "    {\n",
      "        \"node_1\": {\"label\": \"Person\", \"name\": \"Jeff Bezos\"},\n",
      "        \"node_2\": {\"label\": \"Place\", \"name\": \"Texas\"},\n",
      "        \"relationship\": \"Jeff Bezos spent a lot of his childhood on a ranch in Texas.\"\n",
      "    },\n",
      "    {\n",
      "        \"node_1\": {\"label\": \"Person\", \"name\": \"Jeff Bezos\"},\n",
      "        \"node_2\": {\"label\": \"Person\", \"name\": \"Jeff Bezos's grandfather\"},\n",
      "        \"relationship\": \"Jeff Bezos spent a lot of his childhood with his grandfather.\"\n",
      "    }\n",
      "]\u001b[39m\n",
      "\u001b[92m\u001b[39m\n",
      "\u001b[92m\u001b[39m\n",
      "\u001b[92m▶︎ GRAPH MAKER LOG - 2024-05-28 15:53:33 - INFO \u001b[39m\n",
      "\u001b[92mJSON Parsing Successful!\u001b[39m\n",
      "\u001b[92m\u001b[39m\n",
      "\u001b[92m\u001b[39m\n",
      "\u001b[92m▶︎ GRAPH MAKER LOG - 2024-05-28 15:53:43 - INFO \u001b[39m\n",
      "\u001b[92mDocument: 3\u001b[39m\n",
      "\u001b[92m\u001b[39m\n",
      "\u001b[34m\u001b[39m\n",
      "\u001b[34m▶︎ GRAPH MAKER VERBOSE - 2024-05-28 15:53:43 - INFO \u001b[39m\n",
      "\u001b[34mUsing Ontology:\n",
      "labels=[{'Person': 'Person name without any adjectives, Remember a person may be references by their name or using a pronoun'}, {'Object': \"Do not add the definite article 'the' in the object name\"}, {'Event': 'Event event involving multiple people. Do include qualifiers or verbs like gives, leaves, works etc.'}, 'Place', 'Document', 'Organisation', 'Action', {'Miscellanous': 'Any important concept can not be categorised with any other given label'}] relationships=['Relation between any pair of Entities']\u001b[39m\n",
      "\u001b[34m\u001b[39m\n"
     ]
    },
    {
     "name": "stdout",
     "output_type": "stream",
     "text": [
      "Using Model:  gpt-4-turbo\n"
     ]
    },
    {
     "name": "stderr",
     "output_type": "stream",
     "text": [
      "INFO:httpx:HTTP Request: POST https://api.openai.com/v1/chat/completions \"HTTP/1.1 200 OK\"\n",
      "\u001b[34m\u001b[39m\n",
      "\u001b[34m▶︎ GRAPH MAKER VERBOSE - 2024-05-28 15:53:53 - INFO \u001b[39m\n",
      "\u001b[34mLLM Response:\n",
      "[\n",
      "    {\n",
      "        \"node_1\": {\"label\": \"Person\", \"name\": \"Lex Fridman\"},\n",
      "        \"node_2\": {\"label\": \"Person\", \"name\": \"Jeff Bezos\"},\n",
      "        \"relationship\": \"Lex Fridman heard about Jeff Bezos\"\n",
      "    },\n",
      "    {\n",
      "        \"node_1\": {\"label\": \"Person\", \"name\": \"Jeff Bezos\"},\n",
      "        \"node_2\": {\"label\": \"Place\", \"name\": \"ranch\"},\n",
      "        \"relationship\": \"Jeff Bezos had work to do around the ranch\"\n",
      "    },\n",
      "    {\n",
      "        \"node_1\": {\"label\": \"Person\", \"name\": \"Jeff Bezos\"},\n",
      "        \"node_2\": {\"label\": \"Action\", \"name\": \"coolest job\"},\n",
      "        \"relationship\": \"Jeff Bezos remembers doing the coolest job\"\n",
      "    }\n",
      "]\u001b[39m\n",
      "\u001b[34m\u001b[39m\n",
      "\u001b[92m\u001b[39m\n",
      "\u001b[92m▶︎ GRAPH MAKER LOG - 2024-05-28 15:53:53 - INFO \u001b[39m\n",
      "\u001b[92mTrying JSON Parsing: \n",
      "[\n",
      "    {\n",
      "        \"node_1\": {\"label\": \"Person\", \"name\": \"Lex Fridman\"},\n",
      "        \"node_2\": {\"label\": \"Person\", \"name\": \"Jeff Bezos\"},\n",
      "        \"relationship\": \"Lex Fridman heard about Jeff Bezos\"\n",
      "    },\n",
      "    {\n",
      "        \"node_1\": {\"label\": \"Person\", \"name\": \"Jeff Bezos\"},\n",
      "        \"node_2\": {\"label\": \"Place\", \"name\": \"ranch\"},\n",
      "        \"relationship\": \"Jeff Bezos had work to do around the ranch\"\n",
      "    },\n",
      "    {\n",
      "        \"node_1\": {\"label\": \"Person\", \"name\": \"Jeff Bezos\"},\n",
      "        \"node_2\": {\"label\": \"Action\", \"name\": \"coolest job\"},\n",
      "        \"relationship\": \"Jeff Bezos remembers doing the coolest job\"\n",
      "    }\n",
      "]\u001b[39m\n",
      "\u001b[92m\u001b[39m\n",
      "\u001b[92m\u001b[39m\n",
      "\u001b[92m▶︎ GRAPH MAKER LOG - 2024-05-28 15:53:53 - INFO \u001b[39m\n",
      "\u001b[92mJSON Parsing Successful!\u001b[39m\n",
      "\u001b[92m\u001b[39m\n",
      "\u001b[92m\u001b[39m\n",
      "\u001b[92m▶︎ GRAPH MAKER LOG - 2024-05-28 15:54:03 - INFO \u001b[39m\n",
      "\u001b[92mDocument: 4\u001b[39m\n",
      "\u001b[92m\u001b[39m\n",
      "\u001b[34m\u001b[39m\n",
      "\u001b[34m▶︎ GRAPH MAKER VERBOSE - 2024-05-28 15:54:03 - INFO \u001b[39m\n",
      "\u001b[34mUsing Ontology:\n",
      "labels=[{'Person': 'Person name without any adjectives, Remember a person may be references by their name or using a pronoun'}, {'Object': \"Do not add the definite article 'the' in the object name\"}, {'Event': 'Event event involving multiple people. Do include qualifiers or verbs like gives, leaves, works etc.'}, 'Place', 'Document', 'Organisation', 'Action', {'Miscellanous': 'Any important concept can not be categorised with any other given label'}] relationships=['Relation between any pair of Entities']\u001b[39m\n",
      "\u001b[34m\u001b[39m\n"
     ]
    },
    {
     "name": "stdout",
     "output_type": "stream",
     "text": [
      "Using Model:  gpt-4-turbo\n"
     ]
    },
    {
     "name": "stderr",
     "output_type": "stream",
     "text": [
      "INFO:httpx:HTTP Request: POST https://api.openai.com/v1/chat/completions \"HTTP/1.1 200 OK\"\n",
      "\u001b[34m\u001b[39m\n",
      "\u001b[34m▶︎ GRAPH MAKER VERBOSE - 2024-05-28 15:54:04 - INFO \u001b[39m\n",
      "\u001b[34mLLM Response:\n",
      "[]\u001b[39m\n",
      "\u001b[34m\u001b[39m\n",
      "\u001b[92m\u001b[39m\n",
      "\u001b[92m▶︎ GRAPH MAKER LOG - 2024-05-28 15:54:04 - INFO \u001b[39m\n",
      "\u001b[92mTrying JSON Parsing: \n",
      "[]\u001b[39m\n",
      "\u001b[92m\u001b[39m\n",
      "\u001b[92m\u001b[39m\n",
      "\u001b[92m▶︎ GRAPH MAKER LOG - 2024-05-28 15:54:04 - INFO \u001b[39m\n",
      "\u001b[92mJSON Parsing Successful!\u001b[39m\n",
      "\u001b[92m\u001b[39m\n",
      "\u001b[92m\u001b[39m\n",
      "\u001b[92m▶︎ GRAPH MAKER LOG - 2024-05-28 15:54:04 - INFO \u001b[39m\n",
      "\u001b[92mTrying Manual Parsing: \n",
      "[]\u001b[39m\n",
      "\u001b[92m\u001b[39m\n",
      "\u001b[92m\u001b[39m\n",
      "\u001b[92m▶︎ GRAPH MAKER LOG - 2024-05-28 15:54:04 - INFO \u001b[39m\n",
      "\u001b[92mManually exracted 1 Edges\u001b[39m\n",
      "\u001b[92m\u001b[39m\n",
      "\u001b[35m\u001b[39m\n",
      "\u001b[35m▶︎ GRAPH MAKER ERROR - 2024-05-28 15:54:04 - INFO \u001b[39m\n",
      "\u001b[35mFailed to parse the Edge: \n",
      "[{'type': 'missing', 'loc': ('node_1',), 'msg': 'Field required'}, {'type': 'missing', 'loc': ('node_2',), 'msg': 'Field required'}, {'type': 'missing', 'loc': ('relationship',), 'msg': 'Field required'}]\u001b[39m\n",
      "\u001b[35m\u001b[39m\n",
      "\u001b[34m\u001b[39m\n",
      "\u001b[34m▶︎ GRAPH MAKER VERBOSE - 2024-05-28 15:54:04 - INFO \u001b[39m\n",
      "\u001b[34mFAULTY EDGE: {}\u001b[39m\n",
      "\u001b[34m\u001b[39m\n",
      "\u001b[92m\u001b[39m\n",
      "\u001b[92m▶︎ GRAPH MAKER LOG - 2024-05-28 15:54:14 - INFO \u001b[39m\n",
      "\u001b[92mDocument: 5\u001b[39m\n",
      "\u001b[92m\u001b[39m\n",
      "\u001b[34m\u001b[39m\n",
      "\u001b[34m▶︎ GRAPH MAKER VERBOSE - 2024-05-28 15:54:14 - INFO \u001b[39m\n",
      "\u001b[34mUsing Ontology:\n",
      "labels=[{'Person': 'Person name without any adjectives, Remember a person may be references by their name or using a pronoun'}, {'Object': \"Do not add the definite article 'the' in the object name\"}, {'Event': 'Event event involving multiple people. Do include qualifiers or verbs like gives, leaves, works etc.'}, 'Place', 'Document', 'Organisation', 'Action', {'Miscellanous': 'Any important concept can not be categorised with any other given label'}] relationships=['Relation between any pair of Entities']\u001b[39m\n",
      "\u001b[34m\u001b[39m\n"
     ]
    },
    {
     "name": "stdout",
     "output_type": "stream",
     "text": [
      "Using Model:  gpt-4-turbo\n"
     ]
    },
    {
     "name": "stderr",
     "output_type": "stream",
     "text": [
      "INFO:httpx:HTTP Request: POST https://api.openai.com/v1/chat/completions \"HTTP/1.1 200 OK\"\n",
      "\u001b[34m\u001b[39m\n",
      "\u001b[34m▶︎ GRAPH MAKER VERBOSE - 2024-05-28 15:54:14 - INFO \u001b[39m\n",
      "\u001b[34mLLM Response:\n",
      "[]\u001b[39m\n",
      "\u001b[34m\u001b[39m\n",
      "\u001b[92m\u001b[39m\n",
      "\u001b[92m▶︎ GRAPH MAKER LOG - 2024-05-28 15:54:14 - INFO \u001b[39m\n",
      "\u001b[92mTrying JSON Parsing: \n",
      "[]\u001b[39m\n",
      "\u001b[92m\u001b[39m\n",
      "\u001b[92m\u001b[39m\n",
      "\u001b[92m▶︎ GRAPH MAKER LOG - 2024-05-28 15:54:14 - INFO \u001b[39m\n",
      "\u001b[92mJSON Parsing Successful!\u001b[39m\n",
      "\u001b[92m\u001b[39m\n",
      "\u001b[92m\u001b[39m\n",
      "\u001b[92m▶︎ GRAPH MAKER LOG - 2024-05-28 15:54:14 - INFO \u001b[39m\n",
      "\u001b[92mTrying Manual Parsing: \n",
      "[]\u001b[39m\n",
      "\u001b[92m\u001b[39m\n",
      "\u001b[92m\u001b[39m\n",
      "\u001b[92m▶︎ GRAPH MAKER LOG - 2024-05-28 15:54:14 - INFO \u001b[39m\n",
      "\u001b[92mManually exracted 1 Edges\u001b[39m\n",
      "\u001b[92m\u001b[39m\n",
      "\u001b[35m\u001b[39m\n",
      "\u001b[35m▶︎ GRAPH MAKER ERROR - 2024-05-28 15:54:14 - INFO \u001b[39m\n",
      "\u001b[35mFailed to parse the Edge: \n",
      "[{'type': 'missing', 'loc': ('node_1',), 'msg': 'Field required'}, {'type': 'missing', 'loc': ('node_2',), 'msg': 'Field required'}, {'type': 'missing', 'loc': ('relationship',), 'msg': 'Field required'}]\u001b[39m\n",
      "\u001b[35m\u001b[39m\n",
      "\u001b[34m\u001b[39m\n",
      "\u001b[34m▶︎ GRAPH MAKER VERBOSE - 2024-05-28 15:54:14 - INFO \u001b[39m\n",
      "\u001b[34mFAULTY EDGE: {}\u001b[39m\n",
      "\u001b[34m\u001b[39m\n",
      "\u001b[92m\u001b[39m\n",
      "\u001b[92m▶︎ GRAPH MAKER LOG - 2024-05-28 15:54:24 - INFO \u001b[39m\n",
      "\u001b[92mDocument: 6\u001b[39m\n",
      "\u001b[92m\u001b[39m\n",
      "\u001b[34m\u001b[39m\n",
      "\u001b[34m▶︎ GRAPH MAKER VERBOSE - 2024-05-28 15:54:24 - INFO \u001b[39m\n",
      "\u001b[34mUsing Ontology:\n",
      "labels=[{'Person': 'Person name without any adjectives, Remember a person may be references by their name or using a pronoun'}, {'Object': \"Do not add the definite article 'the' in the object name\"}, {'Event': 'Event event involving multiple people. Do include qualifiers or verbs like gives, leaves, works etc.'}, 'Place', 'Document', 'Organisation', 'Action', {'Miscellanous': 'Any important concept can not be categorised with any other given label'}] relationships=['Relation between any pair of Entities']\u001b[39m\n",
      "\u001b[34m\u001b[39m\n"
     ]
    },
    {
     "name": "stdout",
     "output_type": "stream",
     "text": [
      "Using Model:  gpt-4-turbo\n"
     ]
    },
    {
     "name": "stderr",
     "output_type": "stream",
     "text": [
      "INFO:httpx:HTTP Request: POST https://api.openai.com/v1/chat/completions \"HTTP/1.1 200 OK\"\n",
      "\u001b[34m\u001b[39m\n",
      "\u001b[34m▶︎ GRAPH MAKER VERBOSE - 2024-05-28 15:54:26 - INFO \u001b[39m\n",
      "\u001b[34mLLM Response:\n",
      "[]\u001b[39m\n",
      "\u001b[34m\u001b[39m\n",
      "\u001b[92m\u001b[39m\n",
      "\u001b[92m▶︎ GRAPH MAKER LOG - 2024-05-28 15:54:26 - INFO \u001b[39m\n",
      "\u001b[92mTrying JSON Parsing: \n",
      "[]\u001b[39m\n",
      "\u001b[92m\u001b[39m\n",
      "\u001b[92m\u001b[39m\n",
      "\u001b[92m▶︎ GRAPH MAKER LOG - 2024-05-28 15:54:26 - INFO \u001b[39m\n",
      "\u001b[92mJSON Parsing Successful!\u001b[39m\n",
      "\u001b[92m\u001b[39m\n",
      "\u001b[92m\u001b[39m\n",
      "\u001b[92m▶︎ GRAPH MAKER LOG - 2024-05-28 15:54:26 - INFO \u001b[39m\n",
      "\u001b[92mTrying Manual Parsing: \n",
      "[]\u001b[39m\n",
      "\u001b[92m\u001b[39m\n",
      "\u001b[92m\u001b[39m\n",
      "\u001b[92m▶︎ GRAPH MAKER LOG - 2024-05-28 15:54:26 - INFO \u001b[39m\n",
      "\u001b[92mManually exracted 1 Edges\u001b[39m\n",
      "\u001b[92m\u001b[39m\n",
      "\u001b[35m\u001b[39m\n",
      "\u001b[35m▶︎ GRAPH MAKER ERROR - 2024-05-28 15:54:26 - INFO \u001b[39m\n",
      "\u001b[35mFailed to parse the Edge: \n",
      "[{'type': 'missing', 'loc': ('node_1',), 'msg': 'Field required'}, {'type': 'missing', 'loc': ('node_2',), 'msg': 'Field required'}, {'type': 'missing', 'loc': ('relationship',), 'msg': 'Field required'}]\u001b[39m\n",
      "\u001b[35m\u001b[39m\n",
      "\u001b[34m\u001b[39m\n",
      "\u001b[34m▶︎ GRAPH MAKER VERBOSE - 2024-05-28 15:54:26 - INFO \u001b[39m\n",
      "\u001b[34mFAULTY EDGE: {}\u001b[39m\n",
      "\u001b[34m\u001b[39m\n",
      "\u001b[92m\u001b[39m\n",
      "\u001b[92m▶︎ GRAPH MAKER LOG - 2024-05-28 15:54:36 - INFO \u001b[39m\n",
      "\u001b[92mDocument: 7\u001b[39m\n",
      "\u001b[92m\u001b[39m\n",
      "\u001b[34m\u001b[39m\n",
      "\u001b[34m▶︎ GRAPH MAKER VERBOSE - 2024-05-28 15:54:36 - INFO \u001b[39m\n",
      "\u001b[34mUsing Ontology:\n",
      "labels=[{'Person': 'Person name without any adjectives, Remember a person may be references by their name or using a pronoun'}, {'Object': \"Do not add the definite article 'the' in the object name\"}, {'Event': 'Event event involving multiple people. Do include qualifiers or verbs like gives, leaves, works etc.'}, 'Place', 'Document', 'Organisation', 'Action', {'Miscellanous': 'Any important concept can not be categorised with any other given label'}] relationships=['Relation between any pair of Entities']\u001b[39m\n",
      "\u001b[34m\u001b[39m\n"
     ]
    },
    {
     "name": "stdout",
     "output_type": "stream",
     "text": [
      "Using Model:  gpt-4-turbo\n"
     ]
    },
    {
     "name": "stderr",
     "output_type": "stream",
     "text": [
      "INFO:httpx:HTTP Request: POST https://api.openai.com/v1/chat/completions \"HTTP/1.1 200 OK\"\n",
      "\u001b[34m\u001b[39m\n",
      "\u001b[34m▶︎ GRAPH MAKER VERBOSE - 2024-05-28 15:54:41 - INFO \u001b[39m\n",
      "\u001b[34mLLM Response:\n",
      "[\n",
      "    {\n",
      "        \"node_1\": {\"label\": \"Person\", \"name\": \"Jeff Bezos\"},\n",
      "        \"node_2\": {\"label\": \"Place\", \"name\": \"ranch\"},\n",
      "        \"relationship\": \"Jeff Bezos spent his summers at the ranch from age four to 16.\"\n",
      "    },\n",
      "    {\n",
      "        \"node_1\": {\"label\": \"Person\", \"name\": \"Jeff Bezos\"},\n",
      "        \"node_2\": {\"label\": \"Person\", \"name\": \"Jeff Bezos's grandfather\"},\n",
      "        \"relationship\": \"Jeff Bezos's grandfather took care of Jeff Bezos during the summers.\"\n",
      "    }\n",
      "]\u001b[39m\n",
      "\u001b[34m\u001b[39m\n",
      "\u001b[92m\u001b[39m\n",
      "\u001b[92m▶︎ GRAPH MAKER LOG - 2024-05-28 15:54:41 - INFO \u001b[39m\n",
      "\u001b[92mTrying JSON Parsing: \n",
      "[\n",
      "    {\n",
      "        \"node_1\": {\"label\": \"Person\", \"name\": \"Jeff Bezos\"},\n",
      "        \"node_2\": {\"label\": \"Place\", \"name\": \"ranch\"},\n",
      "        \"relationship\": \"Jeff Bezos spent his summers at the ranch from age four to 16.\"\n",
      "    },\n",
      "    {\n",
      "        \"node_1\": {\"label\": \"Person\", \"name\": \"Jeff Bezos\"},\n",
      "        \"node_2\": {\"label\": \"Person\", \"name\": \"Jeff Bezos's grandfather\"},\n",
      "        \"relationship\": \"Jeff Bezos's grandfather took care of Jeff Bezos during the summers.\"\n",
      "    }\n",
      "]\u001b[39m\n",
      "\u001b[92m\u001b[39m\n",
      "\u001b[92m\u001b[39m\n",
      "\u001b[92m▶︎ GRAPH MAKER LOG - 2024-05-28 15:54:41 - INFO \u001b[39m\n",
      "\u001b[92mJSON Parsing Successful!\u001b[39m\n",
      "\u001b[92m\u001b[39m\n",
      "\u001b[92m\u001b[39m\n",
      "\u001b[92m▶︎ GRAPH MAKER LOG - 2024-05-28 15:54:51 - INFO \u001b[39m\n",
      "\u001b[92mDocument: 8\u001b[39m\n",
      "\u001b[92m\u001b[39m\n",
      "\u001b[34m\u001b[39m\n",
      "\u001b[34m▶︎ GRAPH MAKER VERBOSE - 2024-05-28 15:54:51 - INFO \u001b[39m\n",
      "\u001b[34mUsing Ontology:\n",
      "labels=[{'Person': 'Person name without any adjectives, Remember a person may be references by their name or using a pronoun'}, {'Object': \"Do not add the definite article 'the' in the object name\"}, {'Event': 'Event event involving multiple people. Do include qualifiers or verbs like gives, leaves, works etc.'}, 'Place', 'Document', 'Organisation', 'Action', {'Miscellanous': 'Any important concept can not be categorised with any other given label'}] relationships=['Relation between any pair of Entities']\u001b[39m\n",
      "\u001b[34m\u001b[39m\n"
     ]
    },
    {
     "name": "stdout",
     "output_type": "stream",
     "text": [
      "Using Model:  gpt-4-turbo\n"
     ]
    },
    {
     "name": "stderr",
     "output_type": "stream",
     "text": [
      "INFO:httpx:HTTP Request: POST https://api.openai.com/v1/chat/completions \"HTTP/1.1 200 OK\"\n",
      "\u001b[34m\u001b[39m\n",
      "\u001b[34m▶︎ GRAPH MAKER VERBOSE - 2024-05-28 15:55:06 - INFO \u001b[39m\n",
      "\u001b[34mLLM Response:\n",
      "[\n",
      "    {\n",
      "        \"node_1\": {\"label\": \"Person\", \"name\": \"Jeff Bezos\"},\n",
      "        \"node_2\": {\"label\": \"Person\", \"name\": \"grandfather\"},\n",
      "        \"relationship\": \"Jeff Bezos's grandfather is the grandfather of Jeff Bezos.\"\n",
      "    },\n",
      "    {\n",
      "        \"node_1\": {\"label\": \"Person\", \"name\": \"Jeff Bezos\"},\n",
      "        \"node_2\": {\"label\": \"Person\", \"name\": \"mom\"},\n",
      "        \"relationship\": \"Jeff Bezos's mom is the mother of Jeff Bezos.\"\n",
      "    },\n",
      "    {\n",
      "        \"node_1\": {\"label\": \"Person\", \"name\": \"mom\"},\n",
      "        \"node_2\": {\"label\": \"Person\", \"name\": \"grandfather\"},\n",
      "        \"relationship\": \"The grandfather was giving a break to Jeff Bezos's mom because she was young.\"\n",
      "    },\n",
      "    {\n",
      "        \"node_1\": {\"label\": \"Person\", \"name\": \"grandfather\"},\n",
      "        \"node_2\": {\"label\": \"Person\", \"name\": \"grandmother\"},\n",
      "        \"relationship\": \"Jeff Bezos's grandfather and grandmother would take Jeff Bezos for the summers.\"\n",
      "    }\n",
      "]\u001b[39m\n",
      "\u001b[34m\u001b[39m\n",
      "\u001b[92m\u001b[39m\n",
      "\u001b[92m▶︎ GRAPH MAKER LOG - 2024-05-28 15:55:06 - INFO \u001b[39m\n",
      "\u001b[92mTrying JSON Parsing: \n",
      "[\n",
      "    {\n",
      "        \"node_1\": {\"label\": \"Person\", \"name\": \"Jeff Bezos\"},\n",
      "        \"node_2\": {\"label\": \"Person\", \"name\": \"grandfather\"},\n",
      "        \"relationship\": \"Jeff Bezos's grandfather is the grandfather of Jeff Bezos.\"\n",
      "    },\n",
      "    {\n",
      "        \"node_1\": {\"label\": \"Person\", \"name\": \"Jeff Bezos\"},\n",
      "        \"node_2\": {\"label\": \"Person\", \"name\": \"mom\"},\n",
      "        \"relationship\": \"Jeff Bezos's mom is the mother of Jeff Bezos.\"\n",
      "    },\n",
      "    {\n",
      "        \"node_1\": {\"label\": \"Person\", \"name\": \"mom\"},\n",
      "        \"node_2\": {\"label\": \"Person\", \"name\": \"grandfather\"},\n",
      "        \"relationship\": \"The grandfather was giving a break to Jeff Bezos's mom because she was young.\"\n",
      "    },\n",
      "    {\n",
      "        \"node_1\": {\"label\": \"Person\", \"name\": \"grandfather\"},\n",
      "        \"node_2\": {\"label\": \"Person\", \"name\": \"grandmother\"},\n",
      "        \"relationship\": \"Jeff Bezos's grandfather and grandmother would take Jeff Bezos for the summers.\"\n",
      "    }\n",
      "]\u001b[39m\n",
      "\u001b[92m\u001b[39m\n",
      "\u001b[92m\u001b[39m\n",
      "\u001b[92m▶︎ GRAPH MAKER LOG - 2024-05-28 15:55:06 - INFO \u001b[39m\n",
      "\u001b[92mJSON Parsing Successful!\u001b[39m\n",
      "\u001b[92m\u001b[39m\n"
     ]
    },
    {
     "name": "stdout",
     "output_type": "stream",
     "text": [
      "Graph creatd with total number of Edges: 17\n",
      "Person: Jeff Bezos --> Organisation:Amazon; rel:Jeff Bezos is the founder of Amazon.\n",
      "Person: Jeff Bezos --> Organisation:Blue Origin; rel:Jeff Bezos is the founder of Blue Origin.\n",
      "Person: Jeff Bezos --> Person:Lex Fridman; rel:Jeff Bezos had a conversation with Lex Fridman.\n",
      "Person: Lex Fridman --> Person:Jeff Bezos; rel:Lex Fridman had a conversation with Jeff Bezos.\n",
      "Person: Lex Fridman --> Person:Jeff Bezos; rel:Lex Fridman believes that he and Jeff Bezos could have talked for many more hours.\n",
      "Person: Jeff Bezos --> Person:Lex Friedman; rel:Jeff Bezos is a guest on the Lex Friedman Podcast.\n",
      "Person: Jeff Bezos --> Place:Texas; rel:Jeff Bezos spent a lot of his childhood on a ranch in Texas.\n",
      "Person: Jeff Bezos --> Person:Jeff Bezos's grandfather; rel:Jeff Bezos spent a lot of his childhood with his grandfather.\n",
      "Person: Lex Fridman --> Person:Jeff Bezos; rel:Lex Fridman heard about Jeff Bezos\n",
      "Person: Jeff Bezos --> Place:ranch; rel:Jeff Bezos had work to do around the ranch\n",
      "Person: Jeff Bezos --> Action:coolest job; rel:Jeff Bezos remembers doing the coolest job\n",
      "Person: Jeff Bezos --> Place:ranch; rel:Jeff Bezos spent his summers at the ranch from age four to 16.\n",
      "Person: Jeff Bezos --> Person:Jeff Bezos's grandfather; rel:Jeff Bezos's grandfather took care of Jeff Bezos during the summers.\n",
      "Person: Jeff Bezos --> Person:grandfather; rel:Jeff Bezos's grandfather is the grandfather of Jeff Bezos.\n",
      "Person: Jeff Bezos --> Person:mom; rel:Jeff Bezos's mom is the mother of Jeff Bezos.\n",
      "Person: mom --> Person:grandfather; rel:The grandfather was giving a break to Jeff Bezos's mom because she was young.\n",
      "Person: grandfather --> Person:grandmother; rel:Jeff Bezos's grandfather and grandmother would take Jeff Bezos for the summers.\n",
      "graph.html\n",
      "graph.html\n"
     ]
    },
    {
     "name": "stderr",
     "output_type": "stream",
     "text": [
      "INFO:httpx:HTTP Request: POST https://api.openai.com/v1/chat/completions \"HTTP/1.1 200 OK\"\n"
     ]
    }
   ],
   "source": [
    "docs = ProcessConversation.run(infile_file_path=\"./docs/bezos.txt\")\n",
    "graph = CreateGraph.run(docs=docs, graph_name=\"Convo-1\")"
   ]
  },
  {
   "cell_type": "code",
   "execution_count": 3,
   "metadata": {},
   "outputs": [
    {
     "name": "stdout",
     "output_type": "stream",
     "text": [
      "Speaker:Lex Fridman, Text:The following is a conversation with Jeff Bezos, founder of Amazon and Blue Origin.This is Jeff Bezos's first time doing a conversation of this kind and of this length.And as Jeff Bezos told Lex Fridman, it felt like Jeff Bezos and Lex Fridman could have easily talked for many more hours, and Lex Fridman is sure Lex Fridman and Jeff Bezos will.\n",
      "Speaker:Lex Fridman, Text:This is the Lex Friedman Podcast.And now, dear friends, here's Jeff Bezos.Jeff Bezos spent a lot of Jeff Bezos's childhood with Jeff Bezos's grandfather on a ranch here in Texas.\n",
      "Speaker:Lex Fridman, Text:And Lex Fridman heard Jeff Bezos had a lot of work to do around the ranch.So what's the coolest job Jeff Bezos remember doing there?\n",
      "Speaker:Jeff Bezos, Text:Wow, coolest.\n",
      "Speaker:Lex Fridman, Text:Most interesting.Most memorable.\n",
      "Speaker:Jeff Bezos, Text:Most memorable.Most impactful.It's a real working ranch.\n",
      "Speaker:Jeff Bezos, Text:And Jeff Bezos spent all Jeff Bezos's summers on that ranch from age four to 16.And Jeff Bezos's grandfather was really taking Jeff Bezos in the summers and theJeff Bezos's grandfather was really just watching Jeff Bezos and taking care of Jeff Bezos.\n",
      "Speaker:Jeff Bezos, Text:Jeff Bezos's grandfather was doing that because Jeff Bezos's mom was so young.Jeff Bezos's mom had Jeff Bezos when Jeff Bezos's mom was 17, and so Jeff Bezos's grandfather was sort of giving her a break, and Jeff Bezos's grandmother and Jeff Bezos's grandfather would take Jeff Bezos for the summers.\n"
     ]
    }
   ],
   "source": [
    "for doc in docs:\n",
    "    print(f\"Speaker:{doc.metadata['speaker']}, Text:{doc.text}\")"
   ]
  },
  {
   "cell_type": "code",
   "execution_count": 6,
   "metadata": {},
   "outputs": [
    {
     "ename": "TypeError",
     "evalue": "'Graph' object is not iterable",
     "output_type": "error",
     "traceback": [
      "\u001b[0;31m---------------------------------------------------------------------------\u001b[0m",
      "\u001b[0;31mTypeError\u001b[0m                                 Traceback (most recent call last)",
      "Cell \u001b[0;32mIn[6], line 1\u001b[0m\n\u001b[0;32m----> 1\u001b[0m \u001b[38;5;28;43;01mfor\u001b[39;49;00m\u001b[43m \u001b[49m\u001b[43mchunk\u001b[49m\u001b[43m \u001b[49m\u001b[38;5;129;43;01min\u001b[39;49;00m\u001b[43m \u001b[49m\u001b[43mgraph\u001b[49m\u001b[43m:\u001b[49m\n\u001b[1;32m      2\u001b[0m \u001b[43m            \u001b[49m\u001b[43mlabels\u001b[49m\u001b[43m \u001b[49m\u001b[38;5;241;43m=\u001b[39;49m\u001b[43m \u001b[49m\u001b[43m[\u001b[49m\u001b[43mchunk\u001b[49m\u001b[38;5;241;43m.\u001b[39;49m\u001b[43mnode_1\u001b[49m\u001b[38;5;241;43m.\u001b[39;49m\u001b[43mlabel\u001b[49m\u001b[43m,\u001b[49m\u001b[43m \u001b[49m\u001b[43mchunk\u001b[49m\u001b[38;5;241;43m.\u001b[39;49m\u001b[43mnode_2\u001b[49m\u001b[38;5;241;43m.\u001b[39;49m\u001b[43mlabel\u001b[49m\u001b[43m]\u001b[49m\n\u001b[1;32m      3\u001b[0m \u001b[43m            \u001b[49m\u001b[43mids\u001b[49m\u001b[43m \u001b[49m\u001b[38;5;241;43m=\u001b[39;49m\u001b[43m \u001b[49m\u001b[43m[\u001b[49m\u001b[43mchunk\u001b[49m\u001b[38;5;241;43m.\u001b[39;49m\u001b[43mnode_1\u001b[49m\u001b[38;5;241;43m.\u001b[39;49m\u001b[43mname\u001b[49m\u001b[43m,\u001b[49m\u001b[43m \u001b[49m\u001b[43mchunk\u001b[49m\u001b[38;5;241;43m.\u001b[39;49m\u001b[43mnode_2\u001b[49m\u001b[38;5;241;43m.\u001b[39;49m\u001b[43mname\u001b[49m\u001b[43m]\u001b[49m\n",
      "\u001b[0;31mTypeError\u001b[0m: 'Graph' object is not iterable"
     ]
    }
   ],
   "source": [
    "for chunk in graph:\n",
    "            labels = [chunk.node_1.label, chunk.node_2.label]\n",
    "            ids = [chunk.node_1.name, chunk.node_2.name]\n",
    "            relationship = chunk.relationship\n",
    "            print(f\"{labels[0]}: {ids[0]} --> {labels[1]}:{ids[1]}; rel:{relationship}\")"
   ]
  },
  {
   "cell_type": "code",
   "execution_count": 3,
   "metadata": {},
   "outputs": [
    {
     "name": "stdout",
     "output_type": "stream",
     "text": [
      "nodes are: (:Person{name:\"Jeff Bezos\"})\n",
      "(:Organisation{name:\"Amazon\"})\n",
      "(:Organisation{name:\"Blue Origin\"})\n",
      "(:Person{name:\"Lex Fridman\"})\n",
      "(:Event{name:\"Lex Friedman Podcast\"})\n",
      "(:Person{name:\"Jeff Bezos's grandfather\"})\n",
      "(:Place{name:\"ranch\"})\n",
      "(:Place{name:\"Texas\"})\n",
      "(:Action{name:\"coolest job\"})\n",
      "(:Person{name:\"Jeff Bezos's mom\"})\n",
      "(:Person{name:\"Jeff Bezos's grandmother\"})\n",
      "\n",
      "edges are: FOUNDED {role: Founder}\n",
      "CARED_FOR {during: summers}\n",
      "TOOK_FOR_SUMMERS\n",
      "GAVE_BREAK_TO {recipient: Jeff Bezos's mom}\n",
      "LIVED_AT\n",
      "HOST_OF\n",
      "LOCATED_IN\n",
      "HAD_AT_AGE {age: 17}\n",
      "SPENT_CHILDHOOD_WITH\n",
      "WORKED_AT {details: did a lot of work around}\n",
      "DID_JOB {name: coolest job}\n",
      "SPENT_SUMMERS_AT {age_range: age four to 16}\n",
      "INTERVIEWED_BY {details: could have talked for many more hours}\n",
      "GUEST_ON\n",
      "\n"
     ]
    },
    {
     "name": "stderr",
     "output_type": "stream",
     "text": [
      "INFO:httpx:HTTP Request: POST https://api.openai.com/v1/chat/completions \"HTTP/1.1 200 OK\"\n"
     ]
    },
    {
     "name": "stdout",
     "output_type": "stream",
     "text": [
      "QUERY: To find the ages at which Jeff Bezos spent his summers at the ranch, we can use the relationship `SPENT_SUMMERS_AT` which includes the age range. Here's the Cypher query to retrieve that information:\n",
      "\n",
      "```cypher\n",
      "MATCH (p:Person {name: \"Jeff Bezos\"})-[r:SPENT_SUMMERS_AT]->(pl:Place {name: \"ranch\"})\n",
      "RETURN r.age_range AS AgeRange\n",
      "```\n",
      "\n",
      "This query matches the person node for Jeff Bezos and finds the relationship to the place labeled \"ranch\" where the type of relationship is `SPENT_SUMMERS_AT`. It then returns the age range attribute from that relationship.\n",
      "['age four to 16']\n"
     ]
    }
   ],
   "source": [
    "graph_to_query = RetrieveFromGraph(graph_name=\"Convo-1\")\n",
    "nodes  = graph_to_query.view_nodes()\n",
    "edges = graph_to_query.view_edges()\n",
    "print(\"nodes are:\", nodes)\n",
    "print(\"edges are:\", edges)\n",
    "ans = graph_to_query.get_answer(\"What ages did jeff live on the farm?\")\n",
    "print(ans)\n",
    " #TODO need to break up text before indexing in the llm"
   ]
  }
 ],
 "metadata": {
  "kernelspec": {
   "display_name": "KG",
   "language": "python",
   "name": "python3"
  },
  "language_info": {
   "codemirror_mode": {
    "name": "ipython",
    "version": 3
   },
   "file_extension": ".py",
   "mimetype": "text/x-python",
   "name": "python",
   "nbconvert_exporter": "python",
   "pygments_lexer": "ipython3",
   "version": "3.11.0"
  }
 },
 "nbformat": 4,
 "nbformat_minor": 2
}
